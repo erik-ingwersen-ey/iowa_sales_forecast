{
 "cells": [
  {
   "cell_type": "code",
   "execution_count": 3,
   "id": "76e830dd-d5e2-439c-ac60-5b330782c82a",
   "metadata": {
    "execution": {
     "iopub.execute_input": "2024-08-06T01:20:37.957652Z",
     "iopub.status.busy": "2024-08-06T01:20:37.957243Z",
     "iopub.status.idle": "2024-08-06T01:22:03.338402Z",
     "shell.execute_reply": "2024-08-06T01:22:03.337020Z",
     "shell.execute_reply.started": "2024-08-06T01:20:37.957620Z"
    },
    "scrolled": true
   },
   "outputs": [
    {
     "name": "stdout",
     "output_type": "stream",
     "text": [
      "Collecting tensorflow\n",
      "  Downloading tensorflow-2.13.1-cp38-cp38-macosx_10_15_x86_64.whl.metadata (3.2 kB)\n",
      "Collecting absl-py>=1.0.0 (from tensorflow)\n",
      "  Downloading absl_py-2.1.0-py3-none-any.whl.metadata (2.3 kB)\n",
      "Collecting astunparse>=1.6.0 (from tensorflow)\n",
      "  Downloading astunparse-1.6.3-py2.py3-none-any.whl.metadata (4.4 kB)\n",
      "Collecting flatbuffers>=23.1.21 (from tensorflow)\n",
      "  Downloading flatbuffers-24.3.25-py2.py3-none-any.whl.metadata (850 bytes)\n",
      "Collecting gast<=0.4.0,>=0.2.1 (from tensorflow)\n",
      "  Downloading gast-0.4.0-py3-none-any.whl.metadata (1.1 kB)\n",
      "Collecting google-pasta>=0.1.1 (from tensorflow)\n",
      "  Downloading google_pasta-0.2.0-py3-none-any.whl.metadata (814 bytes)\n",
      "Collecting h5py>=2.9.0 (from tensorflow)\n",
      "  Downloading h5py-3.11.0-cp38-cp38-macosx_10_9_x86_64.whl.metadata (2.5 kB)\n",
      "Collecting libclang>=13.0.0 (from tensorflow)\n",
      "  Downloading libclang-18.1.1-py2.py3-none-macosx_10_9_x86_64.whl.metadata (5.2 kB)\n",
      "Collecting numpy<=1.24.3,>=1.22 (from tensorflow)\n",
      "  Downloading numpy-1.24.3-cp38-cp38-macosx_10_9_x86_64.whl.metadata (5.6 kB)\n",
      "Collecting opt-einsum>=2.3.2 (from tensorflow)\n",
      "  Downloading opt_einsum-3.3.0-py3-none-any.whl.metadata (6.5 kB)\n",
      "Requirement already satisfied: packaging in /opt/anaconda3/envs/bunge/lib/python3.8/site-packages (from tensorflow) (21.3)\n",
      "Requirement already satisfied: protobuf!=4.21.0,!=4.21.1,!=4.21.2,!=4.21.3,!=4.21.4,!=4.21.5,<5.0.0dev,>=3.20.3 in /opt/anaconda3/envs/bunge/lib/python3.8/site-packages (from tensorflow) (4.25.4)\n",
      "Requirement already satisfied: setuptools in /opt/anaconda3/envs/bunge/lib/python3.8/site-packages (from tensorflow) (69.5.1)\n",
      "Requirement already satisfied: six>=1.12.0 in /opt/anaconda3/envs/bunge/lib/python3.8/site-packages (from tensorflow) (1.16.0)\n",
      "Collecting termcolor>=1.1.0 (from tensorflow)\n",
      "  Downloading termcolor-2.4.0-py3-none-any.whl.metadata (6.1 kB)\n",
      "Collecting typing-extensions<4.6.0,>=3.6.6 (from tensorflow)\n",
      "  Downloading typing_extensions-4.5.0-py3-none-any.whl.metadata (8.5 kB)\n",
      "Requirement already satisfied: wrapt>=1.11.0 in /opt/anaconda3/envs/bunge/lib/python3.8/site-packages (from tensorflow) (1.16.0)\n",
      "Requirement already satisfied: grpcio<2.0,>=1.24.3 in /opt/anaconda3/envs/bunge/lib/python3.8/site-packages (from tensorflow) (1.65.2)\n",
      "Collecting tensorboard<2.14,>=2.13 (from tensorflow)\n",
      "  Downloading tensorboard-2.13.0-py3-none-any.whl.metadata (1.8 kB)\n",
      "Collecting tensorflow-estimator<2.14,>=2.13.0 (from tensorflow)\n",
      "  Downloading tensorflow_estimator-2.13.0-py2.py3-none-any.whl.metadata (1.3 kB)\n",
      "Collecting keras<2.14,>=2.13.1 (from tensorflow)\n",
      "  Downloading keras-2.13.1-py3-none-any.whl.metadata (2.4 kB)\n",
      "Collecting tensorflow-io-gcs-filesystem>=0.23.1 (from tensorflow)\n",
      "  Downloading tensorflow_io_gcs_filesystem-0.34.0-cp38-cp38-macosx_10_14_x86_64.whl.metadata (14 kB)\n",
      "Requirement already satisfied: wheel<1.0,>=0.23.0 in /opt/anaconda3/envs/bunge/lib/python3.8/site-packages (from astunparse>=1.6.0->tensorflow) (0.43.0)\n",
      "Requirement already satisfied: google-auth<3,>=1.6.3 in /opt/anaconda3/envs/bunge/lib/python3.8/site-packages (from tensorboard<2.14,>=2.13->tensorflow) (2.32.0)\n",
      "Collecting google-auth-oauthlib<1.1,>=0.5 (from tensorboard<2.14,>=2.13->tensorflow)\n",
      "  Downloading google_auth_oauthlib-1.0.0-py2.py3-none-any.whl.metadata (2.7 kB)\n",
      "Collecting markdown>=2.6.8 (from tensorboard<2.14,>=2.13->tensorflow)\n",
      "  Downloading Markdown-3.6-py3-none-any.whl.metadata (7.0 kB)\n",
      "Requirement already satisfied: requests<3,>=2.21.0 in /opt/anaconda3/envs/bunge/lib/python3.8/site-packages (from tensorboard<2.14,>=2.13->tensorflow) (2.31.0)\n",
      "Collecting tensorboard-data-server<0.8.0,>=0.7.0 (from tensorboard<2.14,>=2.13->tensorflow)\n",
      "  Downloading tensorboard_data_server-0.7.2-py3-none-macosx_10_9_x86_64.whl.metadata (1.1 kB)\n",
      "Requirement already satisfied: werkzeug>=1.0.1 in /opt/anaconda3/envs/bunge/lib/python3.8/site-packages (from tensorboard<2.14,>=2.13->tensorflow) (3.0.3)\n",
      "Requirement already satisfied: pyparsing!=3.0.5,>=2.0.2 in /opt/anaconda3/envs/bunge/lib/python3.8/site-packages (from packaging->tensorflow) (3.1.2)\n",
      "Requirement already satisfied: cachetools<6.0,>=2.0.0 in /opt/anaconda3/envs/bunge/lib/python3.8/site-packages (from google-auth<3,>=1.6.3->tensorboard<2.14,>=2.13->tensorflow) (5.4.0)\n",
      "Requirement already satisfied: pyasn1-modules>=0.2.1 in /opt/anaconda3/envs/bunge/lib/python3.8/site-packages (from google-auth<3,>=1.6.3->tensorboard<2.14,>=2.13->tensorflow) (0.4.0)\n",
      "Requirement already satisfied: rsa<5,>=3.1.4 in /opt/anaconda3/envs/bunge/lib/python3.8/site-packages (from google-auth<3,>=1.6.3->tensorboard<2.14,>=2.13->tensorflow) (4.9)\n",
      "Collecting requests-oauthlib>=0.7.0 (from google-auth-oauthlib<1.1,>=0.5->tensorboard<2.14,>=2.13->tensorflow)\n",
      "  Using cached requests_oauthlib-2.0.0-py2.py3-none-any.whl.metadata (11 kB)\n",
      "Requirement already satisfied: importlib-metadata>=4.4 in /opt/anaconda3/envs/bunge/lib/python3.8/site-packages (from markdown>=2.6.8->tensorboard<2.14,>=2.13->tensorflow) (5.2.0)\n",
      "Requirement already satisfied: charset-normalizer<4,>=2 in /opt/anaconda3/envs/bunge/lib/python3.8/site-packages (from requests<3,>=2.21.0->tensorboard<2.14,>=2.13->tensorflow) (3.3.2)\n",
      "Requirement already satisfied: idna<4,>=2.5 in /opt/anaconda3/envs/bunge/lib/python3.8/site-packages (from requests<3,>=2.21.0->tensorboard<2.14,>=2.13->tensorflow) (3.7)\n",
      "Requirement already satisfied: urllib3<3,>=1.21.1 in /opt/anaconda3/envs/bunge/lib/python3.8/site-packages (from requests<3,>=2.21.0->tensorboard<2.14,>=2.13->tensorflow) (1.26.19)\n",
      "Requirement already satisfied: certifi>=2017.4.17 in /opt/anaconda3/envs/bunge/lib/python3.8/site-packages (from requests<3,>=2.21.0->tensorboard<2.14,>=2.13->tensorflow) (2024.7.4)\n",
      "Requirement already satisfied: MarkupSafe>=2.1.1 in /opt/anaconda3/envs/bunge/lib/python3.8/site-packages (from werkzeug>=1.0.1->tensorboard<2.14,>=2.13->tensorflow) (2.1.5)\n",
      "Requirement already satisfied: zipp>=0.5 in /opt/anaconda3/envs/bunge/lib/python3.8/site-packages (from importlib-metadata>=4.4->markdown>=2.6.8->tensorboard<2.14,>=2.13->tensorflow) (3.19.2)\n",
      "Requirement already satisfied: pyasn1<0.7.0,>=0.4.6 in /opt/anaconda3/envs/bunge/lib/python3.8/site-packages (from pyasn1-modules>=0.2.1->google-auth<3,>=1.6.3->tensorboard<2.14,>=2.13->tensorflow) (0.6.0)\n",
      "Requirement already satisfied: oauthlib>=3.0.0 in /opt/anaconda3/envs/bunge/lib/python3.8/site-packages (from requests-oauthlib>=0.7.0->google-auth-oauthlib<1.1,>=0.5->tensorboard<2.14,>=2.13->tensorflow) (3.2.2)\n",
      "Downloading tensorflow-2.13.1-cp38-cp38-macosx_10_15_x86_64.whl (216.2 MB)\n",
      "\u001b[2K   \u001b[90m━━━━━━━━━━━━━━━━━━━━━━━━━━━━━━━━━━━━━━━━\u001b[0m \u001b[32m216.2/216.2 MB\u001b[0m \u001b[31m4.1 MB/s\u001b[0m eta \u001b[36m0:00:00\u001b[0m00:01\u001b[0m00:01\u001b[0m\n",
      "\u001b[?25hDownloading absl_py-2.1.0-py3-none-any.whl (133 kB)\n",
      "\u001b[2K   \u001b[90m━━━━━━━━━━━━━━━━━━━━━━━━━━━━━━━━━━━━━━━━\u001b[0m \u001b[32m133.7/133.7 kB\u001b[0m \u001b[31m2.5 MB/s\u001b[0m eta \u001b[36m0:00:00\u001b[0m00:01\u001b[0m\n",
      "\u001b[?25hDownloading astunparse-1.6.3-py2.py3-none-any.whl (12 kB)\n",
      "Downloading flatbuffers-24.3.25-py2.py3-none-any.whl (26 kB)\n",
      "Downloading gast-0.4.0-py3-none-any.whl (9.8 kB)\n",
      "Downloading google_pasta-0.2.0-py3-none-any.whl (57 kB)\n",
      "\u001b[2K   \u001b[90m━━━━━━━━━━━━━━━━━━━━━━━━━━━━━━━━━━━━━━━━\u001b[0m \u001b[32m57.5/57.5 kB\u001b[0m \u001b[31m1.9 MB/s\u001b[0m eta \u001b[36m0:00:00\u001b[0m\n",
      "\u001b[?25hDownloading h5py-3.11.0-cp38-cp38-macosx_10_9_x86_64.whl (3.5 MB)\n",
      "\u001b[2K   \u001b[90m━━━━━━━━━━━━━━━━━━━━━━━━━━━━━━━━━━━━━━━━\u001b[0m \u001b[32m3.5/3.5 MB\u001b[0m \u001b[31m8.6 MB/s\u001b[0m eta \u001b[36m0:00:00\u001b[0m00:01\u001b[0m00:01\u001b[0m\n",
      "\u001b[?25hDownloading keras-2.13.1-py3-none-any.whl (1.7 MB)\n",
      "\u001b[2K   \u001b[90m━━━━━━━━━━━━━━━━━━━━━━━━━━━━━━━━━━━━━━━━\u001b[0m \u001b[32m1.7/1.7 MB\u001b[0m \u001b[31m9.0 MB/s\u001b[0m eta \u001b[36m0:00:00\u001b[0m:00:01\u001b[0m00:01\u001b[0m\n",
      "\u001b[?25hDownloading libclang-18.1.1-py2.py3-none-macosx_10_9_x86_64.whl (26.5 MB)\n",
      "\u001b[2K   \u001b[90m━━━━━━━━━━━━━━━━━━━━━━━━━━━━━━━━━━━━━━━━\u001b[0m \u001b[32m26.5/26.5 MB\u001b[0m \u001b[31m7.8 MB/s\u001b[0m eta \u001b[36m0:00:00\u001b[0m00:01\u001b[0m00:01\u001b[0m\n",
      "\u001b[?25hDownloading numpy-1.24.3-cp38-cp38-macosx_10_9_x86_64.whl (19.8 MB)\n",
      "\u001b[2K   \u001b[90m━━━━━━━━━━━━━━━━━━━━━━━━━━━━━━━━━━━━━━━━\u001b[0m \u001b[32m19.8/19.8 MB\u001b[0m \u001b[31m8.1 MB/s\u001b[0m eta \u001b[36m0:00:00\u001b[0m00:01\u001b[0m00:01\u001b[0m\n",
      "\u001b[?25hDownloading opt_einsum-3.3.0-py3-none-any.whl (65 kB)\n",
      "\u001b[2K   \u001b[90m━━━━━━━━━━━━━━━━━━━━━━━━━━━━━━━━━━━━━━━━\u001b[0m \u001b[32m65.5/65.5 kB\u001b[0m \u001b[31m2.3 MB/s\u001b[0m eta \u001b[36m0:00:00\u001b[0m\n",
      "\u001b[?25hDownloading tensorboard-2.13.0-py3-none-any.whl (5.6 MB)\n",
      "\u001b[2K   \u001b[90m━━━━━━━━━━━━━━━━━━━━━━━━━━━━━━━━━━━━━━━━\u001b[0m \u001b[32m5.6/5.6 MB\u001b[0m \u001b[31m7.8 MB/s\u001b[0m eta \u001b[36m0:00:00\u001b[0m00:01\u001b[0m00:01\u001b[0m\n",
      "\u001b[?25hDownloading tensorflow_estimator-2.13.0-py2.py3-none-any.whl (440 kB)\n",
      "\u001b[2K   \u001b[90m━━━━━━━━━━━━━━━━━━━━━━━━━━━━━━━━━━━━━━━━\u001b[0m \u001b[32m440.8/440.8 kB\u001b[0m \u001b[31m5.4 MB/s\u001b[0m eta \u001b[36m0:00:00\u001b[0m00:01\u001b[0m:00:01\u001b[0m\n",
      "\u001b[?25hDownloading tensorflow_io_gcs_filesystem-0.34.0-cp38-cp38-macosx_10_14_x86_64.whl (1.7 MB)\n",
      "\u001b[2K   \u001b[90m━━━━━━━━━━━━━━━━━━━━━━━━━━━━━━━━━━━━━━━━\u001b[0m \u001b[32m1.7/1.7 MB\u001b[0m \u001b[31m5.8 MB/s\u001b[0m eta \u001b[36m0:00:00\u001b[0m00:01\u001b[0m00:01\u001b[0m\n",
      "\u001b[?25hDownloading termcolor-2.4.0-py3-none-any.whl (7.7 kB)\n",
      "Downloading typing_extensions-4.5.0-py3-none-any.whl (27 kB)\n",
      "Downloading google_auth_oauthlib-1.0.0-py2.py3-none-any.whl (18 kB)\n",
      "Downloading Markdown-3.6-py3-none-any.whl (105 kB)\n",
      "\u001b[2K   \u001b[90m━━━━━━━━━━━━━━━━━━━━━━━━━━━━━━━━━━━━━━━━\u001b[0m \u001b[32m105.4/105.4 kB\u001b[0m \u001b[31m3.1 MB/s\u001b[0m eta \u001b[36m0:00:00\u001b[0m\n",
      "\u001b[?25hDownloading tensorboard_data_server-0.7.2-py3-none-macosx_10_9_x86_64.whl (4.8 MB)\n",
      "\u001b[2K   \u001b[90m━━━━━━━━━━━━━━━━━━━━━━━━━━━━━━━━━━━━━━━━\u001b[0m \u001b[32m4.8/4.8 MB\u001b[0m \u001b[31m6.0 MB/s\u001b[0m eta \u001b[36m0:00:00\u001b[0m00:01\u001b[0m00:01\u001b[0m\n",
      "\u001b[?25hUsing cached requests_oauthlib-2.0.0-py2.py3-none-any.whl (24 kB)\n",
      "Installing collected packages: libclang, flatbuffers, typing-extensions, termcolor, tensorflow-io-gcs-filesystem, tensorflow-estimator, tensorboard-data-server, numpy, keras, google-pasta, gast, astunparse, absl-py, requests-oauthlib, opt-einsum, markdown, h5py, google-auth-oauthlib, tensorboard, tensorflow\n",
      "  Attempting uninstall: typing-extensions\n",
      "    Found existing installation: typing_extensions 4.12.2\n",
      "    Uninstalling typing_extensions-4.12.2:\n",
      "      Successfully uninstalled typing_extensions-4.12.2\n",
      "  Attempting uninstall: numpy\n",
      "    Found existing installation: numpy 1.24.4\n",
      "    Uninstalling numpy-1.24.4:\n",
      "      Successfully uninstalled numpy-1.24.4\n",
      "\u001b[31mERROR: pip's dependency resolver does not currently take into account all the packages that are installed. This behaviour is the source of the following dependency conflicts.\n",
      "fastapi 0.112.0 requires typing-extensions>=4.8.0, but you have typing-extensions 4.5.0 which is incompatible.\n",
      "jupyter-server 2.14.2 requires packaging>=22.0, but you have packaging 21.3 which is incompatible.\n",
      "mlflow 1.30.1 requires Flask<3, but you have flask 3.0.3 which is incompatible.\n",
      "mlflow 1.30.1 requires pandas<2, but you have pandas 2.0.3 which is incompatible.\n",
      "pycaret 3.2.0 requires pandas<2.0.0,>=1.3.0, but you have pandas 2.0.3 which is incompatible.\n",
      "typeguard 4.3.0 requires typing-extensions>=4.10.0, but you have typing-extensions 4.5.0 which is incompatible.\u001b[0m\u001b[31m\n",
      "\u001b[0mSuccessfully installed absl-py-2.1.0 astunparse-1.6.3 flatbuffers-24.3.25 gast-0.4.0 google-auth-oauthlib-1.0.0 google-pasta-0.2.0 h5py-3.11.0 keras-2.13.1 libclang-18.1.1 markdown-3.6 numpy-1.24.3 opt-einsum-3.3.0 requests-oauthlib-2.0.0 tensorboard-2.13.0 tensorboard-data-server-0.7.2 tensorflow-2.13.1 tensorflow-estimator-2.13.0 tensorflow-io-gcs-filesystem-0.34.0 termcolor-2.4.0 typing-extensions-4.5.0\n"
     ]
    }
   ],
   "source": [
    "!pip install tensorflow"
   ]
  },
  {
   "cell_type": "code",
   "execution_count": 4,
   "id": "a4242c38-cc35-459f-ab37-2f7d0a35cd95",
   "metadata": {
    "execution": {
     "iopub.execute_input": "2024-08-06T01:24:29.336193Z",
     "iopub.status.busy": "2024-08-06T01:24:29.335583Z",
     "iopub.status.idle": "2024-08-06T01:24:36.945630Z",
     "shell.execute_reply": "2024-08-06T01:24:36.944667Z",
     "shell.execute_reply.started": "2024-08-06T01:24:29.336157Z"
    }
   },
   "outputs": [
    {
     "name": "stderr",
     "output_type": "stream",
     "text": [
      "2024-08-05 22:24:33.505641: I tensorflow/core/platform/cpu_feature_guard.cc:182] This TensorFlow binary is optimized to use available CPU instructions in performance-critical operations.\n",
      "To enable the following instructions: AVX2 FMA, in other operations, rebuild TensorFlow with the appropriate compiler flags.\n"
     ]
    }
   ],
   "source": [
    "import numpy as np\n",
    "import pandas as pd\n",
    "\n",
    "from sklearn.preprocessing import MinMaxScaler\n",
    "from sklearn.preprocessing import OneHotEncoder\n",
    "\n",
    "import tensorflow as tf\n",
    "from tensorflow.keras.models import Sequential\n",
    "from tensorflow.keras.layers import LSTM, Dense, Dropout\n",
    "\n",
    "import matplotlib.pyplot as plt"
   ]
  },
  {
   "cell_type": "code",
   "execution_count": 5,
   "id": "108ff5ac-c00d-4abb-b4a8-ad642eb89ec3",
   "metadata": {
    "execution": {
     "iopub.execute_input": "2024-08-06T01:24:45.235056Z",
     "iopub.status.busy": "2024-08-06T01:24:45.234443Z",
     "iopub.status.idle": "2024-08-06T01:24:45.243921Z",
     "shell.execute_reply": "2024-08-06T01:24:45.243070Z",
     "shell.execute_reply.started": "2024-08-06T01:24:45.235022Z"
    }
   },
   "outputs": [],
   "source": [
    "# Function to prepare data for LSTM with item_name encoding\n",
    "def prepare_data(df, feature_columns, target_column, time_steps):\n",
    "    # One-hot encode item_name\n",
    "    item_encoder = OneHotEncoder(sparse=False)\n",
    "    item_encoded = item_encoder.fit_transform(df[['item_name']])\n",
    "    item_names = item_encoder.categories_[0]\n",
    "    \n",
    "    data = df[feature_columns].values\n",
    "    target = df[target_column].values.reshape(-1, 1)\n",
    "\n",
    "    # Concatenate item_name encoding with other features\n",
    "    data_combined = np.hstack((item_encoded, data))\n",
    "\n",
    "    scaler_data = MinMaxScaler()\n",
    "    scaler_target = MinMaxScaler()\n",
    "\n",
    "    data_scaled = scaler_data.fit_transform(data_combined)\n",
    "    target_scaled = scaler_target.fit_transform(target)\n",
    "\n",
    "    X, y = [], []\n",
    "    for i in range(time_steps, len(data_scaled)):\n",
    "        X.append(data_scaled[i - time_steps:i])\n",
    "        y.append(target_scaled[i])\n",
    "    X, y = np.array(X), np.array(y)\n",
    "\n",
    "    return X, y, scaler_target, item_names\n",
    "\n",
    "\n",
    "# Function to create LSTM model\n",
    "def create_lstm_model(input_shape):\n",
    "    model = Sequential()\n",
    "    model.add(LSTM(units=50, return_sequences=True, input_shape=input_shape))\n",
    "    model.add(Dropout(0.2))\n",
    "    model.add(LSTM(units=50))\n",
    "    model.add(Dropout(0.2))\n",
    "    model.add(Dense(1))\n",
    "    model.compile(optimizer='adam', loss='mean_squared_error')\n",
    "    return model"
   ]
  },
  {
   "cell_type": "markdown",
   "id": "74338c51-1ff7-40c8-b86b-7da775572d9d",
   "metadata": {},
   "source": [
    "## Prepare the data"
   ]
  },
  {
   "cell_type": "code",
   "execution_count": 6,
   "id": "34dfb628-78f4-4760-980a-aec877672c9c",
   "metadata": {
    "execution": {
     "iopub.execute_input": "2024-08-06T01:24:46.475243Z",
     "iopub.status.busy": "2024-08-06T01:24:46.474797Z",
     "iopub.status.idle": "2024-08-06T01:24:47.910944Z",
     "shell.execute_reply": "2024-08-06T01:24:47.909748Z",
     "shell.execute_reply.started": "2024-08-06T01:24:46.475212Z"
    }
   },
   "outputs": [],
   "source": [
    "df = pd.read_csv(\"./train_data.csv\")"
   ]
  },
  {
   "cell_type": "code",
   "execution_count": 7,
   "id": "e32f4989-11c5-4123-8b5f-0abb8beecfd1",
   "metadata": {
    "execution": {
     "iopub.execute_input": "2024-08-06T01:26:10.483486Z",
     "iopub.status.busy": "2024-08-06T01:26:10.482999Z",
     "iopub.status.idle": "2024-08-06T01:26:49.833031Z",
     "shell.execute_reply": "2024-08-06T01:26:49.829651Z",
     "shell.execute_reply.started": "2024-08-06T01:26:10.483452Z"
    }
   },
   "outputs": [
    {
     "name": "stderr",
     "output_type": "stream",
     "text": [
      "/opt/anaconda3/envs/bunge/lib/python3.8/site-packages/sklearn/preprocessing/_encoders.py:868: FutureWarning: `sparse` was renamed to `sparse_output` in version 1.2 and will be removed in 1.4. `sparse_output` is ignored unless you leave `sparse` to its default value.\n",
      "  warnings.warn(\n"
     ]
    }
   ],
   "source": [
    "feature_columns = ['avg_bottle_price', 'total_volume_sold_liters', 'total_sale_dollars',\n",
    "                   'avg_bottle_profit', 'day_of_week', 'week_of_year', 'month', 'year',\n",
    "                   'ma7_total_amount_sold', 'ma7_avg_bottle_price', 'ma7_total_sale_dollars',\n",
    "                   'ma3_total_amount_sold', 'ma3_avg_bottle_price', 'ma3_total_sale_dollars']\n",
    "target_column = 'total_amount_sold'\n",
    "time_steps = 7\n",
    "\n",
    "X, y, scaler_target, item_names = prepare_data(df, feature_columns, target_column, time_steps)\n",
    "\n",
    "# Split the data into training and testing sets\n",
    "split = int(0.8 * len(X))\n",
    "X_train, X_test = X[:split], X[split:]\n",
    "y_train, y_test = y[:split], y[split:]"
   ]
  },
  {
   "cell_type": "markdown",
   "id": "be5627f3-0722-4893-9c44-69935a7bba7b",
   "metadata": {},
   "source": [
    "## Create and train the LSTM model"
   ]
  },
  {
   "cell_type": "code",
   "execution_count": 8,
   "id": "f28377d8-2803-4fd6-9754-8578c527a091",
   "metadata": {
    "execution": {
     "iopub.execute_input": "2024-08-06T01:27:25.905996Z",
     "iopub.status.busy": "2024-08-06T01:27:25.905311Z",
     "iopub.status.idle": "2024-08-06T03:27:13.192347Z",
     "shell.execute_reply": "2024-08-06T03:27:13.187062Z",
     "shell.execute_reply.started": "2024-08-06T01:27:25.905931Z"
    }
   },
   "outputs": [
    {
     "name": "stdout",
     "output_type": "stream",
     "text": [
      "Epoch 1/50\n",
      "14013/14013 [==============================] - 135s 9ms/step - loss: 1.1904e-04 - val_loss: 1.4056e-04\n",
      "Epoch 2/50\n",
      "14013/14013 [==============================] - 169s 12ms/step - loss: 9.2348e-05 - val_loss: 1.2394e-04\n",
      "Epoch 3/50\n",
      "14013/14013 [==============================] - 154s 11ms/step - loss: 8.9040e-05 - val_loss: 2.2160e-04\n",
      "Epoch 4/50\n",
      "14013/14013 [==============================] - 158s 11ms/step - loss: 8.6657e-05 - val_loss: 1.7915e-04\n",
      "Epoch 5/50\n",
      "14013/14013 [==============================] - 227s 16ms/step - loss: 8.3576e-05 - val_loss: 1.4100e-04\n",
      "Epoch 6/50\n",
      "14013/14013 [==============================] - 218s 16ms/step - loss: 8.1979e-05 - val_loss: 1.8187e-04\n",
      "Epoch 7/50\n",
      "14013/14013 [==============================] - 144s 10ms/step - loss: 7.9617e-05 - val_loss: 2.0989e-04\n",
      "Epoch 8/50\n",
      "14013/14013 [==============================] - 167s 12ms/step - loss: 8.0381e-05 - val_loss: 2.3413e-04\n",
      "Epoch 9/50\n",
      "14013/14013 [==============================] - 141s 10ms/step - loss: 7.7327e-05 - val_loss: 2.4080e-04\n",
      "Epoch 10/50\n",
      "14013/14013 [==============================] - 143s 10ms/step - loss: 7.6590e-05 - val_loss: 2.1433e-04\n",
      "Epoch 11/50\n",
      "14013/14013 [==============================] - 116s 8ms/step - loss: 7.5246e-05 - val_loss: 1.9369e-04\n",
      "Epoch 12/50\n",
      "14013/14013 [==============================] - 110s 8ms/step - loss: 7.3869e-05 - val_loss: 3.0295e-04\n",
      "Epoch 13/50\n",
      "14013/14013 [==============================] - 124s 9ms/step - loss: 7.2371e-05 - val_loss: 2.2933e-04\n",
      "Epoch 14/50\n",
      "14013/14013 [==============================] - 149s 11ms/step - loss: 7.0684e-05 - val_loss: 2.3058e-04\n",
      "Epoch 15/50\n",
      "14013/14013 [==============================] - 133s 9ms/step - loss: 6.9282e-05 - val_loss: 3.0153e-04\n",
      "Epoch 16/50\n",
      "14013/14013 [==============================] - 161s 11ms/step - loss: 7.0279e-05 - val_loss: 3.1349e-04\n",
      "Epoch 17/50\n",
      "14013/14013 [==============================] - 139s 10ms/step - loss: 7.0540e-05 - val_loss: 3.0532e-04\n",
      "Epoch 18/50\n",
      "14013/14013 [==============================] - 131s 9ms/step - loss: 7.0542e-05 - val_loss: 2.2094e-04\n",
      "Epoch 19/50\n",
      "14013/14013 [==============================] - 127s 9ms/step - loss: 6.8078e-05 - val_loss: 2.4313e-04\n",
      "Epoch 20/50\n",
      "14013/14013 [==============================] - 160s 11ms/step - loss: 6.8733e-05 - val_loss: 3.5703e-04\n",
      "Epoch 21/50\n",
      "14013/14013 [==============================] - 159s 11ms/step - loss: 6.8551e-05 - val_loss: 2.8759e-04\n",
      "Epoch 22/50\n",
      "14013/14013 [==============================] - 156s 11ms/step - loss: 6.6978e-05 - val_loss: 2.8927e-04\n",
      "Epoch 23/50\n",
      "14013/14013 [==============================] - 128s 9ms/step - loss: 6.7180e-05 - val_loss: 3.1383e-04\n",
      "Epoch 24/50\n",
      "14013/14013 [==============================] - 140s 10ms/step - loss: 6.5578e-05 - val_loss: 3.1851e-04\n",
      "Epoch 25/50\n",
      "14013/14013 [==============================] - 155s 11ms/step - loss: 6.6020e-05 - val_loss: 3.9951e-04\n",
      "Epoch 26/50\n",
      "14013/14013 [==============================] - 142s 10ms/step - loss: 6.4911e-05 - val_loss: 2.9492e-04\n",
      "Epoch 27/50\n",
      "14013/14013 [==============================] - 136s 10ms/step - loss: 6.4352e-05 - val_loss: 2.6096e-04\n",
      "Epoch 28/50\n",
      "14013/14013 [==============================] - 148s 11ms/step - loss: 6.4933e-05 - val_loss: 4.2741e-04\n",
      "Epoch 29/50\n",
      "14013/14013 [==============================] - 165s 12ms/step - loss: 6.3945e-05 - val_loss: 3.6488e-04\n",
      "Epoch 30/50\n",
      "14013/14013 [==============================] - 162s 12ms/step - loss: 6.5352e-05 - val_loss: 3.2874e-04\n",
      "Epoch 31/50\n",
      "14013/14013 [==============================] - 145s 10ms/step - loss: 6.3024e-05 - val_loss: 2.7930e-04\n",
      "Epoch 32/50\n",
      "14013/14013 [==============================] - 132s 9ms/step - loss: 6.3545e-05 - val_loss: 4.7970e-04\n",
      "Epoch 33/50\n",
      "14013/14013 [==============================] - 134s 10ms/step - loss: 6.2959e-05 - val_loss: 3.6105e-04\n",
      "Epoch 34/50\n",
      "14013/14013 [==============================] - 128s 9ms/step - loss: 6.4008e-05 - val_loss: 4.0725e-04\n",
      "Epoch 35/50\n",
      "14013/14013 [==============================] - 134s 10ms/step - loss: 6.2751e-05 - val_loss: 3.4966e-04\n",
      "Epoch 36/50\n",
      "14013/14013 [==============================] - 134s 10ms/step - loss: 6.1919e-05 - val_loss: 4.5726e-04\n",
      "Epoch 37/50\n",
      "14013/14013 [==============================] - 141s 10ms/step - loss: 6.2151e-05 - val_loss: 3.5419e-04\n",
      "Epoch 38/50\n",
      "14013/14013 [==============================] - 140s 10ms/step - loss: 6.2156e-05 - val_loss: 3.6098e-04\n",
      "Epoch 39/50\n",
      "14013/14013 [==============================] - 125s 9ms/step - loss: 6.1058e-05 - val_loss: 3.3918e-04\n",
      "Epoch 40/50\n",
      "14013/14013 [==============================] - 129s 9ms/step - loss: 6.0870e-05 - val_loss: 4.9400e-04\n",
      "Epoch 41/50\n",
      "14013/14013 [==============================] - 139s 10ms/step - loss: 6.1909e-05 - val_loss: 3.7190e-04\n",
      "Epoch 42/50\n",
      "14013/14013 [==============================] - 127s 9ms/step - loss: 6.0927e-05 - val_loss: 3.6842e-04\n",
      "Epoch 43/50\n",
      "14013/14013 [==============================] - 118s 8ms/step - loss: 6.0798e-05 - val_loss: 3.4623e-04\n",
      "Epoch 44/50\n",
      "14013/14013 [==============================] - 129s 9ms/step - loss: 6.0021e-05 - val_loss: 3.5201e-04\n",
      "Epoch 45/50\n",
      "14013/14013 [==============================] - 132s 9ms/step - loss: 5.9732e-05 - val_loss: 4.3083e-04\n",
      "Epoch 46/50\n",
      "14013/14013 [==============================] - 136s 10ms/step - loss: 6.0018e-05 - val_loss: 3.9551e-04\n",
      "Epoch 47/50\n",
      "14013/14013 [==============================] - 111s 8ms/step - loss: 6.0383e-05 - val_loss: 3.8276e-04\n",
      "Epoch 48/50\n",
      "14013/14013 [==============================] - 121s 9ms/step - loss: 5.9782e-05 - val_loss: 3.3890e-04\n",
      "Epoch 49/50\n",
      "14013/14013 [==============================] - 130s 9ms/step - loss: 5.9400e-05 - val_loss: 2.9930e-04\n",
      "Epoch 50/50\n",
      "14013/14013 [==============================] - 146s 10ms/step - loss: 5.8907e-05 - val_loss: 3.7371e-04\n"
     ]
    }
   ],
   "source": [
    "model = create_lstm_model((X_train.shape[1], X_train.shape[2]))\n",
    "history = model.fit(X_train, y_train, epochs=50, batch_size=32, validation_split=0.1, verbose=1)"
   ]
  },
  {
   "cell_type": "markdown",
   "id": "c7dc79a6-f2db-4e27-9b1e-77470cbe3c80",
   "metadata": {},
   "source": [
    "## Make predictions"
   ]
  },
  {
   "cell_type": "code",
   "execution_count": null,
   "id": "bbbe7cd9-8b21-4573-8220-d299da6d5a4f",
   "metadata": {},
   "outputs": [],
   "source": [
    "y_pred_scaled = model.predict(X_test)\n",
    "y_pred = scaler_target.inverse_transform(y_pred_scaled)\n",
    "y_test_actual = scaler_target.inverse_transform(y_test)"
   ]
  },
  {
   "cell_type": "markdown",
   "id": "fd9c93f9-5c01-4f1c-b059-8e938bc5d340",
   "metadata": {},
   "source": [
    "## Evaluate the model"
   ]
  },
  {
   "cell_type": "code",
   "execution_count": null,
   "id": "2b4d210a-1086-49b0-a072-dcdd5096e4e6",
   "metadata": {},
   "outputs": [],
   "source": [
    "rmse = np.sqrt(np.mean((y_pred - y_test_actual) ** 2))\n",
    "mae = np.mean(np.abs(y_pred - y_test_actual))\n",
    "print(f'RMSE: {rmse:.2f}, MAE: {mae:.2f}')"
   ]
  },
  {
   "cell_type": "markdown",
   "id": "10840a7d-227e-499b-a2df-9ba0ba084eb8",
   "metadata": {},
   "source": [
    "## Visualize the results"
   ]
  },
  {
   "cell_type": "code",
   "execution_count": null,
   "id": "c1da38c2-a173-4f05-b5fa-20da4123fa43",
   "metadata": {},
   "outputs": [],
   "source": [
    "plt.figure(figsize=(14, 5))\n",
    "plt.plot(y_test_actual, color='blue', label='Actual Total Amount Sold')\n",
    "plt.plot(y_pred, color='red', label='Predicted Total Amount Sold')\n",
    "plt.title('LSTM Model - Total Amount Sold Prediction')\n",
    "plt.xlabel('Time')\n",
    "plt.ylabel('Total Amount Sold')\n",
    "plt.legend()\n",
    "plt.show()"
   ]
  }
 ],
 "metadata": {
  "kernelspec": {
   "display_name": "Python 3 (ipykernel)",
   "language": "python",
   "name": "python3"
  },
  "language_info": {
   "codemirror_mode": {
    "name": "ipython",
    "version": 3
   },
   "file_extension": ".py",
   "mimetype": "text/x-python",
   "name": "python",
   "nbconvert_exporter": "python",
   "pygments_lexer": "ipython3",
   "version": "3.8.19"
  }
 },
 "nbformat": 4,
 "nbformat_minor": 5
}
