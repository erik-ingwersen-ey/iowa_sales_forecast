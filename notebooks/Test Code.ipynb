{
 "cells": [
  {
   "cell_type": "code",
   "execution_count": 151,
   "id": "634db4c0-304d-4edc-9424-6a2be56148c8",
   "metadata": {
    "execution": {
     "iopub.execute_input": "2024-08-07T18:53:26.476577Z",
     "iopub.status.busy": "2024-08-07T18:53:26.475800Z",
     "iopub.status.idle": "2024-08-07T18:53:26.486810Z",
     "shell.execute_reply": "2024-08-07T18:53:26.485938Z",
     "shell.execute_reply.started": "2024-08-07T18:53:26.476550Z"
    }
   },
   "outputs": [
    {
     "data": {
      "text/plain": [
       "<module 'iowa_forecast.ml_eval' from '/Users/erikingwersen/Desktop/bunge/iowa_forecast/ml_eval.py'>"
      ]
     },
     "execution_count": 151,
     "metadata": {},
     "output_type": "execute_result"
    }
   ],
   "source": [
    "from importlib import reload\n",
    "\n",
    "from iowa_forecast import plots\n",
    "from iowa_forecast import load_data\n",
    "from iowa_forecast import ml_eval\n",
    "\n",
    "reload(load_data)\n",
    "reload(ml_eval)"
   ]
  },
  {
   "cell_type": "code",
   "execution_count": 152,
   "id": "67bebc49-7da4-4667-aee2-585380ac871f",
   "metadata": {
    "execution": {
     "iopub.execute_input": "2024-08-07T18:53:26.860452Z",
     "iopub.status.busy": "2024-08-07T18:53:26.859378Z",
     "iopub.status.idle": "2024-08-07T18:53:26.870941Z",
     "shell.execute_reply": "2024-08-07T18:53:26.870188Z",
     "shell.execute_reply.started": "2024-08-07T18:53:26.860402Z"
    }
   },
   "outputs": [],
   "source": [
    "from __future__ import annotations\n",
    "\n",
    "import pandas as pd\n",
    "\n",
    "import google\n",
    "from google.cloud.bigquery import Client\n",
    "\n",
    "import seaborn as sns\n",
    "\n",
    "from rich.progress import track\n",
    "from iowa_forecast.ml_train import create_models_for_items\n",
    "from iowa_forecast.load_data import get_training_data, create_future_data_query\n",
    "from iowa_forecast.plots import plot_historical_and_forecast\n",
    "from iowa_forecast.ml_eval import evaluate_models, multi_evaluate_predictions, explain_model, get_future_sales_query, evaluate_predictions, get_predictions"
   ]
  },
  {
   "cell_type": "code",
   "execution_count": 110,
   "id": "88ec94d2-e08a-4833-a51a-d24ee7353c6c",
   "metadata": {
    "execution": {
     "iopub.execute_input": "2024-08-07T17:41:32.102165Z",
     "iopub.status.busy": "2024-08-07T17:41:32.101785Z",
     "iopub.status.idle": "2024-08-07T17:41:32.108012Z",
     "shell.execute_reply": "2024-08-07T17:41:32.106530Z",
     "shell.execute_reply.started": "2024-08-07T17:41:32.102135Z"
    }
   },
   "outputs": [
    {
     "name": "stdout",
     "output_type": "stream",
     "text": [
      "The google.cloud.bigquery extension is already loaded. To reload it, use:\n",
      "  %reload_ext google.cloud.bigquery\n"
     ]
    }
   ],
   "source": [
    "%load_ext google.cloud.bigquery"
   ]
  },
  {
   "cell_type": "code",
   "execution_count": 111,
   "id": "46c54e0c-5f6d-490f-a172-79fb8997e90f",
   "metadata": {
    "execution": {
     "iopub.execute_input": "2024-08-07T17:41:32.766841Z",
     "iopub.status.busy": "2024-08-07T17:41:32.766283Z",
     "iopub.status.idle": "2024-08-07T17:41:32.773267Z",
     "shell.execute_reply": "2024-08-07T17:41:32.772364Z",
     "shell.execute_reply.started": "2024-08-07T17:41:32.766797Z"
    }
   },
   "outputs": [],
   "source": [
    "pd.set_option('display.float_format', lambda x: '%.3f' % x)\n",
    "pd.set_option('display.max_columns', None)\n",
    "sns.set_theme()"
   ]
  },
  {
   "cell_type": "code",
   "execution_count": 59,
   "id": "23bcc6fc-12e8-4854-884d-6354c99403a5",
   "metadata": {
    "execution": {
     "iopub.execute_input": "2024-08-07T15:14:52.508632Z",
     "iopub.status.busy": "2024-08-07T15:14:52.508068Z",
     "iopub.status.idle": "2024-08-07T15:14:54.067479Z",
     "shell.execute_reply": "2024-08-07T15:14:54.066092Z",
     "shell.execute_reply.started": "2024-08-07T15:14:52.508606Z"
    }
   },
   "outputs": [],
   "source": [
    "PROJECT_ID = \"ee-ingwersen\"\n",
    "client = Client()\n",
    "\n",
    "END_DATE = pd.Timestamp.today() - pd.DateOffset(days=14)\n",
    "START_DATE = END_DATE - pd.DateOffset(years=3)\n",
    "\n",
    "TEST_START_DATE = END_DATE + pd.DateOffset(days=1)\n",
    "\n",
    "END_DATE = END_DATE.strftime(\"%Y-%m-%d\")\n",
    "START_DATE = START_DATE.strftime(\"%Y-%m-%d\")\n",
    "TEST_START_DATE = TEST_START_DATE.strftime(\"%Y-%m-%d\")"
   ]
  },
  {
   "cell_type": "code",
   "execution_count": 112,
   "id": "ba509bdf-959b-4b21-9691-542cbdcace20",
   "metadata": {
    "execution": {
     "iopub.execute_input": "2024-08-07T17:41:35.039587Z",
     "iopub.status.busy": "2024-08-07T17:41:35.038757Z",
     "iopub.status.idle": "2024-08-07T17:42:00.117814Z",
     "shell.execute_reply": "2024-08-07T17:42:00.116836Z",
     "shell.execute_reply.started": "2024-08-07T17:41:35.039555Z"
    }
   },
   "outputs": [
    {
     "name": "stdout",
     "output_type": "stream",
     "text": [
      "<google.cloud.bigquery.table._EmptyRowIterator object at 0x7fa7d83bafd0>\n"
     ]
    },
    {
     "name": "stderr",
     "output_type": "stream",
     "text": [
      "I0000 00:00:1723052505.675699  512714 check_gcp_environment_no_op.cc:29] ALTS: Platforms other than Linux and Windows are not supported\n"
     ]
    },
    {
     "name": "stdout",
     "output_type": "stream",
     "text": [
      "<google.cloud.bigquery.table._EmptyRowIterator object at 0x7fa810e7f940>\n"
     ]
    },
    {
     "name": "stderr",
     "output_type": "stream",
     "text": [
      "I0000 00:00:1723052517.650722  512714 check_gcp_environment_no_op.cc:29] ALTS: Platforms other than Linux and Windows are not supported\n"
     ]
    },
    {
     "data": {
      "text/html": [
       "<div>\n",
       "<style scoped>\n",
       "    .dataframe tbody tr th:only-of-type {\n",
       "        vertical-align: middle;\n",
       "    }\n",
       "\n",
       "    .dataframe tbody tr th {\n",
       "        vertical-align: top;\n",
       "    }\n",
       "\n",
       "    .dataframe thead th {\n",
       "        text-align: right;\n",
       "    }\n",
       "</style>\n",
       "<table border=\"1\" class=\"dataframe\">\n",
       "  <thead>\n",
       "    <tr style=\"text-align: right;\">\n",
       "      <th></th>\n",
       "      <th>date</th>\n",
       "      <th>item_name</th>\n",
       "      <th>total_amount_sold</th>\n",
       "      <th>avg_bottle_price</th>\n",
       "      <th>total_volume_sold_liters</th>\n",
       "      <th>avg_bottle_cost</th>\n",
       "      <th>day_of_week</th>\n",
       "      <th>week_of_year</th>\n",
       "      <th>month</th>\n",
       "      <th>year</th>\n",
       "      <th>ma3_total_amount_sold</th>\n",
       "      <th>ma3_avg_bottle_price</th>\n",
       "      <th>ma7_total_amount_sold</th>\n",
       "      <th>ma7_avg_bottle_price</th>\n",
       "      <th>ma30_total_amount_sold</th>\n",
       "      <th>ma30_avg_bottle_price</th>\n",
       "      <th>temperature</th>\n",
       "      <th>rainfall</th>\n",
       "      <th>snowfall</th>\n",
       "      <th>lag_1_total_amount_sold</th>\n",
       "      <th>lag_7_total_amount_sold</th>\n",
       "    </tr>\n",
       "  </thead>\n",
       "  <tbody>\n",
       "    <tr>\n",
       "      <th>0</th>\n",
       "      <td>2024-07-25</td>\n",
       "      <td>1800 REPOSADO</td>\n",
       "      <td>30.000</td>\n",
       "      <td>28.500</td>\n",
       "      <td>27.750</td>\n",
       "      <td>19.000</td>\n",
       "      <td>5</td>\n",
       "      <td>29</td>\n",
       "      <td>7</td>\n",
       "      <td>2024</td>\n",
       "      <td>20.670</td>\n",
       "      <td>31.000</td>\n",
       "      <td>11.430</td>\n",
       "      <td>31.140</td>\n",
       "      <td>76.100</td>\n",
       "      <td>30.030</td>\n",
       "      <td>74.150</td>\n",
       "      <td>8.580</td>\n",
       "      <td>0.000</td>\n",
       "      <td>28</td>\n",
       "      <td>19</td>\n",
       "    </tr>\n",
       "    <tr>\n",
       "      <th>1</th>\n",
       "      <td>2024-07-26</td>\n",
       "      <td>1800 REPOSADO</td>\n",
       "      <td>43.000</td>\n",
       "      <td>28.350</td>\n",
       "      <td>38.250</td>\n",
       "      <td>18.900</td>\n",
       "      <td>6</td>\n",
       "      <td>29</td>\n",
       "      <td>7</td>\n",
       "      <td>2024</td>\n",
       "      <td>33.670</td>\n",
       "      <td>29.200</td>\n",
       "      <td>16.860</td>\n",
       "      <td>30.510</td>\n",
       "      <td>74.570</td>\n",
       "      <td>30.050</td>\n",
       "      <td>73.500</td>\n",
       "      <td>7.280</td>\n",
       "      <td>0.000</td>\n",
       "      <td>30</td>\n",
       "      <td>5</td>\n",
       "    </tr>\n",
       "    <tr>\n",
       "      <th>2</th>\n",
       "      <td>2024-07-28</td>\n",
       "      <td>1800 REPOSADO</td>\n",
       "      <td>28.000</td>\n",
       "      <td>26.250</td>\n",
       "      <td>21.000</td>\n",
       "      <td>17.500</td>\n",
       "      <td>1</td>\n",
       "      <td>30</td>\n",
       "      <td>7</td>\n",
       "      <td>2024</td>\n",
       "      <td>33.670</td>\n",
       "      <td>27.700</td>\n",
       "      <td>20.290</td>\n",
       "      <td>29.870</td>\n",
       "      <td>74.600</td>\n",
       "      <td>30.050</td>\n",
       "      <td>73.150</td>\n",
       "      <td>8.090</td>\n",
       "      <td>0.000</td>\n",
       "      <td>43</td>\n",
       "      <td>4</td>\n",
       "    </tr>\n",
       "    <tr>\n",
       "      <th>3</th>\n",
       "      <td>2024-07-29</td>\n",
       "      <td>1800 REPOSADO</td>\n",
       "      <td>87.000</td>\n",
       "      <td>28.900</td>\n",
       "      <td>99.750</td>\n",
       "      <td>19.270</td>\n",
       "      <td>2</td>\n",
       "      <td>30</td>\n",
       "      <td>7</td>\n",
       "      <td>2024</td>\n",
       "      <td>52.670</td>\n",
       "      <td>27.830</td>\n",
       "      <td>31.570</td>\n",
       "      <td>29.610</td>\n",
       "      <td>74.970</td>\n",
       "      <td>30.010</td>\n",
       "      <td>73.800</td>\n",
       "      <td>11.420</td>\n",
       "      <td>0.000</td>\n",
       "      <td>28</td>\n",
       "      <td>8</td>\n",
       "    </tr>\n",
       "    <tr>\n",
       "      <th>4</th>\n",
       "      <td>2024-07-30</td>\n",
       "      <td>1800 REPOSADO</td>\n",
       "      <td>105.000</td>\n",
       "      <td>27.640</td>\n",
       "      <td>96.750</td>\n",
       "      <td>18.430</td>\n",
       "      <td>3</td>\n",
       "      <td>30</td>\n",
       "      <td>7</td>\n",
       "      <td>2024</td>\n",
       "      <td>73.330</td>\n",
       "      <td>27.600</td>\n",
       "      <td>46.430</td>\n",
       "      <td>29.160</td>\n",
       "      <td>72.730</td>\n",
       "      <td>29.920</td>\n",
       "      <td>74.620</td>\n",
       "      <td>10.650</td>\n",
       "      <td>0.000</td>\n",
       "      <td>87</td>\n",
       "      <td>1</td>\n",
       "    </tr>\n",
       "    <tr>\n",
       "      <th>...</th>\n",
       "      <td>...</td>\n",
       "      <td>...</td>\n",
       "      <td>...</td>\n",
       "      <td>...</td>\n",
       "      <td>...</td>\n",
       "      <td>...</td>\n",
       "      <td>...</td>\n",
       "      <td>...</td>\n",
       "      <td>...</td>\n",
       "      <td>...</td>\n",
       "      <td>...</td>\n",
       "      <td>...</td>\n",
       "      <td>...</td>\n",
       "      <td>...</td>\n",
       "      <td>...</td>\n",
       "      <td>...</td>\n",
       "      <td>...</td>\n",
       "      <td>...</td>\n",
       "      <td>...</td>\n",
       "      <td>...</td>\n",
       "      <td>...</td>\n",
       "    </tr>\n",
       "    <tr>\n",
       "      <th>1580</th>\n",
       "      <td>2024-07-25</td>\n",
       "      <td>YUKON JACK</td>\n",
       "      <td>91.000</td>\n",
       "      <td>15.300</td>\n",
       "      <td>71.500</td>\n",
       "      <td>10.190</td>\n",
       "      <td>5</td>\n",
       "      <td>29</td>\n",
       "      <td>7</td>\n",
       "      <td>2024</td>\n",
       "      <td>58.330</td>\n",
       "      <td>15.270</td>\n",
       "      <td>49.570</td>\n",
       "      <td>14.940</td>\n",
       "      <td>40.270</td>\n",
       "      <td>15.430</td>\n",
       "      <td>74.150</td>\n",
       "      <td>8.580</td>\n",
       "      <td>0.000</td>\n",
       "      <td>55</td>\n",
       "      <td>46</td>\n",
       "    </tr>\n",
       "    <tr>\n",
       "      <th>1581</th>\n",
       "      <td>2024-07-26</td>\n",
       "      <td>YUKON JACK</td>\n",
       "      <td>29.000</td>\n",
       "      <td>16.690</td>\n",
       "      <td>26.000</td>\n",
       "      <td>11.130</td>\n",
       "      <td>6</td>\n",
       "      <td>29</td>\n",
       "      <td>7</td>\n",
       "      <td>2024</td>\n",
       "      <td>58.330</td>\n",
       "      <td>15.580</td>\n",
       "      <td>37.430</td>\n",
       "      <td>14.950</td>\n",
       "      <td>39.400</td>\n",
       "      <td>15.480</td>\n",
       "      <td>73.500</td>\n",
       "      <td>7.280</td>\n",
       "      <td>0.000</td>\n",
       "      <td>91</td>\n",
       "      <td>114</td>\n",
       "    </tr>\n",
       "    <tr>\n",
       "      <th>1582</th>\n",
       "      <td>2024-07-29</td>\n",
       "      <td>YUKON JACK</td>\n",
       "      <td>15.000</td>\n",
       "      <td>13.130</td>\n",
       "      <td>13.870</td>\n",
       "      <td>8.750</td>\n",
       "      <td>2</td>\n",
       "      <td>30</td>\n",
       "      <td>7</td>\n",
       "      <td>2024</td>\n",
       "      <td>45.000</td>\n",
       "      <td>15.040</td>\n",
       "      <td>34.140</td>\n",
       "      <td>15.040</td>\n",
       "      <td>38.100</td>\n",
       "      <td>15.380</td>\n",
       "      <td>73.800</td>\n",
       "      <td>11.420</td>\n",
       "      <td>0.000</td>\n",
       "      <td>29</td>\n",
       "      <td>38</td>\n",
       "    </tr>\n",
       "    <tr>\n",
       "      <th>1583</th>\n",
       "      <td>2024-07-30</td>\n",
       "      <td>YUKON JACK</td>\n",
       "      <td>9.000</td>\n",
       "      <td>14.820</td>\n",
       "      <td>7.750</td>\n",
       "      <td>9.880</td>\n",
       "      <td>3</td>\n",
       "      <td>30</td>\n",
       "      <td>7</td>\n",
       "      <td>2024</td>\n",
       "      <td>17.670</td>\n",
       "      <td>14.880</td>\n",
       "      <td>33.290</td>\n",
       "      <td>14.900</td>\n",
       "      <td>35.900</td>\n",
       "      <td>15.340</td>\n",
       "      <td>74.620</td>\n",
       "      <td>10.650</td>\n",
       "      <td>0.000</td>\n",
       "      <td>15</td>\n",
       "      <td>15</td>\n",
       "    </tr>\n",
       "    <tr>\n",
       "      <th>1584</th>\n",
       "      <td>2024-07-31</td>\n",
       "      <td>YUKON JACK</td>\n",
       "      <td>129.000</td>\n",
       "      <td>16.070</td>\n",
       "      <td>116.000</td>\n",
       "      <td>10.710</td>\n",
       "      <td>4</td>\n",
       "      <td>30</td>\n",
       "      <td>7</td>\n",
       "      <td>2024</td>\n",
       "      <td>51.000</td>\n",
       "      <td>14.670</td>\n",
       "      <td>51.000</td>\n",
       "      <td>15.220</td>\n",
       "      <td>39.700</td>\n",
       "      <td>15.290</td>\n",
       "      <td>75.280</td>\n",
       "      <td>11.860</td>\n",
       "      <td>0.000</td>\n",
       "      <td>9</td>\n",
       "      <td>5</td>\n",
       "    </tr>\n",
       "  </tbody>\n",
       "</table>\n",
       "<p>1585 rows × 21 columns</p>\n",
       "</div>"
      ],
      "text/plain": [
       "            date      item_name  total_amount_sold  avg_bottle_price  \\\n",
       "0     2024-07-25  1800 REPOSADO             30.000            28.500   \n",
       "1     2024-07-26  1800 REPOSADO             43.000            28.350   \n",
       "2     2024-07-28  1800 REPOSADO             28.000            26.250   \n",
       "3     2024-07-29  1800 REPOSADO             87.000            28.900   \n",
       "4     2024-07-30  1800 REPOSADO            105.000            27.640   \n",
       "...          ...            ...                ...               ...   \n",
       "1580  2024-07-25     YUKON JACK             91.000            15.300   \n",
       "1581  2024-07-26     YUKON JACK             29.000            16.690   \n",
       "1582  2024-07-29     YUKON JACK             15.000            13.130   \n",
       "1583  2024-07-30     YUKON JACK              9.000            14.820   \n",
       "1584  2024-07-31     YUKON JACK            129.000            16.070   \n",
       "\n",
       "      total_volume_sold_liters  avg_bottle_cost  day_of_week  week_of_year  \\\n",
       "0                       27.750           19.000            5            29   \n",
       "1                       38.250           18.900            6            29   \n",
       "2                       21.000           17.500            1            30   \n",
       "3                       99.750           19.270            2            30   \n",
       "4                       96.750           18.430            3            30   \n",
       "...                        ...              ...          ...           ...   \n",
       "1580                    71.500           10.190            5            29   \n",
       "1581                    26.000           11.130            6            29   \n",
       "1582                    13.870            8.750            2            30   \n",
       "1583                     7.750            9.880            3            30   \n",
       "1584                   116.000           10.710            4            30   \n",
       "\n",
       "      month  year  ma3_total_amount_sold  ma3_avg_bottle_price  \\\n",
       "0         7  2024                 20.670                31.000   \n",
       "1         7  2024                 33.670                29.200   \n",
       "2         7  2024                 33.670                27.700   \n",
       "3         7  2024                 52.670                27.830   \n",
       "4         7  2024                 73.330                27.600   \n",
       "...     ...   ...                    ...                   ...   \n",
       "1580      7  2024                 58.330                15.270   \n",
       "1581      7  2024                 58.330                15.580   \n",
       "1582      7  2024                 45.000                15.040   \n",
       "1583      7  2024                 17.670                14.880   \n",
       "1584      7  2024                 51.000                14.670   \n",
       "\n",
       "      ma7_total_amount_sold  ma7_avg_bottle_price  ma30_total_amount_sold  \\\n",
       "0                    11.430                31.140                  76.100   \n",
       "1                    16.860                30.510                  74.570   \n",
       "2                    20.290                29.870                  74.600   \n",
       "3                    31.570                29.610                  74.970   \n",
       "4                    46.430                29.160                  72.730   \n",
       "...                     ...                   ...                     ...   \n",
       "1580                 49.570                14.940                  40.270   \n",
       "1581                 37.430                14.950                  39.400   \n",
       "1582                 34.140                15.040                  38.100   \n",
       "1583                 33.290                14.900                  35.900   \n",
       "1584                 51.000                15.220                  39.700   \n",
       "\n",
       "      ma30_avg_bottle_price  temperature  rainfall  snowfall  \\\n",
       "0                    30.030       74.150     8.580     0.000   \n",
       "1                    30.050       73.500     7.280     0.000   \n",
       "2                    30.050       73.150     8.090     0.000   \n",
       "3                    30.010       73.800    11.420     0.000   \n",
       "4                    29.920       74.620    10.650     0.000   \n",
       "...                     ...          ...       ...       ...   \n",
       "1580                 15.430       74.150     8.580     0.000   \n",
       "1581                 15.480       73.500     7.280     0.000   \n",
       "1582                 15.380       73.800    11.420     0.000   \n",
       "1583                 15.340       74.620    10.650     0.000   \n",
       "1584                 15.290       75.280    11.860     0.000   \n",
       "\n",
       "      lag_1_total_amount_sold  lag_7_total_amount_sold  \n",
       "0                          28                       19  \n",
       "1                          30                        5  \n",
       "2                          43                        4  \n",
       "3                          28                        8  \n",
       "4                          87                        1  \n",
       "...                       ...                      ...  \n",
       "1580                       55                       46  \n",
       "1581                       91                      114  \n",
       "1582                       29                       38  \n",
       "1583                       15                       15  \n",
       "1584                        9                        5  \n",
       "\n",
       "[1585 rows x 21 columns]"
      ]
     },
     "execution_count": 112,
     "metadata": {},
     "output_type": "execute_result"
    }
   ],
   "source": [
    "df_train = get_training_data(client, start_date=START_DATE, end_date=END_DATE)\n",
    "\n",
    "items_list = df_train.groupby(\"item_name\")[\"total_amount_sold\"].sum().sort_values(ascending=False).index.to_list()\n",
    "\n",
    "df_test = get_training_data(client, start_date=TEST_START_DATE, table_name=\"bqmlforecast.test_data\", items_list=items_list)\n",
    "df_test"
   ]
  },
  {
   "cell_type": "markdown",
   "id": "64fbfe97-546e-460c-91cf-e57fb38802e1",
   "metadata": {},
   "source": [
    "## Train Sales Forecasting Models\n",
    "\n",
    "The function `create_models_for_items` trains a multivariate ARIMA model for each `'item_name'` specified in the `items_list` parameter.\n",
    "By default the models are saved as `'bqmlforecast.arima_plus_xreg_model_<NAME OF THE ITEM>'`. For example: `bqmlforecast.arima_plus_xreg_model_black_velvet`."
   ]
  },
  {
   "cell_type": "code",
   "execution_count": null,
   "id": "9dbc1efc-eb17-4ab2-ba7b-2837301d6774",
   "metadata": {},
   "outputs": [],
   "source": [
    "columns = [\"avg_bottle_price\", \"avg_bottle_cost\", \"total_volume_sold_liters\"]"
   ]
  },
  {
   "cell_type": "code",
   "execution_count": null,
   "id": "d752f1c1-6225-4e2e-8950-08a5c6912772",
   "metadata": {},
   "outputs": [],
   "source": [
    "train_arima_models(client, columns)"
   ]
  },
  {
   "cell_type": "code",
   "execution_count": 134,
   "id": "0f1a5674-bf8b-4edd-af9d-11b49bbff03a",
   "metadata": {
    "execution": {
     "iopub.execute_input": "2024-08-07T18:20:18.489127Z",
     "iopub.status.busy": "2024-08-07T18:20:18.488713Z",
     "iopub.status.idle": "2024-08-07T18:20:28.553138Z",
     "shell.execute_reply": "2024-08-07T18:20:28.551496Z",
     "shell.execute_reply.started": "2024-08-07T18:20:18.489095Z"
    }
   },
   "outputs": [
    {
     "data": {
      "application/vnd.jupyter.widget-view+json": {
       "model_id": "883e53a6e6854bb1afe25dcf5b79b1ef",
       "version_major": 2,
       "version_minor": 0
      },
      "text/plain": [
       "Output()"
      ]
     },
     "metadata": {},
     "output_type": "display_data"
    },
    {
     "data": {
      "text/html": [
       "<pre style=\"white-space:pre;overflow-x:auto;line-height:normal;font-family:Menlo,'DejaVu Sans Mono',consolas,'Courier New',monospace\"></pre>\n"
      ],
      "text/plain": []
     },
     "metadata": {},
     "output_type": "display_data"
    },
    {
     "data": {
      "text/html": [
       "<pre style=\"white-space:pre;overflow-x:auto;line-height:normal;font-family:Menlo,'DejaVu Sans Mono',consolas,'Courier New',monospace\">\n",
       "</pre>\n"
      ],
      "text/plain": [
       "\n"
      ]
     },
     "metadata": {},
     "output_type": "display_data"
    }
   ],
   "source": [
    "create_future_tables(client, columns, horizon=30)"
   ]
  },
  {
   "cell_type": "code",
   "execution_count": 161,
   "id": "121caa48-ecb9-414b-886d-d8839d55555c",
   "metadata": {
    "execution": {
     "iopub.execute_input": "2024-08-07T19:10:54.818843Z",
     "iopub.status.busy": "2024-08-07T19:10:54.818132Z",
     "iopub.status.idle": "2024-08-07T19:11:04.255850Z",
     "shell.execute_reply": "2024-08-07T19:11:04.254913Z",
     "shell.execute_reply.started": "2024-08-07T19:10:54.818810Z"
    }
   },
   "outputs": [
    {
     "name": "stderr",
     "output_type": "stream",
     "text": [
      "I0000 00:00:1723057855.706249  512714 check_gcp_environment_no_op.cc:29] ALTS: Platforms other than Linux and Windows are not supported\n"
     ]
    }
   ],
   "source": [
    "create_future_data_query(client, horizon=30)"
   ]
  },
  {
   "cell_type": "code",
   "execution_count": 113,
   "id": "cb98a229-0c08-4ad5-8c31-882a5c023494",
   "metadata": {
    "execution": {
     "iopub.execute_input": "2024-08-07T17:45:11.139413Z",
     "iopub.status.busy": "2024-08-07T17:45:11.138702Z",
     "iopub.status.idle": "2024-08-07T17:47:31.586662Z",
     "shell.execute_reply": "2024-08-07T17:47:31.585781Z",
     "shell.execute_reply.started": "2024-08-07T17:45:11.139379Z"
    }
   },
   "outputs": [
    {
     "data": {
      "application/vnd.jupyter.widget-view+json": {
       "model_id": "513f1048698e49fd85f9f7744eeaf22e",
       "version_major": 2,
       "version_minor": 0
      },
      "text/plain": [
       "Output()"
      ]
     },
     "metadata": {},
     "output_type": "display_data"
    },
    {
     "data": {
      "text/html": [
       "<pre style=\"white-space:pre;overflow-x:auto;line-height:normal;font-family:Menlo,'DejaVu Sans Mono',consolas,'Courier New',monospace\"></pre>\n"
      ],
      "text/plain": []
     },
     "metadata": {},
     "output_type": "display_data"
    },
    {
     "data": {
      "text/html": [
       "<pre style=\"white-space:pre;overflow-x:auto;line-height:normal;font-family:Menlo,'DejaVu Sans Mono',consolas,'Courier New',monospace\">\n",
       "</pre>\n"
      ],
      "text/plain": [
       "\n"
      ]
     },
     "metadata": {},
     "output_type": "display_data"
    }
   ],
   "source": [
    "create_models_for_items(client, items_list, max_items=4, clean_spikes_and_dips=True)"
   ]
  },
  {
   "cell_type": "code",
   "execution_count": 164,
   "id": "0a84da5c-afc2-43db-a7d6-31bfe86bdc3a",
   "metadata": {
    "execution": {
     "iopub.execute_input": "2024-08-07T19:24:52.543364Z",
     "iopub.status.busy": "2024-08-07T19:24:52.542781Z",
     "iopub.status.idle": "2024-08-07T19:25:15.838954Z",
     "shell.execute_reply": "2024-08-07T19:25:15.838382Z",
     "shell.execute_reply.started": "2024-08-07T19:24:52.543336Z"
    }
   },
   "outputs": [
    {
     "data": {
      "application/vnd.jupyter.widget-view+json": {
       "model_id": "a1961167dc2043e5b0e6770cf13f4ec0",
       "version_major": 2,
       "version_minor": 0
      },
      "text/plain": [
       "Output()"
      ]
     },
     "metadata": {},
     "output_type": "display_data"
    },
    {
     "name": "stderr",
     "output_type": "stream",
     "text": [
      "I0000 00:00:1723058694.211335  512714 check_gcp_environment_no_op.cc:29] ALTS: Platforms other than Linux and Windows are not supported\n",
      "I0000 00:00:1723058697.480951  512714 check_gcp_environment_no_op.cc:29] ALTS: Platforms other than Linux and Windows are not supported\n",
      "I0000 00:00:1723058701.660807  512714 check_gcp_environment_no_op.cc:29] ALTS: Platforms other than Linux and Windows are not supported\n",
      "I0000 00:00:1723058710.108274  512714 check_gcp_environment_no_op.cc:29] ALTS: Platforms other than Linux and Windows are not supported\n",
      "I0000 00:00:1723058713.500243  512714 check_gcp_environment_no_op.cc:29] ALTS: Platforms other than Linux and Windows are not supported\n"
     ]
    },
    {
     "data": {
      "text/html": [
       "<pre style=\"white-space:pre;overflow-x:auto;line-height:normal;font-family:Menlo,'DejaVu Sans Mono',consolas,'Courier New',monospace\"></pre>\n"
      ],
      "text/plain": []
     },
     "metadata": {},
     "output_type": "display_data"
    },
    {
     "data": {
      "text/html": [
       "<pre style=\"white-space:pre;overflow-x:auto;line-height:normal;font-family:Menlo,'DejaVu Sans Mono',consolas,'Courier New',monospace\">\n",
       "</pre>\n"
      ],
      "text/plain": [
       "\n"
      ]
     },
     "metadata": {},
     "output_type": "display_data"
    },
    {
     "data": {
      "text/html": [
       "<div>\n",
       "<style scoped>\n",
       "    .dataframe tbody tr th:only-of-type {\n",
       "        vertical-align: middle;\n",
       "    }\n",
       "\n",
       "    .dataframe tbody tr th {\n",
       "        vertical-align: top;\n",
       "    }\n",
       "\n",
       "    .dataframe thead th {\n",
       "        text-align: right;\n",
       "    }\n",
       "</style>\n",
       "<table border=\"1\" class=\"dataframe\">\n",
       "  <thead>\n",
       "    <tr style=\"text-align: right;\">\n",
       "      <th></th>\n",
       "      <th>item_name</th>\n",
       "      <th>symmetric_mean_absolute_percentage_error</th>\n",
       "      <th>mean_absolute_percentage_error</th>\n",
       "      <th>root_mean_squared_error</th>\n",
       "      <th>mean_squared_error</th>\n",
       "      <th>mean_absolute_error</th>\n",
       "    </tr>\n",
       "  </thead>\n",
       "  <tbody>\n",
       "    <tr>\n",
       "      <th>0</th>\n",
       "      <td>FIREBALL CINNAMON WHISKEY</td>\n",
       "      <td>12.741</td>\n",
       "      <td>11.894</td>\n",
       "      <td>1241.944</td>\n",
       "      <td>1542425.457</td>\n",
       "      <td>1095.015</td>\n",
       "    </tr>\n",
       "    <tr>\n",
       "      <th>0</th>\n",
       "      <td>TITOS HANDMADE VODKA</td>\n",
       "      <td>5.501</td>\n",
       "      <td>5.681</td>\n",
       "      <td>320.045</td>\n",
       "      <td>102428.930</td>\n",
       "      <td>250.634</td>\n",
       "    </tr>\n",
       "    <tr>\n",
       "      <th>0</th>\n",
       "      <td>BLACK VELVET</td>\n",
       "      <td>10.536</td>\n",
       "      <td>9.824</td>\n",
       "      <td>243.268</td>\n",
       "      <td>59179.434</td>\n",
       "      <td>209.895</td>\n",
       "    </tr>\n",
       "    <tr>\n",
       "      <th>0</th>\n",
       "      <td>HAWKEYE VODKA</td>\n",
       "      <td>5.317</td>\n",
       "      <td>5.463</td>\n",
       "      <td>105.330</td>\n",
       "      <td>11094.496</td>\n",
       "      <td>86.208</td>\n",
       "    </tr>\n",
       "  </tbody>\n",
       "</table>\n",
       "</div>"
      ],
      "text/plain": [
       "                   item_name  symmetric_mean_absolute_percentage_error  \\\n",
       "0  FIREBALL CINNAMON WHISKEY                                    12.741   \n",
       "0       TITOS HANDMADE VODKA                                     5.501   \n",
       "0               BLACK VELVET                                    10.536   \n",
       "0              HAWKEYE VODKA                                     5.317   \n",
       "\n",
       "   mean_absolute_percentage_error  root_mean_squared_error  \\\n",
       "0                          11.894                 1241.944   \n",
       "0                           5.681                  320.045   \n",
       "0                           9.824                  243.268   \n",
       "0                           5.463                  105.330   \n",
       "\n",
       "   mean_squared_error  mean_absolute_error  \n",
       "0         1542425.457             1095.015  \n",
       "0          102428.930              250.634  \n",
       "0           59179.434              209.895  \n",
       "0           11094.496               86.208  "
      ]
     },
     "execution_count": 164,
     "metadata": {},
     "output_type": "execute_result"
    }
   ],
   "source": [
    "eval_df = evaluate_models(client, items_list[:4])\n",
    "eval_df"
   ]
  },
  {
   "cell_type": "code",
   "execution_count": 165,
   "id": "9fc07352-5a53-42e7-95bb-aaff4eca0926",
   "metadata": {
    "execution": {
     "iopub.execute_input": "2024-08-07T19:25:23.752074Z",
     "iopub.status.busy": "2024-08-07T19:25:23.751485Z",
     "iopub.status.idle": "2024-08-07T19:26:07.077421Z",
     "shell.execute_reply": "2024-08-07T19:26:07.076465Z",
     "shell.execute_reply.started": "2024-08-07T19:25:23.752046Z"
    }
   },
   "outputs": [
    {
     "data": {
      "application/vnd.jupyter.widget-view+json": {
       "model_id": "3e0f165cdcfe4b98b4d0df4736b453af",
       "version_major": 2,
       "version_minor": 0
      },
      "text/plain": [
       "Output()"
      ]
     },
     "metadata": {},
     "output_type": "display_data"
    },
    {
     "name": "stderr",
     "output_type": "stream",
     "text": [
      "I0000 00:00:1723058724.597026  512714 check_gcp_environment_no_op.cc:29] ALTS: Platforms other than Linux and Windows are not supported\n",
      "I0000 00:00:1723058728.096412  512714 check_gcp_environment_no_op.cc:29] ALTS: Platforms other than Linux and Windows are not supported\n",
      "I0000 00:00:1723058732.195105  512714 check_gcp_environment_no_op.cc:29] ALTS: Platforms other than Linux and Windows are not supported\n",
      "I0000 00:00:1723058735.443391  512714 check_gcp_environment_no_op.cc:29] ALTS: Platforms other than Linux and Windows are not supported\n",
      "I0000 00:00:1723058738.843075  512714 check_gcp_environment_no_op.cc:29] ALTS: Platforms other than Linux and Windows are not supported\n",
      "I0000 00:00:1723058742.656487  512714 check_gcp_environment_no_op.cc:29] ALTS: Platforms other than Linux and Windows are not supported\n",
      "I0000 00:00:1723058745.979139  512714 check_gcp_environment_no_op.cc:29] ALTS: Platforms other than Linux and Windows are not supported\n",
      "I0000 00:00:1723058750.222219  512714 check_gcp_environment_no_op.cc:29] ALTS: Platforms other than Linux and Windows are not supported\n",
      "I0000 00:00:1723058754.165862  512714 check_gcp_environment_no_op.cc:29] ALTS: Platforms other than Linux and Windows are not supported\n",
      "I0000 00:00:1723058757.479917  512714 check_gcp_environment_no_op.cc:29] ALTS: Platforms other than Linux and Windows are not supported\n",
      "I0000 00:00:1723058760.842324  512714 check_gcp_environment_no_op.cc:29] ALTS: Platforms other than Linux and Windows are not supported\n",
      "I0000 00:00:1723058764.600072  512714 check_gcp_environment_no_op.cc:29] ALTS: Platforms other than Linux and Windows are not supported\n"
     ]
    },
    {
     "data": {
      "text/html": [
       "<pre style=\"white-space:pre;overflow-x:auto;line-height:normal;font-family:Menlo,'DejaVu Sans Mono',consolas,'Courier New',monospace\"></pre>\n"
      ],
      "text/plain": []
     },
     "metadata": {},
     "output_type": "display_data"
    },
    {
     "data": {
      "text/html": [
       "<pre style=\"white-space:pre;overflow-x:auto;line-height:normal;font-family:Menlo,'DejaVu Sans Mono',consolas,'Courier New',monospace\">\n",
       "</pre>\n"
      ],
      "text/plain": [
       "\n"
      ]
     },
     "metadata": {},
     "output_type": "display_data"
    },
    {
     "data": {
      "application/vnd.plotly.v1+json": {
       "config": {
        "plotlyServerURL": "https://plot.ly"
       },
       "data": [
        {
         "mode": "lines",
         "name": "Historical",
         "type": "scatter",
         "x": [
          "2024-05-24T00:00:00",
          "2024-05-27T00:00:00",
          "2024-05-28T00:00:00",
          "2024-05-29T00:00:00",
          "2024-05-30T00:00:00",
          "2024-05-31T00:00:00",
          "2024-06-01T00:00:00",
          "2024-06-02T00:00:00",
          "2024-06-03T00:00:00",
          "2024-06-04T00:00:00",
          "2024-06-05T00:00:00",
          "2024-06-06T00:00:00",
          "2024-06-07T00:00:00",
          "2024-06-09T00:00:00",
          "2024-06-10T00:00:00",
          "2024-06-11T00:00:00",
          "2024-06-12T00:00:00",
          "2024-06-13T00:00:00",
          "2024-06-14T00:00:00",
          "2024-06-16T00:00:00",
          "2024-06-17T00:00:00",
          "2024-06-18T00:00:00",
          "2024-06-19T00:00:00",
          "2024-06-20T00:00:00",
          "2024-06-21T00:00:00",
          "2024-06-23T00:00:00",
          "2024-06-24T00:00:00",
          "2024-06-25T00:00:00",
          "2024-06-26T00:00:00",
          "2024-06-27T00:00:00",
          "2024-06-28T00:00:00",
          "2024-06-29T00:00:00",
          "2024-06-30T00:00:00",
          "2024-07-01T00:00:00",
          "2024-07-02T00:00:00",
          "2024-07-03T00:00:00",
          "2024-07-04T00:00:00",
          "2024-07-05T00:00:00",
          "2024-07-06T00:00:00",
          "2024-07-07T00:00:00",
          "2024-07-08T00:00:00",
          "2024-07-09T00:00:00",
          "2024-07-10T00:00:00",
          "2024-07-11T00:00:00",
          "2024-07-12T00:00:00",
          "2024-07-14T00:00:00",
          "2024-07-15T00:00:00",
          "2024-07-16T00:00:00",
          "2024-07-17T00:00:00",
          "2024-07-18T00:00:00",
          "2024-07-19T00:00:00",
          "2024-07-20T00:00:00",
          "2024-07-21T00:00:00",
          "2024-07-22T00:00:00",
          "2024-07-23T00:00:00",
          "2024-07-24T00:00:00"
         ],
         "y": [
          9472,
          10465,
          13218,
          9992,
          11166,
          12627,
          9801,
          3695,
          12638,
          13089,
          10379,
          9341,
          9394,
          5712,
          13416,
          11887,
          9798,
          11590,
          13087,
          1987,
          13545,
          14966,
          7683,
          13127,
          11839,
          3599,
          11817,
          13897,
          12230,
          6675,
          9882,
          6884,
          5651,
          14228,
          13939,
          9775,
          5400,
          6416,
          10691,
          1715,
          12632,
          10847,
          8094,
          8392,
          6464,
          4041,
          13028,
          17592,
          8494,
          10339,
          3312,
          9284,
          2833,
          11898,
          14086,
          9174
         ]
        },
        {
         "marker": {
          "color": "red",
          "symbol": "x"
         },
         "mode": "markers",
         "name": "Peaks",
         "type": "scatter",
         "x": [
          "2024-05-28T00:00:00",
          "2024-06-04T00:00:00",
          "2024-06-10T00:00:00",
          "2024-06-18T00:00:00",
          "2024-06-20T00:00:00",
          "2024-06-25T00:00:00",
          "2024-07-01T00:00:00",
          "2024-07-16T00:00:00",
          "2024-07-23T00:00:00"
         ],
         "y": [
          13218,
          13089,
          13416,
          14966,
          13127,
          13897,
          14228,
          17592,
          14086
         ]
        },
        {
         "line": {
          "color": "red",
          "dash": "dash"
         },
         "mode": "lines",
         "name": "Forecast",
         "type": "scatter",
         "x": [
          "2024-07-25T00:00:00",
          "2024-07-26T00:00:00",
          "2024-07-27T00:00:00",
          "2024-07-28T00:00:00",
          "2024-07-29T00:00:00",
          "2024-07-30T00:00:00",
          "2024-07-31T00:00:00",
          "2024-08-01T00:00:00",
          "2024-08-02T00:00:00",
          "2024-08-03T00:00:00",
          "2024-08-04T00:00:00",
          "2024-08-05T00:00:00",
          "2024-08-06T00:00:00",
          "2024-08-07T00:00:00",
          "2024-08-08T00:00:00",
          "2024-08-09T00:00:00",
          "2024-08-10T00:00:00",
          "2024-08-11T00:00:00",
          "2024-08-12T00:00:00",
          "2024-08-13T00:00:00",
          "2024-08-14T00:00:00",
          "2024-08-15T00:00:00",
          "2024-08-16T00:00:00",
          "2024-08-17T00:00:00",
          "2024-08-18T00:00:00",
          "2024-08-19T00:00:00",
          "2024-08-20T00:00:00",
          "2024-08-21T00:00:00",
          "2024-08-22T00:00:00",
          "2024-08-23T00:00:00"
         ],
         "y": [
          6397.256823134696,
          6154.330403504311,
          4435.387966510898,
          0,
          8655.478838142124,
          10771.763571586634,
          4948.228814349131,
          4517.7613595042785,
          4109.391945444077,
          3768.5541575745738,
          0,
          9120.90389519633,
          11550.411071639188,
          5952.801537980762,
          4773.672566235851,
          4608.611803030944,
          5810.23694051904,
          1773.0597868317273,
          9279.438987774687,
          11081.910281143675,
          5473.673961113644,
          4920.724633846199,
          5069.202562460821,
          6009.208864453656,
          1966.1980759589642,
          9918.38905481156,
          12184.212051031936,
          6514.087234687642,
          5144.960344649589,
          4504.72939593115
         ]
        },
        {
         "line": {
          "width": 0
         },
         "mode": "lines",
         "showlegend": false,
         "type": "scatter",
         "x": [
          "2024-07-25T00:00:00",
          "2024-07-26T00:00:00",
          "2024-07-27T00:00:00",
          "2024-07-28T00:00:00",
          "2024-07-29T00:00:00",
          "2024-07-30T00:00:00",
          "2024-07-31T00:00:00",
          "2024-08-01T00:00:00",
          "2024-08-02T00:00:00",
          "2024-08-03T00:00:00",
          "2024-08-04T00:00:00",
          "2024-08-05T00:00:00",
          "2024-08-06T00:00:00",
          "2024-08-07T00:00:00",
          "2024-08-08T00:00:00",
          "2024-08-09T00:00:00",
          "2024-08-10T00:00:00",
          "2024-08-11T00:00:00",
          "2024-08-12T00:00:00",
          "2024-08-13T00:00:00",
          "2024-08-14T00:00:00",
          "2024-08-15T00:00:00",
          "2024-08-16T00:00:00",
          "2024-08-17T00:00:00",
          "2024-08-18T00:00:00",
          "2024-08-19T00:00:00",
          "2024-08-20T00:00:00",
          "2024-08-21T00:00:00",
          "2024-08-22T00:00:00",
          "2024-08-23T00:00:00"
         ],
         "y": [
          4776.244613694802,
          4452.629230950664,
          2717.3263215719808,
          0,
          6301.251144838002,
          8417.187188764885,
          2593.303793639583,
          2162.4877525138345,
          1753.7698037567288,
          1412.583532751421,
          0,
          6764.236458693374,
          9193.39530654653,
          3595.437495768097,
          2415.9602983500636,
          2250.551360896126,
          3451.8283755365082,
          0,
          6920.334331209662,
          8722.457655798404,
          3113.873418298509,
          2560.576224848893,
          2708.706338546361,
          3648.364876864401,
          0,
          7556.849693509243,
          9822.32507964612,
          4151.85270437022,
          2782.3783065298794,
          2141.7999011159127
         ]
        },
        {
         "fill": "tonexty",
         "fillcolor": "rgba(83, 156, 175, 0.4)",
         "line": {
          "width": 0
         },
         "mode": "lines",
         "name": "90.0% confidence interval",
         "type": "scatter",
         "x": [
          "2024-07-25T00:00:00",
          "2024-07-26T00:00:00",
          "2024-07-27T00:00:00",
          "2024-07-28T00:00:00",
          "2024-07-29T00:00:00",
          "2024-07-30T00:00:00",
          "2024-07-31T00:00:00",
          "2024-08-01T00:00:00",
          "2024-08-02T00:00:00",
          "2024-08-03T00:00:00",
          "2024-08-04T00:00:00",
          "2024-08-05T00:00:00",
          "2024-08-06T00:00:00",
          "2024-08-07T00:00:00",
          "2024-08-08T00:00:00",
          "2024-08-09T00:00:00",
          "2024-08-10T00:00:00",
          "2024-08-11T00:00:00",
          "2024-08-12T00:00:00",
          "2024-08-13T00:00:00",
          "2024-08-14T00:00:00",
          "2024-08-15T00:00:00",
          "2024-08-16T00:00:00",
          "2024-08-17T00:00:00",
          "2024-08-18T00:00:00",
          "2024-08-19T00:00:00",
          "2024-08-20T00:00:00",
          "2024-08-21T00:00:00",
          "2024-08-22T00:00:00",
          "2024-08-23T00:00:00"
         ],
         "y": [
          8018.26903257459,
          7856.031576057958,
          6153.449611449815,
          1658.5285733282644,
          11009.706531446245,
          13126.339954408384,
          7303.15383505868,
          6873.0349664947225,
          6465.014087131424,
          6124.524782397726,
          2266.720524851556,
          11477.571331699288,
          13907.426836731845,
          8310.165580193427,
          7131.384834121639,
          6966.672245165762,
          8168.645505501572,
          4131.816423283413,
          11638.543644339712,
          13441.362906488946,
          7833.474503928778,
          7280.873042843505,
          7429.698786375282,
          8370.05285204291,
          4327.389776003296,
          12279.928416113877,
          14546.099022417753,
          8876.321765005065,
          7507.542382769299,
          6867.658890746387
         ]
        },
        {
         "line": {
          "color": "green"
         },
         "mode": "lines",
         "name": "Actual",
         "type": "scatter",
         "x": [
          "2024-07-25T00:00:00",
          "2024-07-26T00:00:00",
          "2024-07-27T00:00:00",
          "2024-07-28T00:00:00",
          "2024-07-29T00:00:00",
          "2024-07-30T00:00:00",
          "2024-07-31T00:00:00",
          "2024-08-01T00:00:00",
          "2024-08-02T00:00:00",
          "2024-08-03T00:00:00",
          "2024-08-04T00:00:00",
          "2024-08-05T00:00:00",
          "2024-08-06T00:00:00",
          "2024-08-07T00:00:00",
          "2024-08-08T00:00:00",
          "2024-08-09T00:00:00",
          "2024-08-10T00:00:00",
          "2024-08-11T00:00:00",
          "2024-08-12T00:00:00",
          "2024-08-13T00:00:00",
          "2024-08-14T00:00:00",
          "2024-08-15T00:00:00",
          "2024-08-16T00:00:00",
          "2024-08-17T00:00:00",
          "2024-08-18T00:00:00",
          "2024-08-19T00:00:00",
          "2024-08-20T00:00:00",
          "2024-08-21T00:00:00",
          "2024-08-22T00:00:00",
          "2024-08-23T00:00:00"
         ],
         "y": [
          11845,
          7598,
          null,
          3651,
          10660,
          15508,
          8743,
          null,
          null,
          null,
          null,
          null,
          null,
          null,
          null,
          null,
          null,
          null,
          null,
          null,
          null,
          null,
          null,
          null,
          null,
          null,
          null,
          null,
          null,
          null
         ]
        }
       ],
       "layout": {
        "autosize": true,
        "legend": {
         "font": {
          "size": 12
         },
         "x": 0,
         "y": 1
        },
        "template": {
         "data": {
          "bar": [
           {
            "error_x": {
             "color": "#2a3f5f"
            },
            "error_y": {
             "color": "#2a3f5f"
            },
            "marker": {
             "line": {
              "color": "#E5ECF6",
              "width": 0.5
             },
             "pattern": {
              "fillmode": "overlay",
              "size": 10,
              "solidity": 0.2
             }
            },
            "type": "bar"
           }
          ],
          "barpolar": [
           {
            "marker": {
             "line": {
              "color": "#E5ECF6",
              "width": 0.5
             },
             "pattern": {
              "fillmode": "overlay",
              "size": 10,
              "solidity": 0.2
             }
            },
            "type": "barpolar"
           }
          ],
          "carpet": [
           {
            "aaxis": {
             "endlinecolor": "#2a3f5f",
             "gridcolor": "white",
             "linecolor": "white",
             "minorgridcolor": "white",
             "startlinecolor": "#2a3f5f"
            },
            "baxis": {
             "endlinecolor": "#2a3f5f",
             "gridcolor": "white",
             "linecolor": "white",
             "minorgridcolor": "white",
             "startlinecolor": "#2a3f5f"
            },
            "type": "carpet"
           }
          ],
          "choropleth": [
           {
            "colorbar": {
             "outlinewidth": 0,
             "ticks": ""
            },
            "type": "choropleth"
           }
          ],
          "contour": [
           {
            "colorbar": {
             "outlinewidth": 0,
             "ticks": ""
            },
            "colorscale": [
             [
              0,
              "#0d0887"
             ],
             [
              0.1111111111111111,
              "#46039f"
             ],
             [
              0.2222222222222222,
              "#7201a8"
             ],
             [
              0.3333333333333333,
              "#9c179e"
             ],
             [
              0.4444444444444444,
              "#bd3786"
             ],
             [
              0.5555555555555556,
              "#d8576b"
             ],
             [
              0.6666666666666666,
              "#ed7953"
             ],
             [
              0.7777777777777778,
              "#fb9f3a"
             ],
             [
              0.8888888888888888,
              "#fdca26"
             ],
             [
              1,
              "#f0f921"
             ]
            ],
            "type": "contour"
           }
          ],
          "contourcarpet": [
           {
            "colorbar": {
             "outlinewidth": 0,
             "ticks": ""
            },
            "type": "contourcarpet"
           }
          ],
          "heatmap": [
           {
            "colorbar": {
             "outlinewidth": 0,
             "ticks": ""
            },
            "colorscale": [
             [
              0,
              "#0d0887"
             ],
             [
              0.1111111111111111,
              "#46039f"
             ],
             [
              0.2222222222222222,
              "#7201a8"
             ],
             [
              0.3333333333333333,
              "#9c179e"
             ],
             [
              0.4444444444444444,
              "#bd3786"
             ],
             [
              0.5555555555555556,
              "#d8576b"
             ],
             [
              0.6666666666666666,
              "#ed7953"
             ],
             [
              0.7777777777777778,
              "#fb9f3a"
             ],
             [
              0.8888888888888888,
              "#fdca26"
             ],
             [
              1,
              "#f0f921"
             ]
            ],
            "type": "heatmap"
           }
          ],
          "heatmapgl": [
           {
            "colorbar": {
             "outlinewidth": 0,
             "ticks": ""
            },
            "colorscale": [
             [
              0,
              "#0d0887"
             ],
             [
              0.1111111111111111,
              "#46039f"
             ],
             [
              0.2222222222222222,
              "#7201a8"
             ],
             [
              0.3333333333333333,
              "#9c179e"
             ],
             [
              0.4444444444444444,
              "#bd3786"
             ],
             [
              0.5555555555555556,
              "#d8576b"
             ],
             [
              0.6666666666666666,
              "#ed7953"
             ],
             [
              0.7777777777777778,
              "#fb9f3a"
             ],
             [
              0.8888888888888888,
              "#fdca26"
             ],
             [
              1,
              "#f0f921"
             ]
            ],
            "type": "heatmapgl"
           }
          ],
          "histogram": [
           {
            "marker": {
             "pattern": {
              "fillmode": "overlay",
              "size": 10,
              "solidity": 0.2
             }
            },
            "type": "histogram"
           }
          ],
          "histogram2d": [
           {
            "colorbar": {
             "outlinewidth": 0,
             "ticks": ""
            },
            "colorscale": [
             [
              0,
              "#0d0887"
             ],
             [
              0.1111111111111111,
              "#46039f"
             ],
             [
              0.2222222222222222,
              "#7201a8"
             ],
             [
              0.3333333333333333,
              "#9c179e"
             ],
             [
              0.4444444444444444,
              "#bd3786"
             ],
             [
              0.5555555555555556,
              "#d8576b"
             ],
             [
              0.6666666666666666,
              "#ed7953"
             ],
             [
              0.7777777777777778,
              "#fb9f3a"
             ],
             [
              0.8888888888888888,
              "#fdca26"
             ],
             [
              1,
              "#f0f921"
             ]
            ],
            "type": "histogram2d"
           }
          ],
          "histogram2dcontour": [
           {
            "colorbar": {
             "outlinewidth": 0,
             "ticks": ""
            },
            "colorscale": [
             [
              0,
              "#0d0887"
             ],
             [
              0.1111111111111111,
              "#46039f"
             ],
             [
              0.2222222222222222,
              "#7201a8"
             ],
             [
              0.3333333333333333,
              "#9c179e"
             ],
             [
              0.4444444444444444,
              "#bd3786"
             ],
             [
              0.5555555555555556,
              "#d8576b"
             ],
             [
              0.6666666666666666,
              "#ed7953"
             ],
             [
              0.7777777777777778,
              "#fb9f3a"
             ],
             [
              0.8888888888888888,
              "#fdca26"
             ],
             [
              1,
              "#f0f921"
             ]
            ],
            "type": "histogram2dcontour"
           }
          ],
          "mesh3d": [
           {
            "colorbar": {
             "outlinewidth": 0,
             "ticks": ""
            },
            "type": "mesh3d"
           }
          ],
          "parcoords": [
           {
            "line": {
             "colorbar": {
              "outlinewidth": 0,
              "ticks": ""
             }
            },
            "type": "parcoords"
           }
          ],
          "pie": [
           {
            "automargin": true,
            "type": "pie"
           }
          ],
          "scatter": [
           {
            "fillpattern": {
             "fillmode": "overlay",
             "size": 10,
             "solidity": 0.2
            },
            "type": "scatter"
           }
          ],
          "scatter3d": [
           {
            "line": {
             "colorbar": {
              "outlinewidth": 0,
              "ticks": ""
             }
            },
            "marker": {
             "colorbar": {
              "outlinewidth": 0,
              "ticks": ""
             }
            },
            "type": "scatter3d"
           }
          ],
          "scattercarpet": [
           {
            "marker": {
             "colorbar": {
              "outlinewidth": 0,
              "ticks": ""
             }
            },
            "type": "scattercarpet"
           }
          ],
          "scattergeo": [
           {
            "marker": {
             "colorbar": {
              "outlinewidth": 0,
              "ticks": ""
             }
            },
            "type": "scattergeo"
           }
          ],
          "scattergl": [
           {
            "marker": {
             "colorbar": {
              "outlinewidth": 0,
              "ticks": ""
             }
            },
            "type": "scattergl"
           }
          ],
          "scattermapbox": [
           {
            "marker": {
             "colorbar": {
              "outlinewidth": 0,
              "ticks": ""
             }
            },
            "type": "scattermapbox"
           }
          ],
          "scatterpolar": [
           {
            "marker": {
             "colorbar": {
              "outlinewidth": 0,
              "ticks": ""
             }
            },
            "type": "scatterpolar"
           }
          ],
          "scatterpolargl": [
           {
            "marker": {
             "colorbar": {
              "outlinewidth": 0,
              "ticks": ""
             }
            },
            "type": "scatterpolargl"
           }
          ],
          "scatterternary": [
           {
            "marker": {
             "colorbar": {
              "outlinewidth": 0,
              "ticks": ""
             }
            },
            "type": "scatterternary"
           }
          ],
          "surface": [
           {
            "colorbar": {
             "outlinewidth": 0,
             "ticks": ""
            },
            "colorscale": [
             [
              0,
              "#0d0887"
             ],
             [
              0.1111111111111111,
              "#46039f"
             ],
             [
              0.2222222222222222,
              "#7201a8"
             ],
             [
              0.3333333333333333,
              "#9c179e"
             ],
             [
              0.4444444444444444,
              "#bd3786"
             ],
             [
              0.5555555555555556,
              "#d8576b"
             ],
             [
              0.6666666666666666,
              "#ed7953"
             ],
             [
              0.7777777777777778,
              "#fb9f3a"
             ],
             [
              0.8888888888888888,
              "#fdca26"
             ],
             [
              1,
              "#f0f921"
             ]
            ],
            "type": "surface"
           }
          ],
          "table": [
           {
            "cells": {
             "fill": {
              "color": "#EBF0F8"
             },
             "line": {
              "color": "white"
             }
            },
            "header": {
             "fill": {
              "color": "#C8D4E3"
             },
             "line": {
              "color": "white"
             }
            },
            "type": "table"
           }
          ]
         },
         "layout": {
          "annotationdefaults": {
           "arrowcolor": "#2a3f5f",
           "arrowhead": 0,
           "arrowwidth": 1
          },
          "autotypenumbers": "strict",
          "coloraxis": {
           "colorbar": {
            "outlinewidth": 0,
            "ticks": ""
           }
          },
          "colorscale": {
           "diverging": [
            [
             0,
             "#8e0152"
            ],
            [
             0.1,
             "#c51b7d"
            ],
            [
             0.2,
             "#de77ae"
            ],
            [
             0.3,
             "#f1b6da"
            ],
            [
             0.4,
             "#fde0ef"
            ],
            [
             0.5,
             "#f7f7f7"
            ],
            [
             0.6,
             "#e6f5d0"
            ],
            [
             0.7,
             "#b8e186"
            ],
            [
             0.8,
             "#7fbc41"
            ],
            [
             0.9,
             "#4d9221"
            ],
            [
             1,
             "#276419"
            ]
           ],
           "sequential": [
            [
             0,
             "#0d0887"
            ],
            [
             0.1111111111111111,
             "#46039f"
            ],
            [
             0.2222222222222222,
             "#7201a8"
            ],
            [
             0.3333333333333333,
             "#9c179e"
            ],
            [
             0.4444444444444444,
             "#bd3786"
            ],
            [
             0.5555555555555556,
             "#d8576b"
            ],
            [
             0.6666666666666666,
             "#ed7953"
            ],
            [
             0.7777777777777778,
             "#fb9f3a"
            ],
            [
             0.8888888888888888,
             "#fdca26"
            ],
            [
             1,
             "#f0f921"
            ]
           ],
           "sequentialminus": [
            [
             0,
             "#0d0887"
            ],
            [
             0.1111111111111111,
             "#46039f"
            ],
            [
             0.2222222222222222,
             "#7201a8"
            ],
            [
             0.3333333333333333,
             "#9c179e"
            ],
            [
             0.4444444444444444,
             "#bd3786"
            ],
            [
             0.5555555555555556,
             "#d8576b"
            ],
            [
             0.6666666666666666,
             "#ed7953"
            ],
            [
             0.7777777777777778,
             "#fb9f3a"
            ],
            [
             0.8888888888888888,
             "#fdca26"
            ],
            [
             1,
             "#f0f921"
            ]
           ]
          },
          "colorway": [
           "#636efa",
           "#EF553B",
           "#00cc96",
           "#ab63fa",
           "#FFA15A",
           "#19d3f3",
           "#FF6692",
           "#B6E880",
           "#FF97FF",
           "#FECB52"
          ],
          "font": {
           "color": "#2a3f5f"
          },
          "geo": {
           "bgcolor": "white",
           "lakecolor": "white",
           "landcolor": "#E5ECF6",
           "showlakes": true,
           "showland": true,
           "subunitcolor": "white"
          },
          "hoverlabel": {
           "align": "left"
          },
          "hovermode": "closest",
          "mapbox": {
           "style": "light"
          },
          "paper_bgcolor": "white",
          "plot_bgcolor": "#E5ECF6",
          "polar": {
           "angularaxis": {
            "gridcolor": "white",
            "linecolor": "white",
            "ticks": ""
           },
           "bgcolor": "#E5ECF6",
           "radialaxis": {
            "gridcolor": "white",
            "linecolor": "white",
            "ticks": ""
           }
          },
          "scene": {
           "xaxis": {
            "backgroundcolor": "#E5ECF6",
            "gridcolor": "white",
            "gridwidth": 2,
            "linecolor": "white",
            "showbackground": true,
            "ticks": "",
            "zerolinecolor": "white"
           },
           "yaxis": {
            "backgroundcolor": "#E5ECF6",
            "gridcolor": "white",
            "gridwidth": 2,
            "linecolor": "white",
            "showbackground": true,
            "ticks": "",
            "zerolinecolor": "white"
           },
           "zaxis": {
            "backgroundcolor": "#E5ECF6",
            "gridcolor": "white",
            "gridwidth": 2,
            "linecolor": "white",
            "showbackground": true,
            "ticks": "",
            "zerolinecolor": "white"
           }
          },
          "shapedefaults": {
           "line": {
            "color": "#2a3f5f"
           }
          },
          "ternary": {
           "aaxis": {
            "gridcolor": "white",
            "linecolor": "white",
            "ticks": ""
           },
           "baxis": {
            "gridcolor": "white",
            "linecolor": "white",
            "ticks": ""
           },
           "bgcolor": "#E5ECF6",
           "caxis": {
            "gridcolor": "white",
            "linecolor": "white",
            "ticks": ""
           }
          },
          "title": {
           "x": 0.05
          },
          "xaxis": {
           "automargin": true,
           "gridcolor": "white",
           "linecolor": "white",
           "ticks": "",
           "title": {
            "standoff": 15
           },
           "zerolinecolor": "white",
           "zerolinewidth": 2
          },
          "yaxis": {
           "automargin": true,
           "gridcolor": "white",
           "linecolor": "white",
           "ticks": "",
           "title": {
            "standoff": 15
           },
           "zerolinecolor": "white",
           "zerolinewidth": 2
          }
         }
        },
        "title": {
         "font": {
          "size": 16
         },
         "text": "Item: FIREBALL CINNAMON WHISKEY"
        },
        "xaxis": {
         "autorange": true,
         "range": [
          "2024-05-23 04:06:49.8135",
          "2024-08-23"
         ],
         "type": "date"
        },
        "yaxis": {
         "autorange": true,
         "range": [
          -996.2007722007721,
          18927.81467181467
         ],
         "type": "linear"
        }
       }
      },
      "image/png": "[encoded data removed]",
      "text/html": [
       "<div>                            <div id=\"a0563bc2-f241-47a4-b850-2745a1a0ffb3\" class=\"plotly-graph-div\" style=\"height:400px; width:100%;\"></div>            <script type=\"text/javascript\">                require([\"plotly\"], function(Plotly) {                    window.PLOTLYENV=window.PLOTLYENV || {};                                    if (document.getElementById(\"a0563bc2-f241-47a4-b850-2745a1a0ffb3\")) {                    Plotly.newPlot(                        \"a0563bc2-f241-47a4-b850-2745a1a0ffb3\",                        [{\"mode\":\"lines\",\"name\":\"Historical\",\"x\":[\"2024-05-24T00:00:00\",\"2024-05-27T00:00:00\",\"2024-05-28T00:00:00\",\"2024-05-29T00:00:00\",\"2024-05-30T00:00:00\",\"2024-05-31T00:00:00\",\"2024-06-01T00:00:00\",\"2024-06-02T00:00:00\",\"2024-06-03T00:00:00\",\"2024-06-04T00:00:00\",\"2024-06-05T00:00:00\",\"2024-06-06T00:00:00\",\"2024-06-07T00:00:00\",\"2024-06-09T00:00:00\",\"2024-06-10T00:00:00\",\"2024-06-11T00:00:00\",\"2024-06-12T00:00:00\",\"2024-06-13T00:00:00\",\"2024-06-14T00:00:00\",\"2024-06-16T00:00:00\",\"2024-06-17T00:00:00\",\"2024-06-18T00:00:00\",\"2024-06-19T00:00:00\",\"2024-06-20T00:00:00\",\"2024-06-21T00:00:00\",\"2024-06-23T00:00:00\",\"2024-06-24T00:00:00\",\"2024-06-25T00:00:00\",\"2024-06-26T00:00:00\",\"2024-06-27T00:00:00\",\"2024-06-28T00:00:00\",\"2024-06-29T00:00:00\",\"2024-06-30T00:00:00\",\"2024-07-01T00:00:00\",\"2024-07-02T00:00:00\",\"2024-07-03T00:00:00\",\"2024-07-04T00:00:00\",\"2024-07-05T00:00:00\",\"2024-07-06T00:00:00\",\"2024-07-07T00:00:00\",\"2024-07-08T00:00:00\",\"2024-07-09T00:00:00\",\"2024-07-10T00:00:00\",\"2024-07-11T00:00:00\",\"2024-07-12T00:00:00\",\"2024-07-14T00:00:00\",\"2024-07-15T00:00:00\",\"2024-07-16T00:00:00\",\"2024-07-17T00:00:00\",\"2024-07-18T00:00:00\",\"2024-07-19T00:00:00\",\"2024-07-20T00:00:00\",\"2024-07-21T00:00:00\",\"2024-07-22T00:00:00\",\"2024-07-23T00:00:00\",\"2024-07-24T00:00:00\"],\"y\":[9472.0,10465.0,13218.0,9992.0,11166.0,12627.0,9801.0,3695.0,12638.0,13089.0,10379.0,9341.0,9394.0,5712.0,13416.0,11887.0,9798.0,11590.0,13087.0,1987.0,13545.0,14966.0,7683.0,13127.0,11839.0,3599.0,11817.0,13897.0,12230.0,6675.0,9882.0,6884.0,5651.0,14228.0,13939.0,9775.0,5400.0,6416.0,10691.0,1715.0,12632.0,10847.0,8094.0,8392.0,6464.0,4041.0,13028.0,17592.0,8494.0,10339.0,3312.0,9284.0,2833.0,11898.0,14086.0,9174.0],\"type\":\"scatter\"},{\"marker\":{\"color\":\"red\",\"symbol\":\"x\"},\"mode\":\"markers\",\"name\":\"Peaks\",\"x\":[\"2024-05-28T00:00:00\",\"2024-06-04T00:00:00\",\"2024-06-10T00:00:00\",\"2024-06-18T00:00:00\",\"2024-06-20T00:00:00\",\"2024-06-25T00:00:00\",\"2024-07-01T00:00:00\",\"2024-07-16T00:00:00\",\"2024-07-23T00:00:00\"],\"y\":[13218.0,13089.0,13416.0,14966.0,13127.0,13897.0,14228.0,17592.0,14086.0],\"type\":\"scatter\"},{\"line\":{\"color\":\"red\",\"dash\":\"dash\"},\"mode\":\"lines\",\"name\":\"Forecast\",\"x\":[\"2024-07-25T00:00:00\",\"2024-07-26T00:00:00\",\"2024-07-27T00:00:00\",\"2024-07-28T00:00:00\",\"2024-07-29T00:00:00\",\"2024-07-30T00:00:00\",\"2024-07-31T00:00:00\",\"2024-08-01T00:00:00\",\"2024-08-02T00:00:00\",\"2024-08-03T00:00:00\",\"2024-08-04T00:00:00\",\"2024-08-05T00:00:00\",\"2024-08-06T00:00:00\",\"2024-08-07T00:00:00\",\"2024-08-08T00:00:00\",\"2024-08-09T00:00:00\",\"2024-08-10T00:00:00\",\"2024-08-11T00:00:00\",\"2024-08-12T00:00:00\",\"2024-08-13T00:00:00\",\"2024-08-14T00:00:00\",\"2024-08-15T00:00:00\",\"2024-08-16T00:00:00\",\"2024-08-17T00:00:00\",\"2024-08-18T00:00:00\",\"2024-08-19T00:00:00\",\"2024-08-20T00:00:00\",\"2024-08-21T00:00:00\",\"2024-08-22T00:00:00\",\"2024-08-23T00:00:00\"],\"y\":[6397.256823134696,6154.330403504311,4435.387966510898,0.0,8655.478838142124,10771.763571586634,4948.228814349131,4517.7613595042785,4109.391945444077,3768.5541575745738,0.0,9120.90389519633,11550.411071639188,5952.801537980762,4773.672566235851,4608.611803030944,5810.23694051904,1773.0597868317273,9279.438987774687,11081.910281143675,5473.673961113644,4920.724633846199,5069.202562460821,6009.208864453656,1966.1980759589642,9918.38905481156,12184.212051031936,6514.087234687642,5144.960344649589,4504.72939593115],\"type\":\"scatter\"},{\"line\":{\"width\":0},\"mode\":\"lines\",\"showlegend\":false,\"x\":[\"2024-07-25T00:00:00\",\"2024-07-26T00:00:00\",\"2024-07-27T00:00:00\",\"2024-07-28T00:00:00\",\"2024-07-29T00:00:00\",\"2024-07-30T00:00:00\",\"2024-07-31T00:00:00\",\"2024-08-01T00:00:00\",\"2024-08-02T00:00:00\",\"2024-08-03T00:00:00\",\"2024-08-04T00:00:00\",\"2024-08-05T00:00:00\",\"2024-08-06T00:00:00\",\"2024-08-07T00:00:00\",\"2024-08-08T00:00:00\",\"2024-08-09T00:00:00\",\"2024-08-10T00:00:00\",\"2024-08-11T00:00:00\",\"2024-08-12T00:00:00\",\"2024-08-13T00:00:00\",\"2024-08-14T00:00:00\",\"2024-08-15T00:00:00\",\"2024-08-16T00:00:00\",\"2024-08-17T00:00:00\",\"2024-08-18T00:00:00\",\"2024-08-19T00:00:00\",\"2024-08-20T00:00:00\",\"2024-08-21T00:00:00\",\"2024-08-22T00:00:00\",\"2024-08-23T00:00:00\"],\"y\":[4776.244613694802,4452.629230950664,2717.3263215719808,0.0,6301.251144838002,8417.187188764885,2593.303793639583,2162.4877525138345,1753.7698037567288,1412.583532751421,0.0,6764.236458693374,9193.39530654653,3595.437495768097,2415.9602983500636,2250.551360896126,3451.8283755365082,0.0,6920.334331209662,8722.457655798404,3113.873418298509,2560.576224848893,2708.706338546361,3648.364876864401,0.0,7556.849693509243,9822.32507964612,4151.85270437022,2782.3783065298794,2141.7999011159127],\"type\":\"scatter\"},{\"fill\":\"tonexty\",\"fillcolor\":\"rgba(83, 156, 175, 0.4)\",\"line\":{\"width\":0},\"mode\":\"lines\",\"name\":\"90.0% confidence interval\",\"x\":[\"2024-07-25T00:00:00\",\"2024-07-26T00:00:00\",\"2024-07-27T00:00:00\",\"2024-07-28T00:00:00\",\"2024-07-29T00:00:00\",\"2024-07-30T00:00:00\",\"2024-07-31T00:00:00\",\"2024-08-01T00:00:00\",\"2024-08-02T00:00:00\",\"2024-08-03T00:00:00\",\"2024-08-04T00:00:00\",\"2024-08-05T00:00:00\",\"2024-08-06T00:00:00\",\"2024-08-07T00:00:00\",\"2024-08-08T00:00:00\",\"2024-08-09T00:00:00\",\"2024-08-10T00:00:00\",\"2024-08-11T00:00:00\",\"2024-08-12T00:00:00\",\"2024-08-13T00:00:00\",\"2024-08-14T00:00:00\",\"2024-08-15T00:00:00\",\"2024-08-16T00:00:00\",\"2024-08-17T00:00:00\",\"2024-08-18T00:00:00\",\"2024-08-19T00:00:00\",\"2024-08-20T00:00:00\",\"2024-08-21T00:00:00\",\"2024-08-22T00:00:00\",\"2024-08-23T00:00:00\"],\"y\":[8018.26903257459,7856.031576057958,6153.449611449815,1658.5285733282644,11009.706531446245,13126.339954408384,7303.15383505868,6873.0349664947225,6465.014087131424,6124.524782397726,2266.720524851556,11477.571331699288,13907.426836731845,8310.165580193427,7131.384834121639,6966.672245165762,8168.645505501572,4131.816423283413,11638.543644339712,13441.362906488946,7833.474503928778,7280.873042843505,7429.698786375282,8370.05285204291,4327.389776003296,12279.928416113877,14546.099022417753,8876.321765005065,7507.542382769299,6867.658890746387],\"type\":\"scatter\"},{\"line\":{\"color\":\"green\"},\"mode\":\"lines\",\"name\":\"Actual\",\"x\":[\"2024-07-25T00:00:00\",\"2024-07-26T00:00:00\",\"2024-07-27T00:00:00\",\"2024-07-28T00:00:00\",\"2024-07-29T00:00:00\",\"2024-07-30T00:00:00\",\"2024-07-31T00:00:00\",\"2024-08-01T00:00:00\",\"2024-08-02T00:00:00\",\"2024-08-03T00:00:00\",\"2024-08-04T00:00:00\",\"2024-08-05T00:00:00\",\"2024-08-06T00:00:00\",\"2024-08-07T00:00:00\",\"2024-08-08T00:00:00\",\"2024-08-09T00:00:00\",\"2024-08-10T00:00:00\",\"2024-08-11T00:00:00\",\"2024-08-12T00:00:00\",\"2024-08-13T00:00:00\",\"2024-08-14T00:00:00\",\"2024-08-15T00:00:00\",\"2024-08-16T00:00:00\",\"2024-08-17T00:00:00\",\"2024-08-18T00:00:00\",\"2024-08-19T00:00:00\",\"2024-08-20T00:00:00\",\"2024-08-21T00:00:00\",\"2024-08-22T00:00:00\",\"2024-08-23T00:00:00\"],\"y\":[11845.0,7598.0,null,3651.0,10660.0,15508.0,8743.0,null,null,null,null,null,null,null,null,null,null,null,null,null,null,null,null,null,null,null,null,null,null,null],\"type\":\"scatter\"}],                        {\"template\":{\"data\":{\"histogram2dcontour\":[{\"type\":\"histogram2dcontour\",\"colorbar\":{\"outlinewidth\":0,\"ticks\":\"\"},\"colorscale\":[[0.0,\"#0d0887\"],[0.1111111111111111,\"#46039f\"],[0.2222222222222222,\"#7201a8\"],[0.3333333333333333,\"#9c179e\"],[0.4444444444444444,\"#bd3786\"],[0.5555555555555556,\"#d8576b\"],[0.6666666666666666,\"#ed7953\"],[0.7777777777777778,\"#fb9f3a\"],[0.8888888888888888,\"#fdca26\"],[1.0,\"#f0f921\"]]}],\"choropleth\":[{\"type\":\"choropleth\",\"colorbar\":{\"outlinewidth\":0,\"ticks\":\"\"}}],\"histogram2d\":[{\"type\":\"histogram2d\",\"colorbar\":{\"outlinewidth\":0,\"ticks\":\"\"},\"colorscale\":[[0.0,\"#0d0887\"],[0.1111111111111111,\"#46039f\"],[0.2222222222222222,\"#7201a8\"],[0.3333333333333333,\"#9c179e\"],[0.4444444444444444,\"#bd3786\"],[0.5555555555555556,\"#d8576b\"],[0.6666666666666666,\"#ed7953\"],[0.7777777777777778,\"#fb9f3a\"],[0.8888888888888888,\"#fdca26\"],[1.0,\"#f0f921\"]]}],\"heatmap\":[{\"type\":\"heatmap\",\"colorbar\":{\"outlinewidth\":0,\"ticks\":\"\"},\"colorscale\":[[0.0,\"#0d0887\"],[0.1111111111111111,\"#46039f\"],[0.2222222222222222,\"#7201a8\"],[0.3333333333333333,\"#9c179e\"],[0.4444444444444444,\"#bd3786\"],[0.5555555555555556,\"#d8576b\"],[0.6666666666666666,\"#ed7953\"],[0.7777777777777778,\"#fb9f3a\"],[0.8888888888888888,\"#fdca26\"],[1.0,\"#f0f921\"]]}],\"heatmapgl\":[{\"type\":\"heatmapgl\",\"colorbar\":{\"outlinewidth\":0,\"ticks\":\"\"},\"colorscale\":[[0.0,\"#0d0887\"],[0.1111111111111111,\"#46039f\"],[0.2222222222222222,\"#7201a8\"],[0.3333333333333333,\"#9c179e\"],[0.4444444444444444,\"#bd3786\"],[0.5555555555555556,\"#d8576b\"],[0.6666666666666666,\"#ed7953\"],[0.7777777777777778,\"#fb9f3a\"],[0.8888888888888888,\"#fdca26\"],[1.0,\"#f0f921\"]]}],\"contourcarpet\":[{\"type\":\"contourcarpet\",\"colorbar\":{\"outlinewidth\":0,\"ticks\":\"\"}}],\"contour\":[{\"type\":\"contour\",\"colorbar\":{\"outlinewidth\":0,\"ticks\":\"\"},\"colorscale\":[[0.0,\"#0d0887\"],[0.1111111111111111,\"#46039f\"],[0.2222222222222222,\"#7201a8\"],[0.3333333333333333,\"#9c179e\"],[0.4444444444444444,\"#bd3786\"],[0.5555555555555556,\"#d8576b\"],[0.6666666666666666,\"#ed7953\"],[0.7777777777777778,\"#fb9f3a\"],[0.8888888888888888,\"#fdca26\"],[1.0,\"#f0f921\"]]}],\"surface\":[{\"type\":\"surface\",\"colorbar\":{\"outlinewidth\":0,\"ticks\":\"\"},\"colorscale\":[[0.0,\"#0d0887\"],[0.1111111111111111,\"#46039f\"],[0.2222222222222222,\"#7201a8\"],[0.3333333333333333,\"#9c179e\"],[0.4444444444444444,\"#bd3786\"],[0.5555555555555556,\"#d8576b\"],[0.6666666666666666,\"#ed7953\"],[0.7777777777777778,\"#fb9f3a\"],[0.8888888888888888,\"#fdca26\"],[1.0,\"#f0f921\"]]}],\"mesh3d\":[{\"type\":\"mesh3d\",\"colorbar\":{\"outlinewidth\":0,\"ticks\":\"\"}}],\"scatter\":[{\"fillpattern\":{\"fillmode\":\"overlay\",\"size\":10,\"solidity\":0.2},\"type\":\"scatter\"}],\"parcoords\":[{\"type\":\"parcoords\",\"line\":{\"colorbar\":{\"outlinewidth\":0,\"ticks\":\"\"}}}],\"scatterpolargl\":[{\"type\":\"scatterpolargl\",\"marker\":{\"colorbar\":{\"outlinewidth\":0,\"ticks\":\"\"}}}],\"bar\":[{\"error_x\":{\"color\":\"#2a3f5f\"},\"error_y\":{\"color\":\"#2a3f5f\"},\"marker\":{\"line\":{\"color\":\"#E5ECF6\",\"width\":0.5},\"pattern\":{\"fillmode\":\"overlay\",\"size\":10,\"solidity\":0.2}},\"type\":\"bar\"}],\"scattergeo\":[{\"type\":\"scattergeo\",\"marker\":{\"colorbar\":{\"outlinewidth\":0,\"ticks\":\"\"}}}],\"scatterpolar\":[{\"type\":\"scatterpolar\",\"marker\":{\"colorbar\":{\"outlinewidth\":0,\"ticks\":\"\"}}}],\"histogram\":[{\"marker\":{\"pattern\":{\"fillmode\":\"overlay\",\"size\":10,\"solidity\":0.2}},\"type\":\"histogram\"}],\"scattergl\":[{\"type\":\"scattergl\",\"marker\":{\"colorbar\":{\"outlinewidth\":0,\"ticks\":\"\"}}}],\"scatter3d\":[{\"type\":\"scatter3d\",\"line\":{\"colorbar\":{\"outlinewidth\":0,\"ticks\":\"\"}},\"marker\":{\"colorbar\":{\"outlinewidth\":0,\"ticks\":\"\"}}}],\"scattermapbox\":[{\"type\":\"scattermapbox\",\"marker\":{\"colorbar\":{\"outlinewidth\":0,\"ticks\":\"\"}}}],\"scatterternary\":[{\"type\":\"scatterternary\",\"marker\":{\"colorbar\":{\"outlinewidth\":0,\"ticks\":\"\"}}}],\"scattercarpet\":[{\"type\":\"scattercarpet\",\"marker\":{\"colorbar\":{\"outlinewidth\":0,\"ticks\":\"\"}}}],\"carpet\":[{\"aaxis\":{\"endlinecolor\":\"#2a3f5f\",\"gridcolor\":\"white\",\"linecolor\":\"white\",\"minorgridcolor\":\"white\",\"startlinecolor\":\"#2a3f5f\"},\"baxis\":{\"endlinecolor\":\"#2a3f5f\",\"gridcolor\":\"white\",\"linecolor\":\"white\",\"minorgridcolor\":\"white\",\"startlinecolor\":\"#2a3f5f\"},\"type\":\"carpet\"}],\"table\":[{\"cells\":{\"fill\":{\"color\":\"#EBF0F8\"},\"line\":{\"color\":\"white\"}},\"header\":{\"fill\":{\"color\":\"#C8D4E3\"},\"line\":{\"color\":\"white\"}},\"type\":\"table\"}],\"barpolar\":[{\"marker\":{\"line\":{\"color\":\"#E5ECF6\",\"width\":0.5},\"pattern\":{\"fillmode\":\"overlay\",\"size\":10,\"solidity\":0.2}},\"type\":\"barpolar\"}],\"pie\":[{\"automargin\":true,\"type\":\"pie\"}]},\"layout\":{\"autotypenumbers\":\"strict\",\"colorway\":[\"#636efa\",\"#EF553B\",\"#00cc96\",\"#ab63fa\",\"#FFA15A\",\"#19d3f3\",\"#FF6692\",\"#B6E880\",\"#FF97FF\",\"#FECB52\"],\"font\":{\"color\":\"#2a3f5f\"},\"hovermode\":\"closest\",\"hoverlabel\":{\"align\":\"left\"},\"paper_bgcolor\":\"white\",\"plot_bgcolor\":\"#E5ECF6\",\"polar\":{\"bgcolor\":\"#E5ECF6\",\"angularaxis\":{\"gridcolor\":\"white\",\"linecolor\":\"white\",\"ticks\":\"\"},\"radialaxis\":{\"gridcolor\":\"white\",\"linecolor\":\"white\",\"ticks\":\"\"}},\"ternary\":{\"bgcolor\":\"#E5ECF6\",\"aaxis\":{\"gridcolor\":\"white\",\"linecolor\":\"white\",\"ticks\":\"\"},\"baxis\":{\"gridcolor\":\"white\",\"linecolor\":\"white\",\"ticks\":\"\"},\"caxis\":{\"gridcolor\":\"white\",\"linecolor\":\"white\",\"ticks\":\"\"}},\"coloraxis\":{\"colorbar\":{\"outlinewidth\":0,\"ticks\":\"\"}},\"colorscale\":{\"sequential\":[[0.0,\"#0d0887\"],[0.1111111111111111,\"#46039f\"],[0.2222222222222222,\"#7201a8\"],[0.3333333333333333,\"#9c179e\"],[0.4444444444444444,\"#bd3786\"],[0.5555555555555556,\"#d8576b\"],[0.6666666666666666,\"#ed7953\"],[0.7777777777777778,\"#fb9f3a\"],[0.8888888888888888,\"#fdca26\"],[1.0,\"#f0f921\"]],\"sequentialminus\":[[0.0,\"#0d0887\"],[0.1111111111111111,\"#46039f\"],[0.2222222222222222,\"#7201a8\"],[0.3333333333333333,\"#9c179e\"],[0.4444444444444444,\"#bd3786\"],[0.5555555555555556,\"#d8576b\"],[0.6666666666666666,\"#ed7953\"],[0.7777777777777778,\"#fb9f3a\"],[0.8888888888888888,\"#fdca26\"],[1.0,\"#f0f921\"]],\"diverging\":[[0,\"#8e0152\"],[0.1,\"#c51b7d\"],[0.2,\"#de77ae\"],[0.3,\"#f1b6da\"],[0.4,\"#fde0ef\"],[0.5,\"#f7f7f7\"],[0.6,\"#e6f5d0\"],[0.7,\"#b8e186\"],[0.8,\"#7fbc41\"],[0.9,\"#4d9221\"],[1,\"#276419\"]]},\"xaxis\":{\"gridcolor\":\"white\",\"linecolor\":\"white\",\"ticks\":\"\",\"title\":{\"standoff\":15},\"zerolinecolor\":\"white\",\"automargin\":true,\"zerolinewidth\":2},\"yaxis\":{\"gridcolor\":\"white\",\"linecolor\":\"white\",\"ticks\":\"\",\"title\":{\"standoff\":15},\"zerolinecolor\":\"white\",\"automargin\":true,\"zerolinewidth\":2},\"scene\":{\"xaxis\":{\"backgroundcolor\":\"#E5ECF6\",\"gridcolor\":\"white\",\"linecolor\":\"white\",\"showbackground\":true,\"ticks\":\"\",\"zerolinecolor\":\"white\",\"gridwidth\":2},\"yaxis\":{\"backgroundcolor\":\"#E5ECF6\",\"gridcolor\":\"white\",\"linecolor\":\"white\",\"showbackground\":true,\"ticks\":\"\",\"zerolinecolor\":\"white\",\"gridwidth\":2},\"zaxis\":{\"backgroundcolor\":\"#E5ECF6\",\"gridcolor\":\"white\",\"linecolor\":\"white\",\"showbackground\":true,\"ticks\":\"\",\"zerolinecolor\":\"white\",\"gridwidth\":2}},\"shapedefaults\":{\"line\":{\"color\":\"#2a3f5f\"}},\"annotationdefaults\":{\"arrowcolor\":\"#2a3f5f\",\"arrowhead\":0,\"arrowwidth\":1},\"geo\":{\"bgcolor\":\"white\",\"landcolor\":\"#E5ECF6\",\"subunitcolor\":\"white\",\"showland\":true,\"showlakes\":true,\"lakecolor\":\"white\"},\"title\":{\"x\":0.05},\"mapbox\":{\"style\":\"light\"}}},\"title\":{\"font\":{\"size\":16},\"text\":\"Item: FIREBALL CINNAMON WHISKEY\"},\"legend\":{\"font\":{\"size\":12},\"x\":0,\"y\":1.0},\"height\":400},                        {\"responsive\": true}                    ).then(function(){\n",
       "                            \n",
       "var gd = document.getElementById('a0563bc2-f241-47a4-b850-2745a1a0ffb3');\n",
       "var x = new MutationObserver(function (mutations, observer) {{\n",
       "        var display = window.getComputedStyle(gd).display;\n",
       "        if (!display || display === 'none') {{\n",
       "            console.log([gd, 'removed!']);\n",
       "            Plotly.purge(gd);\n",
       "            observer.disconnect();\n",
       "        }}\n",
       "}});\n",
       "\n",
       "// Listen for the removal of the full notebook cells\n",
       "var notebookContainer = gd.closest('#notebook-container');\n",
       "if (notebookContainer) {{\n",
       "    x.observe(notebookContainer, {childList: true});\n",
       "}}\n",
       "\n",
       "// Listen for the clearing of the current output cell\n",
       "var outputEl = gd.closest('.output');\n",
       "if (outputEl) {{\n",
       "    x.observe(outputEl, {childList: true});\n",
       "}}\n",
       "\n",
       "                        })                };                });            </script>        </div>"
      ]
     },
     "metadata": {},
     "output_type": "display_data"
    },
    {
     "data": {
      "application/vnd.plotly.v1+json": {
       "config": {
        "plotlyServerURL": "https://plot.ly"
       },
       "data": [
        {
         "mode": "lines",
         "name": "Historical",
         "type": "scatter",
         "x": [
          "2024-05-24T00:00:00",
          "2024-05-27T00:00:00",
          "2024-05-28T00:00:00",
          "2024-05-29T00:00:00",
          "2024-05-30T00:00:00",
          "2024-05-31T00:00:00",
          "2024-06-01T00:00:00",
          "2024-06-02T00:00:00",
          "2024-06-03T00:00:00",
          "2024-06-04T00:00:00",
          "2024-06-05T00:00:00",
          "2024-06-06T00:00:00",
          "2024-06-07T00:00:00",
          "2024-06-09T00:00:00",
          "2024-06-10T00:00:00",
          "2024-06-11T00:00:00",
          "2024-06-12T00:00:00",
          "2024-06-13T00:00:00",
          "2024-06-14T00:00:00",
          "2024-06-16T00:00:00",
          "2024-06-17T00:00:00",
          "2024-06-18T00:00:00",
          "2024-06-19T00:00:00",
          "2024-06-20T00:00:00",
          "2024-06-21T00:00:00",
          "2024-06-23T00:00:00",
          "2024-06-24T00:00:00",
          "2024-06-25T00:00:00",
          "2024-06-26T00:00:00",
          "2024-06-27T00:00:00",
          "2024-06-28T00:00:00",
          "2024-06-29T00:00:00",
          "2024-06-30T00:00:00",
          "2024-07-01T00:00:00",
          "2024-07-02T00:00:00",
          "2024-07-03T00:00:00",
          "2024-07-04T00:00:00",
          "2024-07-05T00:00:00",
          "2024-07-06T00:00:00",
          "2024-07-07T00:00:00",
          "2024-07-08T00:00:00",
          "2024-07-09T00:00:00",
          "2024-07-10T00:00:00",
          "2024-07-11T00:00:00",
          "2024-07-12T00:00:00",
          "2024-07-14T00:00:00",
          "2024-07-15T00:00:00",
          "2024-07-16T00:00:00",
          "2024-07-17T00:00:00",
          "2024-07-18T00:00:00",
          "2024-07-19T00:00:00",
          "2024-07-20T00:00:00",
          "2024-07-21T00:00:00",
          "2024-07-22T00:00:00",
          "2024-07-23T00:00:00",
          "2024-07-24T00:00:00"
         ],
         "y": [
          7251,
          2992,
          8964,
          7235,
          7048,
          7615,
          2925,
          1159,
          6194,
          5726,
          8272,
          5870,
          4266,
          1503,
          5715,
          5114,
          6440,
          5519,
          5429,
          703,
          5799,
          6271,
          6203,
          6129,
          6286,
          1447,
          6174,
          8459,
          9380,
          7805,
          6056,
          3006,
          895,
          13821,
          5513,
          4506,
          3474,
          5786,
          4105,
          1452,
          6816,
          5390,
          6865,
          5334,
          3762,
          1647,
          5783,
          6452,
          6027,
          18189,
          1441,
          2078,
          2326,
          3928,
          5985,
          6172
         ]
        },
        {
         "marker": {
          "color": "red",
          "symbol": "x"
         },
         "mode": "markers",
         "name": "Peaks",
         "type": "scatter",
         "x": [
          "2024-05-28T00:00:00",
          "2024-05-31T00:00:00",
          "2024-06-05T00:00:00",
          "2024-06-26T00:00:00",
          "2024-07-01T00:00:00",
          "2024-07-08T00:00:00",
          "2024-07-10T00:00:00",
          "2024-07-16T00:00:00",
          "2024-07-18T00:00:00"
         ],
         "y": [
          8964,
          7615,
          8272,
          9380,
          13821,
          6816,
          6865,
          6452,
          18189
         ]
        },
        {
         "line": {
          "color": "red",
          "dash": "dash"
         },
         "mode": "lines",
         "name": "Forecast",
         "type": "scatter",
         "x": [
          "2024-07-25T00:00:00",
          "2024-07-26T00:00:00",
          "2024-07-27T00:00:00",
          "2024-07-28T00:00:00",
          "2024-07-29T00:00:00",
          "2024-07-30T00:00:00",
          "2024-07-31T00:00:00",
          "2024-08-01T00:00:00",
          "2024-08-02T00:00:00",
          "2024-08-03T00:00:00",
          "2024-08-04T00:00:00",
          "2024-08-05T00:00:00",
          "2024-08-06T00:00:00",
          "2024-08-07T00:00:00",
          "2024-08-08T00:00:00",
          "2024-08-09T00:00:00",
          "2024-08-10T00:00:00",
          "2024-08-11T00:00:00",
          "2024-08-12T00:00:00",
          "2024-08-13T00:00:00",
          "2024-08-14T00:00:00",
          "2024-08-15T00:00:00",
          "2024-08-16T00:00:00",
          "2024-08-17T00:00:00",
          "2024-08-18T00:00:00",
          "2024-08-19T00:00:00",
          "2024-08-20T00:00:00",
          "2024-08-21T00:00:00",
          "2024-08-22T00:00:00",
          "2024-08-23T00:00:00"
         ],
         "y": [
          5561.881585020252,
          4532.585360708559,
          2868.1142065088497,
          1584.5497527859698,
          5374.779738035111,
          6576.872927950113,
          6962.519800657959,
          9108.250255793479,
          9844.3685965146,
          8405.037667514873,
          7967.589259837172,
          10867.185301672027,
          11060.721781134693,
          9950.829815873847,
          8213.442256534705,
          6298.163966761786,
          3681.1381945063476,
          2014.7911163161334,
          6005.007385948789,
          7262.169665544381,
          7068.971012344933,
          6308.269972867944,
          5268.131879075518,
          3606.0811457985546,
          2564.942446026107,
          6428.855373224535,
          7396.989416184457,
          7288.032112932007,
          6874.034094739589,
          5953.554471942451
         ]
        },
        {
         "line": {
          "width": 0
         },
         "mode": "lines",
         "showlegend": false,
         "type": "scatter",
         "x": [
          "2024-07-25T00:00:00",
          "2024-07-26T00:00:00",
          "2024-07-27T00:00:00",
          "2024-07-28T00:00:00",
          "2024-07-29T00:00:00",
          "2024-07-30T00:00:00",
          "2024-07-31T00:00:00",
          "2024-08-01T00:00:00",
          "2024-08-02T00:00:00",
          "2024-08-03T00:00:00",
          "2024-08-04T00:00:00",
          "2024-08-05T00:00:00",
          "2024-08-06T00:00:00",
          "2024-08-07T00:00:00",
          "2024-08-08T00:00:00",
          "2024-08-09T00:00:00",
          "2024-08-10T00:00:00",
          "2024-08-11T00:00:00",
          "2024-08-12T00:00:00",
          "2024-08-13T00:00:00",
          "2024-08-14T00:00:00",
          "2024-08-15T00:00:00",
          "2024-08-16T00:00:00",
          "2024-08-17T00:00:00",
          "2024-08-18T00:00:00",
          "2024-08-19T00:00:00",
          "2024-08-20T00:00:00",
          "2024-08-21T00:00:00",
          "2024-08-22T00:00:00",
          "2024-08-23T00:00:00"
         ],
         "y": [
          4824.812178605539,
          3704.4278758536743,
          2008.3369534331034,
          700.2623192709931,
          4477.293415013045,
          5672.5328468770895,
          6054.234452275548,
          8197.723006802797,
          8932.578397769046,
          7492.52446183603,
          7054.6584037765415,
          9954.011201776068,
          10147.404154822534,
          9037.426206884258,
          7299.986248622359,
          5384.675395725282,
          2767.6289500143316,
          1101.2684489480052,
          5091.475802402383,
          6348.632025125518,
          6155.4291681231825,
          5394.725151329925,
          4354.584908392239,
          2692.5325954970494,
          1651.392714123051,
          5515.304741723033,
          6483.438087180868,
          6374.480232603828,
          5960.481769599565,
          5040.001780051276
         ]
        },
        {
         "fill": "tonexty",
         "fillcolor": "rgba(83, 156, 175, 0.4)",
         "line": {
          "width": 0
         },
         "mode": "lines",
         "name": "90.0% confidence interval",
         "type": "scatter",
         "x": [
          "2024-07-25T00:00:00",
          "2024-07-26T00:00:00",
          "2024-07-27T00:00:00",
          "2024-07-28T00:00:00",
          "2024-07-29T00:00:00",
          "2024-07-30T00:00:00",
          "2024-07-31T00:00:00",
          "2024-08-01T00:00:00",
          "2024-08-02T00:00:00",
          "2024-08-03T00:00:00",
          "2024-08-04T00:00:00",
          "2024-08-05T00:00:00",
          "2024-08-06T00:00:00",
          "2024-08-07T00:00:00",
          "2024-08-08T00:00:00",
          "2024-08-09T00:00:00",
          "2024-08-10T00:00:00",
          "2024-08-11T00:00:00",
          "2024-08-12T00:00:00",
          "2024-08-13T00:00:00",
          "2024-08-14T00:00:00",
          "2024-08-15T00:00:00",
          "2024-08-16T00:00:00",
          "2024-08-17T00:00:00",
          "2024-08-18T00:00:00",
          "2024-08-19T00:00:00",
          "2024-08-20T00:00:00",
          "2024-08-21T00:00:00",
          "2024-08-22T00:00:00",
          "2024-08-23T00:00:00"
         ],
         "y": [
          6298.950991434965,
          5360.7428455634445,
          3727.8914595845963,
          2468.8371863009465,
          6272.2660610571775,
          7481.213009023137,
          7870.80514904037,
          10018.77750478416,
          10756.158795260153,
          9317.550873193715,
          8880.520115897802,
          11780.359401567986,
          11974.039407446851,
          10864.233424863436,
          9126.89826444705,
          7211.652537798289,
          4594.647438998363,
          2928.3137836842616,
          6918.5389694951955,
          8175.707305963244,
          7982.512856566684,
          7221.814794405962,
          6181.678849758796,
          4519.62969610006,
          3478.492177929163,
          7342.406004726036,
          8310.540745188046,
          8201.583993260187,
          7787.586419879613,
          6867.107163833625
         ]
        },
        {
         "line": {
          "color": "green"
         },
         "mode": "lines",
         "name": "Actual",
         "type": "scatter",
         "x": [
          "2024-07-25T00:00:00",
          "2024-07-26T00:00:00",
          "2024-07-27T00:00:00",
          "2024-07-28T00:00:00",
          "2024-07-29T00:00:00",
          "2024-07-30T00:00:00",
          "2024-07-31T00:00:00",
          "2024-08-01T00:00:00",
          "2024-08-02T00:00:00",
          "2024-08-03T00:00:00",
          "2024-08-04T00:00:00",
          "2024-08-05T00:00:00",
          "2024-08-06T00:00:00",
          "2024-08-07T00:00:00",
          "2024-08-08T00:00:00",
          "2024-08-09T00:00:00",
          "2024-08-10T00:00:00",
          "2024-08-11T00:00:00",
          "2024-08-12T00:00:00",
          "2024-08-13T00:00:00",
          "2024-08-14T00:00:00",
          "2024-08-15T00:00:00",
          "2024-08-16T00:00:00",
          "2024-08-17T00:00:00",
          "2024-08-18T00:00:00",
          "2024-08-19T00:00:00",
          "2024-08-20T00:00:00",
          "2024-08-21T00:00:00",
          "2024-08-22T00:00:00",
          "2024-08-23T00:00:00"
         ],
         "y": [
          5042,
          5907,
          null,
          678,
          4011,
          5869,
          6209,
          null,
          null,
          null,
          null,
          null,
          null,
          null,
          null,
          null,
          null,
          null,
          null,
          null,
          null,
          null,
          null,
          null,
          null,
          null,
          null,
          null,
          null,
          null
         ]
        }
       ],
       "layout": {
        "autosize": true,
        "legend": {
         "font": {
          "size": 12
         },
         "x": 0,
         "y": 1
        },
        "template": {
         "data": {
          "bar": [
           {
            "error_x": {
             "color": "#2a3f5f"
            },
            "error_y": {
             "color": "#2a3f5f"
            },
            "marker": {
             "line": {
              "color": "#E5ECF6",
              "width": 0.5
             },
             "pattern": {
              "fillmode": "overlay",
              "size": 10,
              "solidity": 0.2
             }
            },
            "type": "bar"
           }
          ],
          "barpolar": [
           {
            "marker": {
             "line": {
              "color": "#E5ECF6",
              "width": 0.5
             },
             "pattern": {
              "fillmode": "overlay",
              "size": 10,
              "solidity": 0.2
             }
            },
            "type": "barpolar"
           }
          ],
          "carpet": [
           {
            "aaxis": {
             "endlinecolor": "#2a3f5f",
             "gridcolor": "white",
             "linecolor": "white",
             "minorgridcolor": "white",
             "startlinecolor": "#2a3f5f"
            },
            "baxis": {
             "endlinecolor": "#2a3f5f",
             "gridcolor": "white",
             "linecolor": "white",
             "minorgridcolor": "white",
             "startlinecolor": "#2a3f5f"
            },
            "type": "carpet"
           }
          ],
          "choropleth": [
           {
            "colorbar": {
             "outlinewidth": 0,
             "ticks": ""
            },
            "type": "choropleth"
           }
          ],
          "contour": [
           {
            "colorbar": {
             "outlinewidth": 0,
             "ticks": ""
            },
            "colorscale": [
             [
              0,
              "#0d0887"
             ],
             [
              0.1111111111111111,
              "#46039f"
             ],
             [
              0.2222222222222222,
              "#7201a8"
             ],
             [
              0.3333333333333333,
              "#9c179e"
             ],
             [
              0.4444444444444444,
              "#bd3786"
             ],
             [
              0.5555555555555556,
              "#d8576b"
             ],
             [
              0.6666666666666666,
              "#ed7953"
             ],
             [
              0.7777777777777778,
              "#fb9f3a"
             ],
             [
              0.8888888888888888,
              "#fdca26"
             ],
             [
              1,
              "#f0f921"
             ]
            ],
            "type": "contour"
           }
          ],
          "contourcarpet": [
           {
            "colorbar": {
             "outlinewidth": 0,
             "ticks": ""
            },
            "type": "contourcarpet"
           }
          ],
          "heatmap": [
           {
            "colorbar": {
             "outlinewidth": 0,
             "ticks": ""
            },
            "colorscale": [
             [
              0,
              "#0d0887"
             ],
             [
              0.1111111111111111,
              "#46039f"
             ],
             [
              0.2222222222222222,
              "#7201a8"
             ],
             [
              0.3333333333333333,
              "#9c179e"
             ],
             [
              0.4444444444444444,
              "#bd3786"
             ],
             [
              0.5555555555555556,
              "#d8576b"
             ],
             [
              0.6666666666666666,
              "#ed7953"
             ],
             [
              0.7777777777777778,
              "#fb9f3a"
             ],
             [
              0.8888888888888888,
              "#fdca26"
             ],
             [
              1,
              "#f0f921"
             ]
            ],
            "type": "heatmap"
           }
          ],
          "heatmapgl": [
           {
            "colorbar": {
             "outlinewidth": 0,
             "ticks": ""
            },
            "colorscale": [
             [
              0,
              "#0d0887"
             ],
             [
              0.1111111111111111,
              "#46039f"
             ],
             [
              0.2222222222222222,
              "#7201a8"
             ],
             [
              0.3333333333333333,
              "#9c179e"
             ],
             [
              0.4444444444444444,
              "#bd3786"
             ],
             [
              0.5555555555555556,
              "#d8576b"
             ],
             [
              0.6666666666666666,
              "#ed7953"
             ],
             [
              0.7777777777777778,
              "#fb9f3a"
             ],
             [
              0.8888888888888888,
              "#fdca26"
             ],
             [
              1,
              "#f0f921"
             ]
            ],
            "type": "heatmapgl"
           }
          ],
          "histogram": [
           {
            "marker": {
             "pattern": {
              "fillmode": "overlay",
              "size": 10,
              "solidity": 0.2
             }
            },
            "type": "histogram"
           }
          ],
          "histogram2d": [
           {
            "colorbar": {
             "outlinewidth": 0,
             "ticks": ""
            },
            "colorscale": [
             [
              0,
              "#0d0887"
             ],
             [
              0.1111111111111111,
              "#46039f"
             ],
             [
              0.2222222222222222,
              "#7201a8"
             ],
             [
              0.3333333333333333,
              "#9c179e"
             ],
             [
              0.4444444444444444,
              "#bd3786"
             ],
             [
              0.5555555555555556,
              "#d8576b"
             ],
             [
              0.6666666666666666,
              "#ed7953"
             ],
             [
              0.7777777777777778,
              "#fb9f3a"
             ],
             [
              0.8888888888888888,
              "#fdca26"
             ],
             [
              1,
              "#f0f921"
             ]
            ],
            "type": "histogram2d"
           }
          ],
          "histogram2dcontour": [
           {
            "colorbar": {
             "outlinewidth": 0,
             "ticks": ""
            },
            "colorscale": [
             [
              0,
              "#0d0887"
             ],
             [
              0.1111111111111111,
              "#46039f"
             ],
             [
              0.2222222222222222,
              "#7201a8"
             ],
             [
              0.3333333333333333,
              "#9c179e"
             ],
             [
              0.4444444444444444,
              "#bd3786"
             ],
             [
              0.5555555555555556,
              "#d8576b"
             ],
             [
              0.6666666666666666,
              "#ed7953"
             ],
             [
              0.7777777777777778,
              "#fb9f3a"
             ],
             [
              0.8888888888888888,
              "#fdca26"
             ],
             [
              1,
              "#f0f921"
             ]
            ],
            "type": "histogram2dcontour"
           }
          ],
          "mesh3d": [
           {
            "colorbar": {
             "outlinewidth": 0,
             "ticks": ""
            },
            "type": "mesh3d"
           }
          ],
          "parcoords": [
           {
            "line": {
             "colorbar": {
              "outlinewidth": 0,
              "ticks": ""
             }
            },
            "type": "parcoords"
           }
          ],
          "pie": [
           {
            "automargin": true,
            "type": "pie"
           }
          ],
          "scatter": [
           {
            "fillpattern": {
             "fillmode": "overlay",
             "size": 10,
             "solidity": 0.2
            },
            "type": "scatter"
           }
          ],
          "scatter3d": [
           {
            "line": {
             "colorbar": {
              "outlinewidth": 0,
              "ticks": ""
             }
            },
            "marker": {
             "colorbar": {
              "outlinewidth": 0,
              "ticks": ""
             }
            },
            "type": "scatter3d"
           }
          ],
          "scattercarpet": [
           {
            "marker": {
             "colorbar": {
              "outlinewidth": 0,
              "ticks": ""
             }
            },
            "type": "scattercarpet"
           }
          ],
          "scattergeo": [
           {
            "marker": {
             "colorbar": {
              "outlinewidth": 0,
              "ticks": ""
             }
            },
            "type": "scattergeo"
           }
          ],
          "scattergl": [
           {
            "marker": {
             "colorbar": {
              "outlinewidth": 0,
              "ticks": ""
             }
            },
            "type": "scattergl"
           }
          ],
          "scattermapbox": [
           {
            "marker": {
             "colorbar": {
              "outlinewidth": 0,
              "ticks": ""
             }
            },
            "type": "scattermapbox"
           }
          ],
          "scatterpolar": [
           {
            "marker": {
             "colorbar": {
              "outlinewidth": 0,
              "ticks": ""
             }
            },
            "type": "scatterpolar"
           }
          ],
          "scatterpolargl": [
           {
            "marker": {
             "colorbar": {
              "outlinewidth": 0,
              "ticks": ""
             }
            },
            "type": "scatterpolargl"
           }
          ],
          "scatterternary": [
           {
            "marker": {
             "colorbar": {
              "outlinewidth": 0,
              "ticks": ""
             }
            },
            "type": "scatterternary"
           }
          ],
          "surface": [
           {
            "colorbar": {
             "outlinewidth": 0,
             "ticks": ""
            },
            "colorscale": [
             [
              0,
              "#0d0887"
             ],
             [
              0.1111111111111111,
              "#46039f"
             ],
             [
              0.2222222222222222,
              "#7201a8"
             ],
             [
              0.3333333333333333,
              "#9c179e"
             ],
             [
              0.4444444444444444,
              "#bd3786"
             ],
             [
              0.5555555555555556,
              "#d8576b"
             ],
             [
              0.6666666666666666,
              "#ed7953"
             ],
             [
              0.7777777777777778,
              "#fb9f3a"
             ],
             [
              0.8888888888888888,
              "#fdca26"
             ],
             [
              1,
              "#f0f921"
             ]
            ],
            "type": "surface"
           }
          ],
          "table": [
           {
            "cells": {
             "fill": {
              "color": "#EBF0F8"
             },
             "line": {
              "color": "white"
             }
            },
            "header": {
             "fill": {
              "color": "#C8D4E3"
             },
             "line": {
              "color": "white"
             }
            },
            "type": "table"
           }
          ]
         },
         "layout": {
          "annotationdefaults": {
           "arrowcolor": "#2a3f5f",
           "arrowhead": 0,
           "arrowwidth": 1
          },
          "autotypenumbers": "strict",
          "coloraxis": {
           "colorbar": {
            "outlinewidth": 0,
            "ticks": ""
           }
          },
          "colorscale": {
           "diverging": [
            [
             0,
             "#8e0152"
            ],
            [
             0.1,
             "#c51b7d"
            ],
            [
             0.2,
             "#de77ae"
            ],
            [
             0.3,
             "#f1b6da"
            ],
            [
             0.4,
             "#fde0ef"
            ],
            [
             0.5,
             "#f7f7f7"
            ],
            [
             0.6,
             "#e6f5d0"
            ],
            [
             0.7,
             "#b8e186"
            ],
            [
             0.8,
             "#7fbc41"
            ],
            [
             0.9,
             "#4d9221"
            ],
            [
             1,
             "#276419"
            ]
           ],
           "sequential": [
            [
             0,
             "#0d0887"
            ],
            [
             0.1111111111111111,
             "#46039f"
            ],
            [
             0.2222222222222222,
             "#7201a8"
            ],
            [
             0.3333333333333333,
             "#9c179e"
            ],
            [
             0.4444444444444444,
             "#bd3786"
            ],
            [
             0.5555555555555556,
             "#d8576b"
            ],
            [
             0.6666666666666666,
             "#ed7953"
            ],
            [
             0.7777777777777778,
             "#fb9f3a"
            ],
            [
             0.8888888888888888,
             "#fdca26"
            ],
            [
             1,
             "#f0f921"
            ]
           ],
           "sequentialminus": [
            [
             0,
             "#0d0887"
            ],
            [
             0.1111111111111111,
             "#46039f"
            ],
            [
             0.2222222222222222,
             "#7201a8"
            ],
            [
             0.3333333333333333,
             "#9c179e"
            ],
            [
             0.4444444444444444,
             "#bd3786"
            ],
            [
             0.5555555555555556,
             "#d8576b"
            ],
            [
             0.6666666666666666,
             "#ed7953"
            ],
            [
             0.7777777777777778,
             "#fb9f3a"
            ],
            [
             0.8888888888888888,
             "#fdca26"
            ],
            [
             1,
             "#f0f921"
            ]
           ]
          },
          "colorway": [
           "#636efa",
           "#EF553B",
           "#00cc96",
           "#ab63fa",
           "#FFA15A",
           "#19d3f3",
           "#FF6692",
           "#B6E880",
           "#FF97FF",
           "#FECB52"
          ],
          "font": {
           "color": "#2a3f5f"
          },
          "geo": {
           "bgcolor": "white",
           "lakecolor": "white",
           "landcolor": "#E5ECF6",
           "showlakes": true,
           "showland": true,
           "subunitcolor": "white"
          },
          "hoverlabel": {
           "align": "left"
          },
          "hovermode": "closest",
          "mapbox": {
           "style": "light"
          },
          "paper_bgcolor": "white",
          "plot_bgcolor": "#E5ECF6",
          "polar": {
           "angularaxis": {
            "gridcolor": "white",
            "linecolor": "white",
            "ticks": ""
           },
           "bgcolor": "#E5ECF6",
           "radialaxis": {
            "gridcolor": "white",
            "linecolor": "white",
            "ticks": ""
           }
          },
          "scene": {
           "xaxis": {
            "backgroundcolor": "#E5ECF6",
            "gridcolor": "white",
            "gridwidth": 2,
            "linecolor": "white",
            "showbackground": true,
            "ticks": "",
            "zerolinecolor": "white"
           },
           "yaxis": {
            "backgroundcolor": "#E5ECF6",
            "gridcolor": "white",
            "gridwidth": 2,
            "linecolor": "white",
            "showbackground": true,
            "ticks": "",
            "zerolinecolor": "white"
           },
           "zaxis": {
            "backgroundcolor": "#E5ECF6",
            "gridcolor": "white",
            "gridwidth": 2,
            "linecolor": "white",
            "showbackground": true,
            "ticks": "",
            "zerolinecolor": "white"
           }
          },
          "shapedefaults": {
           "line": {
            "color": "#2a3f5f"
           }
          },
          "ternary": {
           "aaxis": {
            "gridcolor": "white",
            "linecolor": "white",
            "ticks": ""
           },
           "baxis": {
            "gridcolor": "white",
            "linecolor": "white",
            "ticks": ""
           },
           "bgcolor": "#E5ECF6",
           "caxis": {
            "gridcolor": "white",
            "linecolor": "white",
            "ticks": ""
           }
          },
          "title": {
           "x": 0.05
          },
          "xaxis": {
           "automargin": true,
           "gridcolor": "white",
           "linecolor": "white",
           "ticks": "",
           "title": {
            "standoff": 15
           },
           "zerolinecolor": "white",
           "zerolinewidth": 2
          },
          "yaxis": {
           "automargin": true,
           "gridcolor": "white",
           "linecolor": "white",
           "ticks": "",
           "title": {
            "standoff": 15
           },
           "zerolinecolor": "white",
           "zerolinewidth": 2
          }
         }
        },
        "title": {
         "font": {
          "size": 16
         },
         "text": "Item: TITOS HANDMADE VODKA"
        },
        "xaxis": {
         "autorange": true,
         "range": [
          "2024-05-23 04:06:49.8135",
          "2024-08-23"
         ],
         "type": "date"
        },
        "yaxis": {
         "autorange": true,
         "range": [
          -313.61389961389955,
          19518.664092664094
         ],
         "type": "linear"
        }
       }
      },
      "image/png": "[encoded data removed]",
      "text/html": [
       "<div>                            <div id=\"936a0444-b779-4fb5-898b-2ed3bff8c0f4\" class=\"plotly-graph-div\" style=\"height:400px; width:100%;\"></div>            <script type=\"text/javascript\">                require([\"plotly\"], function(Plotly) {                    window.PLOTLYENV=window.PLOTLYENV || {};                                    if (document.getElementById(\"936a0444-b779-4fb5-898b-2ed3bff8c0f4\")) {                    Plotly.newPlot(                        \"936a0444-b779-4fb5-898b-2ed3bff8c0f4\",                        [{\"mode\":\"lines\",\"name\":\"Historical\",\"x\":[\"2024-05-24T00:00:00\",\"2024-05-27T00:00:00\",\"2024-05-28T00:00:00\",\"2024-05-29T00:00:00\",\"2024-05-30T00:00:00\",\"2024-05-31T00:00:00\",\"2024-06-01T00:00:00\",\"2024-06-02T00:00:00\",\"2024-06-03T00:00:00\",\"2024-06-04T00:00:00\",\"2024-06-05T00:00:00\",\"2024-06-06T00:00:00\",\"2024-06-07T00:00:00\",\"2024-06-09T00:00:00\",\"2024-06-10T00:00:00\",\"2024-06-11T00:00:00\",\"2024-06-12T00:00:00\",\"2024-06-13T00:00:00\",\"2024-06-14T00:00:00\",\"2024-06-16T00:00:00\",\"2024-06-17T00:00:00\",\"2024-06-18T00:00:00\",\"2024-06-19T00:00:00\",\"2024-06-20T00:00:00\",\"2024-06-21T00:00:00\",\"2024-06-23T00:00:00\",\"2024-06-24T00:00:00\",\"2024-06-25T00:00:00\",\"2024-06-26T00:00:00\",\"2024-06-27T00:00:00\",\"2024-06-28T00:00:00\",\"2024-06-29T00:00:00\",\"2024-06-30T00:00:00\",\"2024-07-01T00:00:00\",\"2024-07-02T00:00:00\",\"2024-07-03T00:00:00\",\"2024-07-04T00:00:00\",\"2024-07-05T00:00:00\",\"2024-07-06T00:00:00\",\"2024-07-07T00:00:00\",\"2024-07-08T00:00:00\",\"2024-07-09T00:00:00\",\"2024-07-10T00:00:00\",\"2024-07-11T00:00:00\",\"2024-07-12T00:00:00\",\"2024-07-14T00:00:00\",\"2024-07-15T00:00:00\",\"2024-07-16T00:00:00\",\"2024-07-17T00:00:00\",\"2024-07-18T00:00:00\",\"2024-07-19T00:00:00\",\"2024-07-20T00:00:00\",\"2024-07-21T00:00:00\",\"2024-07-22T00:00:00\",\"2024-07-23T00:00:00\",\"2024-07-24T00:00:00\"],\"y\":[7251.0,2992.0,8964.0,7235.0,7048.0,7615.0,2925.0,1159.0,6194.0,5726.0,8272.0,5870.0,4266.0,1503.0,5715.0,5114.0,6440.0,5519.0,5429.0,703.0,5799.0,6271.0,6203.0,6129.0,6286.0,1447.0,6174.0,8459.0,9380.0,7805.0,6056.0,3006.0,895.0,13821.0,5513.0,4506.0,3474.0,5786.0,4105.0,1452.0,6816.0,5390.0,6865.0,5334.0,3762.0,1647.0,5783.0,6452.0,6027.0,18189.0,1441.0,2078.0,2326.0,3928.0,5985.0,6172.0],\"type\":\"scatter\"},{\"marker\":{\"color\":\"red\",\"symbol\":\"x\"},\"mode\":\"markers\",\"name\":\"Peaks\",\"x\":[\"2024-05-28T00:00:00\",\"2024-05-31T00:00:00\",\"2024-06-05T00:00:00\",\"2024-06-26T00:00:00\",\"2024-07-01T00:00:00\",\"2024-07-08T00:00:00\",\"2024-07-10T00:00:00\",\"2024-07-16T00:00:00\",\"2024-07-18T00:00:00\"],\"y\":[8964.0,7615.0,8272.0,9380.0,13821.0,6816.0,6865.0,6452.0,18189.0],\"type\":\"scatter\"},{\"line\":{\"color\":\"red\",\"dash\":\"dash\"},\"mode\":\"lines\",\"name\":\"Forecast\",\"x\":[\"2024-07-25T00:00:00\",\"2024-07-26T00:00:00\",\"2024-07-27T00:00:00\",\"2024-07-28T00:00:00\",\"2024-07-29T00:00:00\",\"2024-07-30T00:00:00\",\"2024-07-31T00:00:00\",\"2024-08-01T00:00:00\",\"2024-08-02T00:00:00\",\"2024-08-03T00:00:00\",\"2024-08-04T00:00:00\",\"2024-08-05T00:00:00\",\"2024-08-06T00:00:00\",\"2024-08-07T00:00:00\",\"2024-08-08T00:00:00\",\"2024-08-09T00:00:00\",\"2024-08-10T00:00:00\",\"2024-08-11T00:00:00\",\"2024-08-12T00:00:00\",\"2024-08-13T00:00:00\",\"2024-08-14T00:00:00\",\"2024-08-15T00:00:00\",\"2024-08-16T00:00:00\",\"2024-08-17T00:00:00\",\"2024-08-18T00:00:00\",\"2024-08-19T00:00:00\",\"2024-08-20T00:00:00\",\"2024-08-21T00:00:00\",\"2024-08-22T00:00:00\",\"2024-08-23T00:00:00\"],\"y\":[5561.881585020252,4532.585360708559,2868.1142065088497,1584.5497527859698,5374.779738035111,6576.872927950113,6962.519800657959,9108.250255793479,9844.3685965146,8405.037667514873,7967.589259837172,10867.185301672027,11060.721781134693,9950.829815873847,8213.442256534705,6298.163966761786,3681.1381945063476,2014.7911163161334,6005.007385948789,7262.169665544381,7068.971012344933,6308.269972867944,5268.131879075518,3606.0811457985546,2564.942446026107,6428.855373224535,7396.989416184457,7288.032112932007,6874.034094739589,5953.554471942451],\"type\":\"scatter\"},{\"line\":{\"width\":0},\"mode\":\"lines\",\"showlegend\":false,\"x\":[\"2024-07-25T00:00:00\",\"2024-07-26T00:00:00\",\"2024-07-27T00:00:00\",\"2024-07-28T00:00:00\",\"2024-07-29T00:00:00\",\"2024-07-30T00:00:00\",\"2024-07-31T00:00:00\",\"2024-08-01T00:00:00\",\"2024-08-02T00:00:00\",\"2024-08-03T00:00:00\",\"2024-08-04T00:00:00\",\"2024-08-05T00:00:00\",\"2024-08-06T00:00:00\",\"2024-08-07T00:00:00\",\"2024-08-08T00:00:00\",\"2024-08-09T00:00:00\",\"2024-08-10T00:00:00\",\"2024-08-11T00:00:00\",\"2024-08-12T00:00:00\",\"2024-08-13T00:00:00\",\"2024-08-14T00:00:00\",\"2024-08-15T00:00:00\",\"2024-08-16T00:00:00\",\"2024-08-17T00:00:00\",\"2024-08-18T00:00:00\",\"2024-08-19T00:00:00\",\"2024-08-20T00:00:00\",\"2024-08-21T00:00:00\",\"2024-08-22T00:00:00\",\"2024-08-23T00:00:00\"],\"y\":[4824.812178605539,3704.4278758536743,2008.3369534331034,700.2623192709931,4477.293415013045,5672.5328468770895,6054.234452275548,8197.723006802797,8932.578397769046,7492.52446183603,7054.6584037765415,9954.011201776068,10147.404154822534,9037.426206884258,7299.986248622359,5384.675395725282,2767.6289500143316,1101.2684489480052,5091.475802402383,6348.632025125518,6155.4291681231825,5394.725151329925,4354.584908392239,2692.5325954970494,1651.392714123051,5515.304741723033,6483.438087180868,6374.480232603828,5960.481769599565,5040.001780051276],\"type\":\"scatter\"},{\"fill\":\"tonexty\",\"fillcolor\":\"rgba(83, 156, 175, 0.4)\",\"line\":{\"width\":0},\"mode\":\"lines\",\"name\":\"90.0% confidence interval\",\"x\":[\"2024-07-25T00:00:00\",\"2024-07-26T00:00:00\",\"2024-07-27T00:00:00\",\"2024-07-28T00:00:00\",\"2024-07-29T00:00:00\",\"2024-07-30T00:00:00\",\"2024-07-31T00:00:00\",\"2024-08-01T00:00:00\",\"2024-08-02T00:00:00\",\"2024-08-03T00:00:00\",\"2024-08-04T00:00:00\",\"2024-08-05T00:00:00\",\"2024-08-06T00:00:00\",\"2024-08-07T00:00:00\",\"2024-08-08T00:00:00\",\"2024-08-09T00:00:00\",\"2024-08-10T00:00:00\",\"2024-08-11T00:00:00\",\"2024-08-12T00:00:00\",\"2024-08-13T00:00:00\",\"2024-08-14T00:00:00\",\"2024-08-15T00:00:00\",\"2024-08-16T00:00:00\",\"2024-08-17T00:00:00\",\"2024-08-18T00:00:00\",\"2024-08-19T00:00:00\",\"2024-08-20T00:00:00\",\"2024-08-21T00:00:00\",\"2024-08-22T00:00:00\",\"2024-08-23T00:00:00\"],\"y\":[6298.950991434965,5360.7428455634445,3727.8914595845963,2468.8371863009465,6272.2660610571775,7481.213009023137,7870.80514904037,10018.77750478416,10756.158795260153,9317.550873193715,8880.520115897802,11780.359401567986,11974.039407446851,10864.233424863436,9126.89826444705,7211.652537798289,4594.647438998363,2928.3137836842616,6918.5389694951955,8175.707305963244,7982.512856566684,7221.814794405962,6181.678849758796,4519.62969610006,3478.492177929163,7342.406004726036,8310.540745188046,8201.583993260187,7787.586419879613,6867.107163833625],\"type\":\"scatter\"},{\"line\":{\"color\":\"green\"},\"mode\":\"lines\",\"name\":\"Actual\",\"x\":[\"2024-07-25T00:00:00\",\"2024-07-26T00:00:00\",\"2024-07-27T00:00:00\",\"2024-07-28T00:00:00\",\"2024-07-29T00:00:00\",\"2024-07-30T00:00:00\",\"2024-07-31T00:00:00\",\"2024-08-01T00:00:00\",\"2024-08-02T00:00:00\",\"2024-08-03T00:00:00\",\"2024-08-04T00:00:00\",\"2024-08-05T00:00:00\",\"2024-08-06T00:00:00\",\"2024-08-07T00:00:00\",\"2024-08-08T00:00:00\",\"2024-08-09T00:00:00\",\"2024-08-10T00:00:00\",\"2024-08-11T00:00:00\",\"2024-08-12T00:00:00\",\"2024-08-13T00:00:00\",\"2024-08-14T00:00:00\",\"2024-08-15T00:00:00\",\"2024-08-16T00:00:00\",\"2024-08-17T00:00:00\",\"2024-08-18T00:00:00\",\"2024-08-19T00:00:00\",\"2024-08-20T00:00:00\",\"2024-08-21T00:00:00\",\"2024-08-22T00:00:00\",\"2024-08-23T00:00:00\"],\"y\":[5042.0,5907.0,null,678.0,4011.0,5869.0,6209.0,null,null,null,null,null,null,null,null,null,null,null,null,null,null,null,null,null,null,null,null,null,null,null],\"type\":\"scatter\"}],                        {\"template\":{\"data\":{\"histogram2dcontour\":[{\"type\":\"histogram2dcontour\",\"colorbar\":{\"outlinewidth\":0,\"ticks\":\"\"},\"colorscale\":[[0.0,\"#0d0887\"],[0.1111111111111111,\"#46039f\"],[0.2222222222222222,\"#7201a8\"],[0.3333333333333333,\"#9c179e\"],[0.4444444444444444,\"#bd3786\"],[0.5555555555555556,\"#d8576b\"],[0.6666666666666666,\"#ed7953\"],[0.7777777777777778,\"#fb9f3a\"],[0.8888888888888888,\"#fdca26\"],[1.0,\"#f0f921\"]]}],\"choropleth\":[{\"type\":\"choropleth\",\"colorbar\":{\"outlinewidth\":0,\"ticks\":\"\"}}],\"histogram2d\":[{\"type\":\"histogram2d\",\"colorbar\":{\"outlinewidth\":0,\"ticks\":\"\"},\"colorscale\":[[0.0,\"#0d0887\"],[0.1111111111111111,\"#46039f\"],[0.2222222222222222,\"#7201a8\"],[0.3333333333333333,\"#9c179e\"],[0.4444444444444444,\"#bd3786\"],[0.5555555555555556,\"#d8576b\"],[0.6666666666666666,\"#ed7953\"],[0.7777777777777778,\"#fb9f3a\"],[0.8888888888888888,\"#fdca26\"],[1.0,\"#f0f921\"]]}],\"heatmap\":[{\"type\":\"heatmap\",\"colorbar\":{\"outlinewidth\":0,\"ticks\":\"\"},\"colorscale\":[[0.0,\"#0d0887\"],[0.1111111111111111,\"#46039f\"],[0.2222222222222222,\"#7201a8\"],[0.3333333333333333,\"#9c179e\"],[0.4444444444444444,\"#bd3786\"],[0.5555555555555556,\"#d8576b\"],[0.6666666666666666,\"#ed7953\"],[0.7777777777777778,\"#fb9f3a\"],[0.8888888888888888,\"#fdca26\"],[1.0,\"#f0f921\"]]}],\"heatmapgl\":[{\"type\":\"heatmapgl\",\"colorbar\":{\"outlinewidth\":0,\"ticks\":\"\"},\"colorscale\":[[0.0,\"#0d0887\"],[0.1111111111111111,\"#46039f\"],[0.2222222222222222,\"#7201a8\"],[0.3333333333333333,\"#9c179e\"],[0.4444444444444444,\"#bd3786\"],[0.5555555555555556,\"#d8576b\"],[0.6666666666666666,\"#ed7953\"],[0.7777777777777778,\"#fb9f3a\"],[0.8888888888888888,\"#fdca26\"],[1.0,\"#f0f921\"]]}],\"contourcarpet\":[{\"type\":\"contourcarpet\",\"colorbar\":{\"outlinewidth\":0,\"ticks\":\"\"}}],\"contour\":[{\"type\":\"contour\",\"colorbar\":{\"outlinewidth\":0,\"ticks\":\"\"},\"colorscale\":[[0.0,\"#0d0887\"],[0.1111111111111111,\"#46039f\"],[0.2222222222222222,\"#7201a8\"],[0.3333333333333333,\"#9c179e\"],[0.4444444444444444,\"#bd3786\"],[0.5555555555555556,\"#d8576b\"],[0.6666666666666666,\"#ed7953\"],[0.7777777777777778,\"#fb9f3a\"],[0.8888888888888888,\"#fdca26\"],[1.0,\"#f0f921\"]]}],\"surface\":[{\"type\":\"surface\",\"colorbar\":{\"outlinewidth\":0,\"ticks\":\"\"},\"colorscale\":[[0.0,\"#0d0887\"],[0.1111111111111111,\"#46039f\"],[0.2222222222222222,\"#7201a8\"],[0.3333333333333333,\"#9c179e\"],[0.4444444444444444,\"#bd3786\"],[0.5555555555555556,\"#d8576b\"],[0.6666666666666666,\"#ed7953\"],[0.7777777777777778,\"#fb9f3a\"],[0.8888888888888888,\"#fdca26\"],[1.0,\"#f0f921\"]]}],\"mesh3d\":[{\"type\":\"mesh3d\",\"colorbar\":{\"outlinewidth\":0,\"ticks\":\"\"}}],\"scatter\":[{\"fillpattern\":{\"fillmode\":\"overlay\",\"size\":10,\"solidity\":0.2},\"type\":\"scatter\"}],\"parcoords\":[{\"type\":\"parcoords\",\"line\":{\"colorbar\":{\"outlinewidth\":0,\"ticks\":\"\"}}}],\"scatterpolargl\":[{\"type\":\"scatterpolargl\",\"marker\":{\"colorbar\":{\"outlinewidth\":0,\"ticks\":\"\"}}}],\"bar\":[{\"error_x\":{\"color\":\"#2a3f5f\"},\"error_y\":{\"color\":\"#2a3f5f\"},\"marker\":{\"line\":{\"color\":\"#E5ECF6\",\"width\":0.5},\"pattern\":{\"fillmode\":\"overlay\",\"size\":10,\"solidity\":0.2}},\"type\":\"bar\"}],\"scattergeo\":[{\"type\":\"scattergeo\",\"marker\":{\"colorbar\":{\"outlinewidth\":0,\"ticks\":\"\"}}}],\"scatterpolar\":[{\"type\":\"scatterpolar\",\"marker\":{\"colorbar\":{\"outlinewidth\":0,\"ticks\":\"\"}}}],\"histogram\":[{\"marker\":{\"pattern\":{\"fillmode\":\"overlay\",\"size\":10,\"solidity\":0.2}},\"type\":\"histogram\"}],\"scattergl\":[{\"type\":\"scattergl\",\"marker\":{\"colorbar\":{\"outlinewidth\":0,\"ticks\":\"\"}}}],\"scatter3d\":[{\"type\":\"scatter3d\",\"line\":{\"colorbar\":{\"outlinewidth\":0,\"ticks\":\"\"}},\"marker\":{\"colorbar\":{\"outlinewidth\":0,\"ticks\":\"\"}}}],\"scattermapbox\":[{\"type\":\"scattermapbox\",\"marker\":{\"colorbar\":{\"outlinewidth\":0,\"ticks\":\"\"}}}],\"scatterternary\":[{\"type\":\"scatterternary\",\"marker\":{\"colorbar\":{\"outlinewidth\":0,\"ticks\":\"\"}}}],\"scattercarpet\":[{\"type\":\"scattercarpet\",\"marker\":{\"colorbar\":{\"outlinewidth\":0,\"ticks\":\"\"}}}],\"carpet\":[{\"aaxis\":{\"endlinecolor\":\"#2a3f5f\",\"gridcolor\":\"white\",\"linecolor\":\"white\",\"minorgridcolor\":\"white\",\"startlinecolor\":\"#2a3f5f\"},\"baxis\":{\"endlinecolor\":\"#2a3f5f\",\"gridcolor\":\"white\",\"linecolor\":\"white\",\"minorgridcolor\":\"white\",\"startlinecolor\":\"#2a3f5f\"},\"type\":\"carpet\"}],\"table\":[{\"cells\":{\"fill\":{\"color\":\"#EBF0F8\"},\"line\":{\"color\":\"white\"}},\"header\":{\"fill\":{\"color\":\"#C8D4E3\"},\"line\":{\"color\":\"white\"}},\"type\":\"table\"}],\"barpolar\":[{\"marker\":{\"line\":{\"color\":\"#E5ECF6\",\"width\":0.5},\"pattern\":{\"fillmode\":\"overlay\",\"size\":10,\"solidity\":0.2}},\"type\":\"barpolar\"}],\"pie\":[{\"automargin\":true,\"type\":\"pie\"}]},\"layout\":{\"autotypenumbers\":\"strict\",\"colorway\":[\"#636efa\",\"#EF553B\",\"#00cc96\",\"#ab63fa\",\"#FFA15A\",\"#19d3f3\",\"#FF6692\",\"#B6E880\",\"#FF97FF\",\"#FECB52\"],\"font\":{\"color\":\"#2a3f5f\"},\"hovermode\":\"closest\",\"hoverlabel\":{\"align\":\"left\"},\"paper_bgcolor\":\"white\",\"plot_bgcolor\":\"#E5ECF6\",\"polar\":{\"bgcolor\":\"#E5ECF6\",\"angularaxis\":{\"gridcolor\":\"white\",\"linecolor\":\"white\",\"ticks\":\"\"},\"radialaxis\":{\"gridcolor\":\"white\",\"linecolor\":\"white\",\"ticks\":\"\"}},\"ternary\":{\"bgcolor\":\"#E5ECF6\",\"aaxis\":{\"gridcolor\":\"white\",\"linecolor\":\"white\",\"ticks\":\"\"},\"baxis\":{\"gridcolor\":\"white\",\"linecolor\":\"white\",\"ticks\":\"\"},\"caxis\":{\"gridcolor\":\"white\",\"linecolor\":\"white\",\"ticks\":\"\"}},\"coloraxis\":{\"colorbar\":{\"outlinewidth\":0,\"ticks\":\"\"}},\"colorscale\":{\"sequential\":[[0.0,\"#0d0887\"],[0.1111111111111111,\"#46039f\"],[0.2222222222222222,\"#7201a8\"],[0.3333333333333333,\"#9c179e\"],[0.4444444444444444,\"#bd3786\"],[0.5555555555555556,\"#d8576b\"],[0.6666666666666666,\"#ed7953\"],[0.7777777777777778,\"#fb9f3a\"],[0.8888888888888888,\"#fdca26\"],[1.0,\"#f0f921\"]],\"sequentialminus\":[[0.0,\"#0d0887\"],[0.1111111111111111,\"#46039f\"],[0.2222222222222222,\"#7201a8\"],[0.3333333333333333,\"#9c179e\"],[0.4444444444444444,\"#bd3786\"],[0.5555555555555556,\"#d8576b\"],[0.6666666666666666,\"#ed7953\"],[0.7777777777777778,\"#fb9f3a\"],[0.8888888888888888,\"#fdca26\"],[1.0,\"#f0f921\"]],\"diverging\":[[0,\"#8e0152\"],[0.1,\"#c51b7d\"],[0.2,\"#de77ae\"],[0.3,\"#f1b6da\"],[0.4,\"#fde0ef\"],[0.5,\"#f7f7f7\"],[0.6,\"#e6f5d0\"],[0.7,\"#b8e186\"],[0.8,\"#7fbc41\"],[0.9,\"#4d9221\"],[1,\"#276419\"]]},\"xaxis\":{\"gridcolor\":\"white\",\"linecolor\":\"white\",\"ticks\":\"\",\"title\":{\"standoff\":15},\"zerolinecolor\":\"white\",\"automargin\":true,\"zerolinewidth\":2},\"yaxis\":{\"gridcolor\":\"white\",\"linecolor\":\"white\",\"ticks\":\"\",\"title\":{\"standoff\":15},\"zerolinecolor\":\"white\",\"automargin\":true,\"zerolinewidth\":2},\"scene\":{\"xaxis\":{\"backgroundcolor\":\"#E5ECF6\",\"gridcolor\":\"white\",\"linecolor\":\"white\",\"showbackground\":true,\"ticks\":\"\",\"zerolinecolor\":\"white\",\"gridwidth\":2},\"yaxis\":{\"backgroundcolor\":\"#E5ECF6\",\"gridcolor\":\"white\",\"linecolor\":\"white\",\"showbackground\":true,\"ticks\":\"\",\"zerolinecolor\":\"white\",\"gridwidth\":2},\"zaxis\":{\"backgroundcolor\":\"#E5ECF6\",\"gridcolor\":\"white\",\"linecolor\":\"white\",\"showbackground\":true,\"ticks\":\"\",\"zerolinecolor\":\"white\",\"gridwidth\":2}},\"shapedefaults\":{\"line\":{\"color\":\"#2a3f5f\"}},\"annotationdefaults\":{\"arrowcolor\":\"#2a3f5f\",\"arrowhead\":0,\"arrowwidth\":1},\"geo\":{\"bgcolor\":\"white\",\"landcolor\":\"#E5ECF6\",\"subunitcolor\":\"white\",\"showland\":true,\"showlakes\":true,\"lakecolor\":\"white\"},\"title\":{\"x\":0.05},\"mapbox\":{\"style\":\"light\"}}},\"title\":{\"font\":{\"size\":16},\"text\":\"Item: TITOS HANDMADE VODKA\"},\"legend\":{\"font\":{\"size\":12},\"x\":0,\"y\":1.0},\"height\":400},                        {\"responsive\": true}                    ).then(function(){\n",
       "                            \n",
       "var gd = document.getElementById('936a0444-b779-4fb5-898b-2ed3bff8c0f4');\n",
       "var x = new MutationObserver(function (mutations, observer) {{\n",
       "        var display = window.getComputedStyle(gd).display;\n",
       "        if (!display || display === 'none') {{\n",
       "            console.log([gd, 'removed!']);\n",
       "            Plotly.purge(gd);\n",
       "            observer.disconnect();\n",
       "        }}\n",
       "}});\n",
       "\n",
       "// Listen for the removal of the full notebook cells\n",
       "var notebookContainer = gd.closest('#notebook-container');\n",
       "if (notebookContainer) {{\n",
       "    x.observe(notebookContainer, {childList: true});\n",
       "}}\n",
       "\n",
       "// Listen for the clearing of the current output cell\n",
       "var outputEl = gd.closest('.output');\n",
       "if (outputEl) {{\n",
       "    x.observe(outputEl, {childList: true});\n",
       "}}\n",
       "\n",
       "                        })                };                });            </script>        </div>"
      ]
     },
     "metadata": {},
     "output_type": "display_data"
    },
    {
     "data": {
      "application/vnd.plotly.v1+json": {
       "config": {
        "plotlyServerURL": "https://plot.ly"
       },
       "data": [
        {
         "mode": "lines",
         "name": "Historical",
         "type": "scatter",
         "x": [
          "2024-05-24T00:00:00",
          "2024-05-27T00:00:00",
          "2024-05-28T00:00:00",
          "2024-05-29T00:00:00",
          "2024-05-30T00:00:00",
          "2024-05-31T00:00:00",
          "2024-06-01T00:00:00",
          "2024-06-02T00:00:00",
          "2024-06-03T00:00:00",
          "2024-06-04T00:00:00",
          "2024-06-05T00:00:00",
          "2024-06-06T00:00:00",
          "2024-06-07T00:00:00",
          "2024-06-09T00:00:00",
          "2024-06-10T00:00:00",
          "2024-06-11T00:00:00",
          "2024-06-12T00:00:00",
          "2024-06-13T00:00:00",
          "2024-06-14T00:00:00",
          "2024-06-16T00:00:00",
          "2024-06-17T00:00:00",
          "2024-06-18T00:00:00",
          "2024-06-19T00:00:00",
          "2024-06-20T00:00:00",
          "2024-06-21T00:00:00",
          "2024-06-23T00:00:00",
          "2024-06-24T00:00:00",
          "2024-06-25T00:00:00",
          "2024-06-26T00:00:00",
          "2024-06-27T00:00:00",
          "2024-06-28T00:00:00",
          "2024-06-29T00:00:00",
          "2024-06-30T00:00:00",
          "2024-07-01T00:00:00",
          "2024-07-02T00:00:00",
          "2024-07-03T00:00:00",
          "2024-07-04T00:00:00",
          "2024-07-05T00:00:00",
          "2024-07-06T00:00:00",
          "2024-07-07T00:00:00",
          "2024-07-08T00:00:00",
          "2024-07-09T00:00:00",
          "2024-07-10T00:00:00",
          "2024-07-11T00:00:00",
          "2024-07-12T00:00:00",
          "2024-07-14T00:00:00",
          "2024-07-15T00:00:00",
          "2024-07-16T00:00:00",
          "2024-07-17T00:00:00",
          "2024-07-18T00:00:00",
          "2024-07-19T00:00:00",
          "2024-07-20T00:00:00",
          "2024-07-21T00:00:00",
          "2024-07-22T00:00:00",
          "2024-07-23T00:00:00",
          "2024-07-24T00:00:00"
         ],
         "y": [
          2967,
          2403,
          4831,
          5847,
          3914,
          4348,
          2856,
          1457,
          3372,
          5016,
          3502,
          2709,
          3788,
          1409,
          3697,
          3845,
          3300,
          2814,
          4249,
          766,
          2905,
          5094,
          2691,
          3478,
          3475,
          1062,
          2000,
          4474,
          3470,
          3466,
          2745,
          2241,
          569,
          3571,
          5766,
          6944,
          4660,
          3066,
          3233,
          1405,
          4034,
          3751,
          3407,
          2426,
          2480,
          1670,
          4563,
          5488,
          5098,
          3207,
          771,
          2011,
          1131,
          4301,
          4086,
          3487
         ]
        },
        {
         "marker": {
          "color": "red",
          "symbol": "x"
         },
         "mode": "markers",
         "name": "Peaks",
         "type": "scatter",
         "x": [
          "2024-05-29T00:00:00",
          "2024-05-31T00:00:00",
          "2024-06-04T00:00:00",
          "2024-06-14T00:00:00",
          "2024-06-18T00:00:00",
          "2024-06-25T00:00:00",
          "2024-07-03T00:00:00",
          "2024-07-16T00:00:00",
          "2024-07-22T00:00:00"
         ],
         "y": [
          5847,
          4348,
          5016,
          4249,
          5094,
          4474,
          6944,
          5488,
          4301
         ]
        },
        {
         "line": {
          "color": "red",
          "dash": "dash"
         },
         "mode": "lines",
         "name": "Forecast",
         "type": "scatter",
         "x": [
          "2024-07-25T00:00:00",
          "2024-07-26T00:00:00",
          "2024-07-27T00:00:00",
          "2024-07-28T00:00:00",
          "2024-07-29T00:00:00",
          "2024-07-30T00:00:00",
          "2024-07-31T00:00:00",
          "2024-08-01T00:00:00",
          "2024-08-02T00:00:00",
          "2024-08-03T00:00:00",
          "2024-08-04T00:00:00",
          "2024-08-05T00:00:00",
          "2024-08-06T00:00:00",
          "2024-08-07T00:00:00",
          "2024-08-08T00:00:00",
          "2024-08-09T00:00:00",
          "2024-08-10T00:00:00",
          "2024-08-11T00:00:00",
          "2024-08-12T00:00:00",
          "2024-08-13T00:00:00",
          "2024-08-14T00:00:00",
          "2024-08-15T00:00:00",
          "2024-08-16T00:00:00",
          "2024-08-17T00:00:00",
          "2024-08-18T00:00:00",
          "2024-08-19T00:00:00",
          "2024-08-20T00:00:00",
          "2024-08-21T00:00:00",
          "2024-08-22T00:00:00",
          "2024-08-23T00:00:00"
         ],
         "y": [
          4170.971554277767,
          3420.8623403149777,
          3035.4104366876945,
          732.0965764652501,
          3875.9703710623216,
          5797.444881585718,
          4714.1738408298825,
          3350.2038141469893,
          1600.7850574962304,
          1878.2680899963507,
          267.7002826577118,
          2902.9579368752056,
          4385.941607790042,
          4189.229317429064,
          2955.9038779111706,
          2099.064826219439,
          1587.7757244715904,
          0,
          2385.7845705050386,
          3647.601310406628,
          3504.6432734625178,
          2479.378450735665,
          1866.2068135247173,
          1862.9956694592129,
          806.1350688934108,
          3335.80622967041,
          4238.976867056426,
          3707.733179039222,
          2461.2614751875026,
          1659.8662552786482
         ]
        },
        {
         "line": {
          "width": 0
         },
         "mode": "lines",
         "showlegend": false,
         "type": "scatter",
         "x": [
          "2024-07-25T00:00:00",
          "2024-07-26T00:00:00",
          "2024-07-27T00:00:00",
          "2024-07-28T00:00:00",
          "2024-07-29T00:00:00",
          "2024-07-30T00:00:00",
          "2024-07-31T00:00:00",
          "2024-08-01T00:00:00",
          "2024-08-02T00:00:00",
          "2024-08-03T00:00:00",
          "2024-08-04T00:00:00",
          "2024-08-05T00:00:00",
          "2024-08-06T00:00:00",
          "2024-08-07T00:00:00",
          "2024-08-08T00:00:00",
          "2024-08-09T00:00:00",
          "2024-08-10T00:00:00",
          "2024-08-11T00:00:00",
          "2024-08-12T00:00:00",
          "2024-08-13T00:00:00",
          "2024-08-14T00:00:00",
          "2024-08-15T00:00:00",
          "2024-08-16T00:00:00",
          "2024-08-17T00:00:00",
          "2024-08-18T00:00:00",
          "2024-08-19T00:00:00",
          "2024-08-20T00:00:00",
          "2024-08-21T00:00:00",
          "2024-08-22T00:00:00",
          "2024-08-23T00:00:00"
         ],
         "y": [
          3776.655672352573,
          2996.3274606755285,
          2607.1135550097206,
          253.34946554163963,
          3303.558270231281,
          5225.03278068301,
          4141.7617398555085,
          2777.7917131009485,
          1028.372956378523,
          1305.8559888069767,
          0,
          2330.5458355424985,
          3813.5295063856684,
          3616.817215953024,
          2383.4917763634635,
          1526.6527246000655,
          1015.36362278055,
          0,
          1813.372468670665,
          3075.1892085005875,
          2932.231171484811,
          1906.9663486862917,
          1293.7947114036774,
          1290.5835672665062,
          233.72296662903761,
          2763.3941273343703,
          3666.56476464872,
          3135.3210765598487,
          1888.849372636463,
          1087.454152655942
         ]
        },
        {
         "fill": "tonexty",
         "fillcolor": "rgba(83, 156, 175, 0.4)",
         "line": {
          "width": 0
         },
         "mode": "lines",
         "name": "90.0% confidence interval",
         "type": "scatter",
         "x": [
          "2024-07-25T00:00:00",
          "2024-07-26T00:00:00",
          "2024-07-27T00:00:00",
          "2024-07-28T00:00:00",
          "2024-07-29T00:00:00",
          "2024-07-30T00:00:00",
          "2024-07-31T00:00:00",
          "2024-08-01T00:00:00",
          "2024-08-02T00:00:00",
          "2024-08-03T00:00:00",
          "2024-08-04T00:00:00",
          "2024-08-05T00:00:00",
          "2024-08-06T00:00:00",
          "2024-08-07T00:00:00",
          "2024-08-08T00:00:00",
          "2024-08-09T00:00:00",
          "2024-08-10T00:00:00",
          "2024-08-11T00:00:00",
          "2024-08-12T00:00:00",
          "2024-08-13T00:00:00",
          "2024-08-14T00:00:00",
          "2024-08-15T00:00:00",
          "2024-08-16T00:00:00",
          "2024-08-17T00:00:00",
          "2024-08-18T00:00:00",
          "2024-08-19T00:00:00",
          "2024-08-20T00:00:00",
          "2024-08-21T00:00:00",
          "2024-08-22T00:00:00",
          "2024-08-23T00:00:00"
         ],
         "y": [
          4565.28743620296,
          3845.397219954427,
          3463.7073183656685,
          1210.8436873888606,
          4448.382471893363,
          6369.856982488425,
          5286.585941804256,
          3922.61591519303,
          2173.197158613938,
          2450.6801911857247,
          840.1123839187525,
          3475.370038207913,
          4958.353709194416,
          4761.641418905105,
          3528.315979458878,
          2671.4769278388126,
          2160.1878261626307,
          559.361547477408,
          2958.196672339412,
          4220.013412312668,
          4077.0553754402245,
          3051.790552785038,
          2438.618915645757,
          2435.4077716519196,
          1378.5471711577839,
          3908.21833200645,
          4811.388969464133,
          4280.145281518595,
          3033.673577738542,
          2232.2783579013544
         ]
        },
        {
         "line": {
          "color": "green"
         },
         "mode": "lines",
         "name": "Actual",
         "type": "scatter",
         "x": [
          "2024-07-25T00:00:00",
          "2024-07-26T00:00:00",
          "2024-07-27T00:00:00",
          "2024-07-28T00:00:00",
          "2024-07-29T00:00:00",
          "2024-07-30T00:00:00",
          "2024-07-31T00:00:00",
          "2024-08-01T00:00:00",
          "2024-08-02T00:00:00",
          "2024-08-03T00:00:00",
          "2024-08-04T00:00:00",
          "2024-08-05T00:00:00",
          "2024-08-06T00:00:00",
          "2024-08-07T00:00:00",
          "2024-08-08T00:00:00",
          "2024-08-09T00:00:00",
          "2024-08-10T00:00:00",
          "2024-08-11T00:00:00",
          "2024-08-12T00:00:00",
          "2024-08-13T00:00:00",
          "2024-08-14T00:00:00",
          "2024-08-15T00:00:00",
          "2024-08-16T00:00:00",
          "2024-08-17T00:00:00",
          "2024-08-18T00:00:00",
          "2024-08-19T00:00:00",
          "2024-08-20T00:00:00",
          "2024-08-21T00:00:00",
          "2024-08-22T00:00:00",
          "2024-08-23T00:00:00"
         ],
         "y": [
          2791,
          3401,
          null,
          940,
          2969,
          6454,
          2697,
          null,
          null,
          null,
          null,
          null,
          null,
          null,
          null,
          null,
          null,
          null,
          null,
          null,
          null,
          null,
          null,
          null,
          null,
          null,
          null,
          null,
          null,
          null
         ]
        }
       ],
       "layout": {
        "autosize": true,
        "legend": {
         "font": {
          "size": 12
         },
         "x": 0,
         "y": 1
        },
        "template": {
         "data": {
          "bar": [
           {
            "error_x": {
             "color": "#2a3f5f"
            },
            "error_y": {
             "color": "#2a3f5f"
            },
            "marker": {
             "line": {
              "color": "#E5ECF6",
              "width": 0.5
             },
             "pattern": {
              "fillmode": "overlay",
              "size": 10,
              "solidity": 0.2
             }
            },
            "type": "bar"
           }
          ],
          "barpolar": [
           {
            "marker": {
             "line": {
              "color": "#E5ECF6",
              "width": 0.5
             },
             "pattern": {
              "fillmode": "overlay",
              "size": 10,
              "solidity": 0.2
             }
            },
            "type": "barpolar"
           }
          ],
          "carpet": [
           {
            "aaxis": {
             "endlinecolor": "#2a3f5f",
             "gridcolor": "white",
             "linecolor": "white",
             "minorgridcolor": "white",
             "startlinecolor": "#2a3f5f"
            },
            "baxis": {
             "endlinecolor": "#2a3f5f",
             "gridcolor": "white",
             "linecolor": "white",
             "minorgridcolor": "white",
             "startlinecolor": "#2a3f5f"
            },
            "type": "carpet"
           }
          ],
          "choropleth": [
           {
            "colorbar": {
             "outlinewidth": 0,
             "ticks": ""
            },
            "type": "choropleth"
           }
          ],
          "contour": [
           {
            "colorbar": {
             "outlinewidth": 0,
             "ticks": ""
            },
            "colorscale": [
             [
              0,
              "#0d0887"
             ],
             [
              0.1111111111111111,
              "#46039f"
             ],
             [
              0.2222222222222222,
              "#7201a8"
             ],
             [
              0.3333333333333333,
              "#9c179e"
             ],
             [
              0.4444444444444444,
              "#bd3786"
             ],
             [
              0.5555555555555556,
              "#d8576b"
             ],
             [
              0.6666666666666666,
              "#ed7953"
             ],
             [
              0.7777777777777778,
              "#fb9f3a"
             ],
             [
              0.8888888888888888,
              "#fdca26"
             ],
             [
              1,
              "#f0f921"
             ]
            ],
            "type": "contour"
           }
          ],
          "contourcarpet": [
           {
            "colorbar": {
             "outlinewidth": 0,
             "ticks": ""
            },
            "type": "contourcarpet"
           }
          ],
          "heatmap": [
           {
            "colorbar": {
             "outlinewidth": 0,
             "ticks": ""
            },
            "colorscale": [
             [
              0,
              "#0d0887"
             ],
             [
              0.1111111111111111,
              "#46039f"
             ],
             [
              0.2222222222222222,
              "#7201a8"
             ],
             [
              0.3333333333333333,
              "#9c179e"
             ],
             [
              0.4444444444444444,
              "#bd3786"
             ],
             [
              0.5555555555555556,
              "#d8576b"
             ],
             [
              0.6666666666666666,
              "#ed7953"
             ],
             [
              0.7777777777777778,
              "#fb9f3a"
             ],
             [
              0.8888888888888888,
              "#fdca26"
             ],
             [
              1,
              "#f0f921"
             ]
            ],
            "type": "heatmap"
           }
          ],
          "heatmapgl": [
           {
            "colorbar": {
             "outlinewidth": 0,
             "ticks": ""
            },
            "colorscale": [
             [
              0,
              "#0d0887"
             ],
             [
              0.1111111111111111,
              "#46039f"
             ],
             [
              0.2222222222222222,
              "#7201a8"
             ],
             [
              0.3333333333333333,
              "#9c179e"
             ],
             [
              0.4444444444444444,
              "#bd3786"
             ],
             [
              0.5555555555555556,
              "#d8576b"
             ],
             [
              0.6666666666666666,
              "#ed7953"
             ],
             [
              0.7777777777777778,
              "#fb9f3a"
             ],
             [
              0.8888888888888888,
              "#fdca26"
             ],
             [
              1,
              "#f0f921"
             ]
            ],
            "type": "heatmapgl"
           }
          ],
          "histogram": [
           {
            "marker": {
             "pattern": {
              "fillmode": "overlay",
              "size": 10,
              "solidity": 0.2
             }
            },
            "type": "histogram"
           }
          ],
          "histogram2d": [
           {
            "colorbar": {
             "outlinewidth": 0,
             "ticks": ""
            },
            "colorscale": [
             [
              0,
              "#0d0887"
             ],
             [
              0.1111111111111111,
              "#46039f"
             ],
             [
              0.2222222222222222,
              "#7201a8"
             ],
             [
              0.3333333333333333,
              "#9c179e"
             ],
             [
              0.4444444444444444,
              "#bd3786"
             ],
             [
              0.5555555555555556,
              "#d8576b"
             ],
             [
              0.6666666666666666,
              "#ed7953"
             ],
             [
              0.7777777777777778,
              "#fb9f3a"
             ],
             [
              0.8888888888888888,
              "#fdca26"
             ],
             [
              1,
              "#f0f921"
             ]
            ],
            "type": "histogram2d"
           }
          ],
          "histogram2dcontour": [
           {
            "colorbar": {
             "outlinewidth": 0,
             "ticks": ""
            },
            "colorscale": [
             [
              0,
              "#0d0887"
             ],
             [
              0.1111111111111111,
              "#46039f"
             ],
             [
              0.2222222222222222,
              "#7201a8"
             ],
             [
              0.3333333333333333,
              "#9c179e"
             ],
             [
              0.4444444444444444,
              "#bd3786"
             ],
             [
              0.5555555555555556,
              "#d8576b"
             ],
             [
              0.6666666666666666,
              "#ed7953"
             ],
             [
              0.7777777777777778,
              "#fb9f3a"
             ],
             [
              0.8888888888888888,
              "#fdca26"
             ],
             [
              1,
              "#f0f921"
             ]
            ],
            "type": "histogram2dcontour"
           }
          ],
          "mesh3d": [
           {
            "colorbar": {
             "outlinewidth": 0,
             "ticks": ""
            },
            "type": "mesh3d"
           }
          ],
          "parcoords": [
           {
            "line": {
             "colorbar": {
              "outlinewidth": 0,
              "ticks": ""
             }
            },
            "type": "parcoords"
           }
          ],
          "pie": [
           {
            "automargin": true,
            "type": "pie"
           }
          ],
          "scatter": [
           {
            "fillpattern": {
             "fillmode": "overlay",
             "size": 10,
             "solidity": 0.2
            },
            "type": "scatter"
           }
          ],
          "scatter3d": [
           {
            "line": {
             "colorbar": {
              "outlinewidth": 0,
              "ticks": ""
             }
            },
            "marker": {
             "colorbar": {
              "outlinewidth": 0,
              "ticks": ""
             }
            },
            "type": "scatter3d"
           }
          ],
          "scattercarpet": [
           {
            "marker": {
             "colorbar": {
              "outlinewidth": 0,
              "ticks": ""
             }
            },
            "type": "scattercarpet"
           }
          ],
          "scattergeo": [
           {
            "marker": {
             "colorbar": {
              "outlinewidth": 0,
              "ticks": ""
             }
            },
            "type": "scattergeo"
           }
          ],
          "scattergl": [
           {
            "marker": {
             "colorbar": {
              "outlinewidth": 0,
              "ticks": ""
             }
            },
            "type": "scattergl"
           }
          ],
          "scattermapbox": [
           {
            "marker": {
             "colorbar": {
              "outlinewidth": 0,
              "ticks": ""
             }
            },
            "type": "scattermapbox"
           }
          ],
          "scatterpolar": [
           {
            "marker": {
             "colorbar": {
              "outlinewidth": 0,
              "ticks": ""
             }
            },
            "type": "scatterpolar"
           }
          ],
          "scatterpolargl": [
           {
            "marker": {
             "colorbar": {
              "outlinewidth": 0,
              "ticks": ""
             }
            },
            "type": "scatterpolargl"
           }
          ],
          "scatterternary": [
           {
            "marker": {
             "colorbar": {
              "outlinewidth": 0,
              "ticks": ""
             }
            },
            "type": "scatterternary"
           }
          ],
          "surface": [
           {
            "colorbar": {
             "outlinewidth": 0,
             "ticks": ""
            },
            "colorscale": [
             [
              0,
              "#0d0887"
             ],
             [
              0.1111111111111111,
              "#46039f"
             ],
             [
              0.2222222222222222,
              "#7201a8"
             ],
             [
              0.3333333333333333,
              "#9c179e"
             ],
             [
              0.4444444444444444,
              "#bd3786"
             ],
             [
              0.5555555555555556,
              "#d8576b"
             ],
             [
              0.6666666666666666,
              "#ed7953"
             ],
             [
              0.7777777777777778,
              "#fb9f3a"
             ],
             [
              0.8888888888888888,
              "#fdca26"
             ],
             [
              1,
              "#f0f921"
             ]
            ],
            "type": "surface"
           }
          ],
          "table": [
           {
            "cells": {
             "fill": {
              "color": "#EBF0F8"
             },
             "line": {
              "color": "white"
             }
            },
            "header": {
             "fill": {
              "color": "#C8D4E3"
             },
             "line": {
              "color": "white"
             }
            },
            "type": "table"
           }
          ]
         },
         "layout": {
          "annotationdefaults": {
           "arrowcolor": "#2a3f5f",
           "arrowhead": 0,
           "arrowwidth": 1
          },
          "autotypenumbers": "strict",
          "coloraxis": {
           "colorbar": {
            "outlinewidth": 0,
            "ticks": ""
           }
          },
          "colorscale": {
           "diverging": [
            [
             0,
             "#8e0152"
            ],
            [
             0.1,
             "#c51b7d"
            ],
            [
             0.2,
             "#de77ae"
            ],
            [
             0.3,
             "#f1b6da"
            ],
            [
             0.4,
             "#fde0ef"
            ],
            [
             0.5,
             "#f7f7f7"
            ],
            [
             0.6,
             "#e6f5d0"
            ],
            [
             0.7,
             "#b8e186"
            ],
            [
             0.8,
             "#7fbc41"
            ],
            [
             0.9,
             "#4d9221"
            ],
            [
             1,
             "#276419"
            ]
           ],
           "sequential": [
            [
             0,
             "#0d0887"
            ],
            [
             0.1111111111111111,
             "#46039f"
            ],
            [
             0.2222222222222222,
             "#7201a8"
            ],
            [
             0.3333333333333333,
             "#9c179e"
            ],
            [
             0.4444444444444444,
             "#bd3786"
            ],
            [
             0.5555555555555556,
             "#d8576b"
            ],
            [
             0.6666666666666666,
             "#ed7953"
            ],
            [
             0.7777777777777778,
             "#fb9f3a"
            ],
            [
             0.8888888888888888,
             "#fdca26"
            ],
            [
             1,
             "#f0f921"
            ]
           ],
           "sequentialminus": [
            [
             0,
             "#0d0887"
            ],
            [
             0.1111111111111111,
             "#46039f"
            ],
            [
             0.2222222222222222,
             "#7201a8"
            ],
            [
             0.3333333333333333,
             "#9c179e"
            ],
            [
             0.4444444444444444,
             "#bd3786"
            ],
            [
             0.5555555555555556,
             "#d8576b"
            ],
            [
             0.6666666666666666,
             "#ed7953"
            ],
            [
             0.7777777777777778,
             "#fb9f3a"
            ],
            [
             0.8888888888888888,
             "#fdca26"
            ],
            [
             1,
             "#f0f921"
            ]
           ]
          },
          "colorway": [
           "#636efa",
           "#EF553B",
           "#00cc96",
           "#ab63fa",
           "#FFA15A",
           "#19d3f3",
           "#FF6692",
           "#B6E880",
           "#FF97FF",
           "#FECB52"
          ],
          "font": {
           "color": "#2a3f5f"
          },
          "geo": {
           "bgcolor": "white",
           "lakecolor": "white",
           "landcolor": "#E5ECF6",
           "showlakes": true,
           "showland": true,
           "subunitcolor": "white"
          },
          "hoverlabel": {
           "align": "left"
          },
          "hovermode": "closest",
          "mapbox": {
           "style": "light"
          },
          "paper_bgcolor": "white",
          "plot_bgcolor": "#E5ECF6",
          "polar": {
           "angularaxis": {
            "gridcolor": "white",
            "linecolor": "white",
            "ticks": ""
           },
           "bgcolor": "#E5ECF6",
           "radialaxis": {
            "gridcolor": "white",
            "linecolor": "white",
            "ticks": ""
           }
          },
          "scene": {
           "xaxis": {
            "backgroundcolor": "#E5ECF6",
            "gridcolor": "white",
            "gridwidth": 2,
            "linecolor": "white",
            "showbackground": true,
            "ticks": "",
            "zerolinecolor": "white"
           },
           "yaxis": {
            "backgroundcolor": "#E5ECF6",
            "gridcolor": "white",
            "gridwidth": 2,
            "linecolor": "white",
            "showbackground": true,
            "ticks": "",
            "zerolinecolor": "white"
           },
           "zaxis": {
            "backgroundcolor": "#E5ECF6",
            "gridcolor": "white",
            "gridwidth": 2,
            "linecolor": "white",
            "showbackground": true,
            "ticks": "",
            "zerolinecolor": "white"
           }
          },
          "shapedefaults": {
           "line": {
            "color": "#2a3f5f"
           }
          },
          "ternary": {
           "aaxis": {
            "gridcolor": "white",
            "linecolor": "white",
            "ticks": ""
           },
           "baxis": {
            "gridcolor": "white",
            "linecolor": "white",
            "ticks": ""
           },
           "bgcolor": "#E5ECF6",
           "caxis": {
            "gridcolor": "white",
            "linecolor": "white",
            "ticks": ""
           }
          },
          "title": {
           "x": 0.05
          },
          "xaxis": {
           "automargin": true,
           "gridcolor": "white",
           "linecolor": "white",
           "ticks": "",
           "title": {
            "standoff": 15
           },
           "zerolinecolor": "white",
           "zerolinewidth": 2
          },
          "yaxis": {
           "automargin": true,
           "gridcolor": "white",
           "linecolor": "white",
           "ticks": "",
           "title": {
            "standoff": 15
           },
           "zerolinecolor": "white",
           "zerolinewidth": 2
          }
         }
        },
        "title": {
         "font": {
          "size": 16
         },
         "text": "Item: BLACK VELVET"
        },
        "xaxis": {
         "autorange": true,
         "range": [
          "2024-05-24",
          "2024-08-23"
         ],
         "type": "date"
        },
        "yaxis": {
         "autorange": true,
         "range": [
          -393.2252252252252,
          7471.279279279279
         ],
         "type": "linear"
        }
       }
      },
      "image/png": "[encoded data removed]",
      "text/html": [
       "<div>                            <div id=\"5bd14bfa-1fcb-4f30-89ba-31203c8efb61\" class=\"plotly-graph-div\" style=\"height:400px; width:100%;\"></div>            <script type=\"text/javascript\">                require([\"plotly\"], function(Plotly) {                    window.PLOTLYENV=window.PLOTLYENV || {};                                    if (document.getElementById(\"5bd14bfa-1fcb-4f30-89ba-31203c8efb61\")) {                    Plotly.newPlot(                        \"5bd14bfa-1fcb-4f30-89ba-31203c8efb61\",                        [{\"mode\":\"lines\",\"name\":\"Historical\",\"x\":[\"2024-05-24T00:00:00\",\"2024-05-27T00:00:00\",\"2024-05-28T00:00:00\",\"2024-05-29T00:00:00\",\"2024-05-30T00:00:00\",\"2024-05-31T00:00:00\",\"2024-06-01T00:00:00\",\"2024-06-02T00:00:00\",\"2024-06-03T00:00:00\",\"2024-06-04T00:00:00\",\"2024-06-05T00:00:00\",\"2024-06-06T00:00:00\",\"2024-06-07T00:00:00\",\"2024-06-09T00:00:00\",\"2024-06-10T00:00:00\",\"2024-06-11T00:00:00\",\"2024-06-12T00:00:00\",\"2024-06-13T00:00:00\",\"2024-06-14T00:00:00\",\"2024-06-16T00:00:00\",\"2024-06-17T00:00:00\",\"2024-06-18T00:00:00\",\"2024-06-19T00:00:00\",\"2024-06-20T00:00:00\",\"2024-06-21T00:00:00\",\"2024-06-23T00:00:00\",\"2024-06-24T00:00:00\",\"2024-06-25T00:00:00\",\"2024-06-26T00:00:00\",\"2024-06-27T00:00:00\",\"2024-06-28T00:00:00\",\"2024-06-29T00:00:00\",\"2024-06-30T00:00:00\",\"2024-07-01T00:00:00\",\"2024-07-02T00:00:00\",\"2024-07-03T00:00:00\",\"2024-07-04T00:00:00\",\"2024-07-05T00:00:00\",\"2024-07-06T00:00:00\",\"2024-07-07T00:00:00\",\"2024-07-08T00:00:00\",\"2024-07-09T00:00:00\",\"2024-07-10T00:00:00\",\"2024-07-11T00:00:00\",\"2024-07-12T00:00:00\",\"2024-07-14T00:00:00\",\"2024-07-15T00:00:00\",\"2024-07-16T00:00:00\",\"2024-07-17T00:00:00\",\"2024-07-18T00:00:00\",\"2024-07-19T00:00:00\",\"2024-07-20T00:00:00\",\"2024-07-21T00:00:00\",\"2024-07-22T00:00:00\",\"2024-07-23T00:00:00\",\"2024-07-24T00:00:00\"],\"y\":[2967.0,2403.0,4831.0,5847.0,3914.0,4348.0,2856.0,1457.0,3372.0,5016.0,3502.0,2709.0,3788.0,1409.0,3697.0,3845.0,3300.0,2814.0,4249.0,766.0,2905.0,5094.0,2691.0,3478.0,3475.0,1062.0,2000.0,4474.0,3470.0,3466.0,2745.0,2241.0,569.0,3571.0,5766.0,6944.0,4660.0,3066.0,3233.0,1405.0,4034.0,3751.0,3407.0,2426.0,2480.0,1670.0,4563.0,5488.0,5098.0,3207.0,771.0,2011.0,1131.0,4301.0,4086.0,3487.0],\"type\":\"scatter\"},{\"marker\":{\"color\":\"red\",\"symbol\":\"x\"},\"mode\":\"markers\",\"name\":\"Peaks\",\"x\":[\"2024-05-29T00:00:00\",\"2024-05-31T00:00:00\",\"2024-06-04T00:00:00\",\"2024-06-14T00:00:00\",\"2024-06-18T00:00:00\",\"2024-06-25T00:00:00\",\"2024-07-03T00:00:00\",\"2024-07-16T00:00:00\",\"2024-07-22T00:00:00\"],\"y\":[5847.0,4348.0,5016.0,4249.0,5094.0,4474.0,6944.0,5488.0,4301.0],\"type\":\"scatter\"},{\"line\":{\"color\":\"red\",\"dash\":\"dash\"},\"mode\":\"lines\",\"name\":\"Forecast\",\"x\":[\"2024-07-25T00:00:00\",\"2024-07-26T00:00:00\",\"2024-07-27T00:00:00\",\"2024-07-28T00:00:00\",\"2024-07-29T00:00:00\",\"2024-07-30T00:00:00\",\"2024-07-31T00:00:00\",\"2024-08-01T00:00:00\",\"2024-08-02T00:00:00\",\"2024-08-03T00:00:00\",\"2024-08-04T00:00:00\",\"2024-08-05T00:00:00\",\"2024-08-06T00:00:00\",\"2024-08-07T00:00:00\",\"2024-08-08T00:00:00\",\"2024-08-09T00:00:00\",\"2024-08-10T00:00:00\",\"2024-08-11T00:00:00\",\"2024-08-12T00:00:00\",\"2024-08-13T00:00:00\",\"2024-08-14T00:00:00\",\"2024-08-15T00:00:00\",\"2024-08-16T00:00:00\",\"2024-08-17T00:00:00\",\"2024-08-18T00:00:00\",\"2024-08-19T00:00:00\",\"2024-08-20T00:00:00\",\"2024-08-21T00:00:00\",\"2024-08-22T00:00:00\",\"2024-08-23T00:00:00\"],\"y\":[4170.971554277767,3420.8623403149777,3035.4104366876945,732.0965764652501,3875.9703710623216,5797.444881585718,4714.1738408298825,3350.2038141469893,1600.7850574962304,1878.2680899963507,267.7002826577118,2902.9579368752056,4385.941607790042,4189.229317429064,2955.9038779111706,2099.064826219439,1587.7757244715904,0.0,2385.7845705050386,3647.601310406628,3504.6432734625178,2479.378450735665,1866.2068135247173,1862.9956694592129,806.1350688934108,3335.80622967041,4238.976867056426,3707.733179039222,2461.2614751875026,1659.8662552786482],\"type\":\"scatter\"},{\"line\":{\"width\":0},\"mode\":\"lines\",\"showlegend\":false,\"x\":[\"2024-07-25T00:00:00\",\"2024-07-26T00:00:00\",\"2024-07-27T00:00:00\",\"2024-07-28T00:00:00\",\"2024-07-29T00:00:00\",\"2024-07-30T00:00:00\",\"2024-07-31T00:00:00\",\"2024-08-01T00:00:00\",\"2024-08-02T00:00:00\",\"2024-08-03T00:00:00\",\"2024-08-04T00:00:00\",\"2024-08-05T00:00:00\",\"2024-08-06T00:00:00\",\"2024-08-07T00:00:00\",\"2024-08-08T00:00:00\",\"2024-08-09T00:00:00\",\"2024-08-10T00:00:00\",\"2024-08-11T00:00:00\",\"2024-08-12T00:00:00\",\"2024-08-13T00:00:00\",\"2024-08-14T00:00:00\",\"2024-08-15T00:00:00\",\"2024-08-16T00:00:00\",\"2024-08-17T00:00:00\",\"2024-08-18T00:00:00\",\"2024-08-19T00:00:00\",\"2024-08-20T00:00:00\",\"2024-08-21T00:00:00\",\"2024-08-22T00:00:00\",\"2024-08-23T00:00:00\"],\"y\":[3776.655672352573,2996.3274606755285,2607.1135550097206,253.34946554163963,3303.558270231281,5225.03278068301,4141.7617398555085,2777.7917131009485,1028.372956378523,1305.8559888069767,0.0,2330.5458355424985,3813.5295063856684,3616.817215953024,2383.4917763634635,1526.6527246000655,1015.36362278055,0.0,1813.372468670665,3075.1892085005875,2932.231171484811,1906.9663486862917,1293.7947114036774,1290.5835672665062,233.72296662903761,2763.3941273343703,3666.56476464872,3135.3210765598487,1888.849372636463,1087.454152655942],\"type\":\"scatter\"},{\"fill\":\"tonexty\",\"fillcolor\":\"rgba(83, 156, 175, 0.4)\",\"line\":{\"width\":0},\"mode\":\"lines\",\"name\":\"90.0% confidence interval\",\"x\":[\"2024-07-25T00:00:00\",\"2024-07-26T00:00:00\",\"2024-07-27T00:00:00\",\"2024-07-28T00:00:00\",\"2024-07-29T00:00:00\",\"2024-07-30T00:00:00\",\"2024-07-31T00:00:00\",\"2024-08-01T00:00:00\",\"2024-08-02T00:00:00\",\"2024-08-03T00:00:00\",\"2024-08-04T00:00:00\",\"2024-08-05T00:00:00\",\"2024-08-06T00:00:00\",\"2024-08-07T00:00:00\",\"2024-08-08T00:00:00\",\"2024-08-09T00:00:00\",\"2024-08-10T00:00:00\",\"2024-08-11T00:00:00\",\"2024-08-12T00:00:00\",\"2024-08-13T00:00:00\",\"2024-08-14T00:00:00\",\"2024-08-15T00:00:00\",\"2024-08-16T00:00:00\",\"2024-08-17T00:00:00\",\"2024-08-18T00:00:00\",\"2024-08-19T00:00:00\",\"2024-08-20T00:00:00\",\"2024-08-21T00:00:00\",\"2024-08-22T00:00:00\",\"2024-08-23T00:00:00\"],\"y\":[4565.28743620296,3845.397219954427,3463.7073183656685,1210.8436873888606,4448.382471893363,6369.856982488425,5286.585941804256,3922.61591519303,2173.197158613938,2450.6801911857247,840.1123839187525,3475.370038207913,4958.353709194416,4761.641418905105,3528.315979458878,2671.4769278388126,2160.1878261626307,559.361547477408,2958.196672339412,4220.013412312668,4077.0553754402245,3051.790552785038,2438.618915645757,2435.4077716519196,1378.5471711577839,3908.21833200645,4811.388969464133,4280.145281518595,3033.673577738542,2232.2783579013544],\"type\":\"scatter\"},{\"line\":{\"color\":\"green\"},\"mode\":\"lines\",\"name\":\"Actual\",\"x\":[\"2024-07-25T00:00:00\",\"2024-07-26T00:00:00\",\"2024-07-27T00:00:00\",\"2024-07-28T00:00:00\",\"2024-07-29T00:00:00\",\"2024-07-30T00:00:00\",\"2024-07-31T00:00:00\",\"2024-08-01T00:00:00\",\"2024-08-02T00:00:00\",\"2024-08-03T00:00:00\",\"2024-08-04T00:00:00\",\"2024-08-05T00:00:00\",\"2024-08-06T00:00:00\",\"2024-08-07T00:00:00\",\"2024-08-08T00:00:00\",\"2024-08-09T00:00:00\",\"2024-08-10T00:00:00\",\"2024-08-11T00:00:00\",\"2024-08-12T00:00:00\",\"2024-08-13T00:00:00\",\"2024-08-14T00:00:00\",\"2024-08-15T00:00:00\",\"2024-08-16T00:00:00\",\"2024-08-17T00:00:00\",\"2024-08-18T00:00:00\",\"2024-08-19T00:00:00\",\"2024-08-20T00:00:00\",\"2024-08-21T00:00:00\",\"2024-08-22T00:00:00\",\"2024-08-23T00:00:00\"],\"y\":[2791.0,3401.0,null,940.0,2969.0,6454.0,2697.0,null,null,null,null,null,null,null,null,null,null,null,null,null,null,null,null,null,null,null,null,null,null,null],\"type\":\"scatter\"}],                        {\"template\":{\"data\":{\"histogram2dcontour\":[{\"type\":\"histogram2dcontour\",\"colorbar\":{\"outlinewidth\":0,\"ticks\":\"\"},\"colorscale\":[[0.0,\"#0d0887\"],[0.1111111111111111,\"#46039f\"],[0.2222222222222222,\"#7201a8\"],[0.3333333333333333,\"#9c179e\"],[0.4444444444444444,\"#bd3786\"],[0.5555555555555556,\"#d8576b\"],[0.6666666666666666,\"#ed7953\"],[0.7777777777777778,\"#fb9f3a\"],[0.8888888888888888,\"#fdca26\"],[1.0,\"#f0f921\"]]}],\"choropleth\":[{\"type\":\"choropleth\",\"colorbar\":{\"outlinewidth\":0,\"ticks\":\"\"}}],\"histogram2d\":[{\"type\":\"histogram2d\",\"colorbar\":{\"outlinewidth\":0,\"ticks\":\"\"},\"colorscale\":[[0.0,\"#0d0887\"],[0.1111111111111111,\"#46039f\"],[0.2222222222222222,\"#7201a8\"],[0.3333333333333333,\"#9c179e\"],[0.4444444444444444,\"#bd3786\"],[0.5555555555555556,\"#d8576b\"],[0.6666666666666666,\"#ed7953\"],[0.7777777777777778,\"#fb9f3a\"],[0.8888888888888888,\"#fdca26\"],[1.0,\"#f0f921\"]]}],\"heatmap\":[{\"type\":\"heatmap\",\"colorbar\":{\"outlinewidth\":0,\"ticks\":\"\"},\"colorscale\":[[0.0,\"#0d0887\"],[0.1111111111111111,\"#46039f\"],[0.2222222222222222,\"#7201a8\"],[0.3333333333333333,\"#9c179e\"],[0.4444444444444444,\"#bd3786\"],[0.5555555555555556,\"#d8576b\"],[0.6666666666666666,\"#ed7953\"],[0.7777777777777778,\"#fb9f3a\"],[0.8888888888888888,\"#fdca26\"],[1.0,\"#f0f921\"]]}],\"heatmapgl\":[{\"type\":\"heatmapgl\",\"colorbar\":{\"outlinewidth\":0,\"ticks\":\"\"},\"colorscale\":[[0.0,\"#0d0887\"],[0.1111111111111111,\"#46039f\"],[0.2222222222222222,\"#7201a8\"],[0.3333333333333333,\"#9c179e\"],[0.4444444444444444,\"#bd3786\"],[0.5555555555555556,\"#d8576b\"],[0.6666666666666666,\"#ed7953\"],[0.7777777777777778,\"#fb9f3a\"],[0.8888888888888888,\"#fdca26\"],[1.0,\"#f0f921\"]]}],\"contourcarpet\":[{\"type\":\"contourcarpet\",\"colorbar\":{\"outlinewidth\":0,\"ticks\":\"\"}}],\"contour\":[{\"type\":\"contour\",\"colorbar\":{\"outlinewidth\":0,\"ticks\":\"\"},\"colorscale\":[[0.0,\"#0d0887\"],[0.1111111111111111,\"#46039f\"],[0.2222222222222222,\"#7201a8\"],[0.3333333333333333,\"#9c179e\"],[0.4444444444444444,\"#bd3786\"],[0.5555555555555556,\"#d8576b\"],[0.6666666666666666,\"#ed7953\"],[0.7777777777777778,\"#fb9f3a\"],[0.8888888888888888,\"#fdca26\"],[1.0,\"#f0f921\"]]}],\"surface\":[{\"type\":\"surface\",\"colorbar\":{\"outlinewidth\":0,\"ticks\":\"\"},\"colorscale\":[[0.0,\"#0d0887\"],[0.1111111111111111,\"#46039f\"],[0.2222222222222222,\"#7201a8\"],[0.3333333333333333,\"#9c179e\"],[0.4444444444444444,\"#bd3786\"],[0.5555555555555556,\"#d8576b\"],[0.6666666666666666,\"#ed7953\"],[0.7777777777777778,\"#fb9f3a\"],[0.8888888888888888,\"#fdca26\"],[1.0,\"#f0f921\"]]}],\"mesh3d\":[{\"type\":\"mesh3d\",\"colorbar\":{\"outlinewidth\":0,\"ticks\":\"\"}}],\"scatter\":[{\"fillpattern\":{\"fillmode\":\"overlay\",\"size\":10,\"solidity\":0.2},\"type\":\"scatter\"}],\"parcoords\":[{\"type\":\"parcoords\",\"line\":{\"colorbar\":{\"outlinewidth\":0,\"ticks\":\"\"}}}],\"scatterpolargl\":[{\"type\":\"scatterpolargl\",\"marker\":{\"colorbar\":{\"outlinewidth\":0,\"ticks\":\"\"}}}],\"bar\":[{\"error_x\":{\"color\":\"#2a3f5f\"},\"error_y\":{\"color\":\"#2a3f5f\"},\"marker\":{\"line\":{\"color\":\"#E5ECF6\",\"width\":0.5},\"pattern\":{\"fillmode\":\"overlay\",\"size\":10,\"solidity\":0.2}},\"type\":\"bar\"}],\"scattergeo\":[{\"type\":\"scattergeo\",\"marker\":{\"colorbar\":{\"outlinewidth\":0,\"ticks\":\"\"}}}],\"scatterpolar\":[{\"type\":\"scatterpolar\",\"marker\":{\"colorbar\":{\"outlinewidth\":0,\"ticks\":\"\"}}}],\"histogram\":[{\"marker\":{\"pattern\":{\"fillmode\":\"overlay\",\"size\":10,\"solidity\":0.2}},\"type\":\"histogram\"}],\"scattergl\":[{\"type\":\"scattergl\",\"marker\":{\"colorbar\":{\"outlinewidth\":0,\"ticks\":\"\"}}}],\"scatter3d\":[{\"type\":\"scatter3d\",\"line\":{\"colorbar\":{\"outlinewidth\":0,\"ticks\":\"\"}},\"marker\":{\"colorbar\":{\"outlinewidth\":0,\"ticks\":\"\"}}}],\"scattermapbox\":[{\"type\":\"scattermapbox\",\"marker\":{\"colorbar\":{\"outlinewidth\":0,\"ticks\":\"\"}}}],\"scatterternary\":[{\"type\":\"scatterternary\",\"marker\":{\"colorbar\":{\"outlinewidth\":0,\"ticks\":\"\"}}}],\"scattercarpet\":[{\"type\":\"scattercarpet\",\"marker\":{\"colorbar\":{\"outlinewidth\":0,\"ticks\":\"\"}}}],\"carpet\":[{\"aaxis\":{\"endlinecolor\":\"#2a3f5f\",\"gridcolor\":\"white\",\"linecolor\":\"white\",\"minorgridcolor\":\"white\",\"startlinecolor\":\"#2a3f5f\"},\"baxis\":{\"endlinecolor\":\"#2a3f5f\",\"gridcolor\":\"white\",\"linecolor\":\"white\",\"minorgridcolor\":\"white\",\"startlinecolor\":\"#2a3f5f\"},\"type\":\"carpet\"}],\"table\":[{\"cells\":{\"fill\":{\"color\":\"#EBF0F8\"},\"line\":{\"color\":\"white\"}},\"header\":{\"fill\":{\"color\":\"#C8D4E3\"},\"line\":{\"color\":\"white\"}},\"type\":\"table\"}],\"barpolar\":[{\"marker\":{\"line\":{\"color\":\"#E5ECF6\",\"width\":0.5},\"pattern\":{\"fillmode\":\"overlay\",\"size\":10,\"solidity\":0.2}},\"type\":\"barpolar\"}],\"pie\":[{\"automargin\":true,\"type\":\"pie\"}]},\"layout\":{\"autotypenumbers\":\"strict\",\"colorway\":[\"#636efa\",\"#EF553B\",\"#00cc96\",\"#ab63fa\",\"#FFA15A\",\"#19d3f3\",\"#FF6692\",\"#B6E880\",\"#FF97FF\",\"#FECB52\"],\"font\":{\"color\":\"#2a3f5f\"},\"hovermode\":\"closest\",\"hoverlabel\":{\"align\":\"left\"},\"paper_bgcolor\":\"white\",\"plot_bgcolor\":\"#E5ECF6\",\"polar\":{\"bgcolor\":\"#E5ECF6\",\"angularaxis\":{\"gridcolor\":\"white\",\"linecolor\":\"white\",\"ticks\":\"\"},\"radialaxis\":{\"gridcolor\":\"white\",\"linecolor\":\"white\",\"ticks\":\"\"}},\"ternary\":{\"bgcolor\":\"#E5ECF6\",\"aaxis\":{\"gridcolor\":\"white\",\"linecolor\":\"white\",\"ticks\":\"\"},\"baxis\":{\"gridcolor\":\"white\",\"linecolor\":\"white\",\"ticks\":\"\"},\"caxis\":{\"gridcolor\":\"white\",\"linecolor\":\"white\",\"ticks\":\"\"}},\"coloraxis\":{\"colorbar\":{\"outlinewidth\":0,\"ticks\":\"\"}},\"colorscale\":{\"sequential\":[[0.0,\"#0d0887\"],[0.1111111111111111,\"#46039f\"],[0.2222222222222222,\"#7201a8\"],[0.3333333333333333,\"#9c179e\"],[0.4444444444444444,\"#bd3786\"],[0.5555555555555556,\"#d8576b\"],[0.6666666666666666,\"#ed7953\"],[0.7777777777777778,\"#fb9f3a\"],[0.8888888888888888,\"#fdca26\"],[1.0,\"#f0f921\"]],\"sequentialminus\":[[0.0,\"#0d0887\"],[0.1111111111111111,\"#46039f\"],[0.2222222222222222,\"#7201a8\"],[0.3333333333333333,\"#9c179e\"],[0.4444444444444444,\"#bd3786\"],[0.5555555555555556,\"#d8576b\"],[0.6666666666666666,\"#ed7953\"],[0.7777777777777778,\"#fb9f3a\"],[0.8888888888888888,\"#fdca26\"],[1.0,\"#f0f921\"]],\"diverging\":[[0,\"#8e0152\"],[0.1,\"#c51b7d\"],[0.2,\"#de77ae\"],[0.3,\"#f1b6da\"],[0.4,\"#fde0ef\"],[0.5,\"#f7f7f7\"],[0.6,\"#e6f5d0\"],[0.7,\"#b8e186\"],[0.8,\"#7fbc41\"],[0.9,\"#4d9221\"],[1,\"#276419\"]]},\"xaxis\":{\"gridcolor\":\"white\",\"linecolor\":\"white\",\"ticks\":\"\",\"title\":{\"standoff\":15},\"zerolinecolor\":\"white\",\"automargin\":true,\"zerolinewidth\":2},\"yaxis\":{\"gridcolor\":\"white\",\"linecolor\":\"white\",\"ticks\":\"\",\"title\":{\"standoff\":15},\"zerolinecolor\":\"white\",\"automargin\":true,\"zerolinewidth\":2},\"scene\":{\"xaxis\":{\"backgroundcolor\":\"#E5ECF6\",\"gridcolor\":\"white\",\"linecolor\":\"white\",\"showbackground\":true,\"ticks\":\"\",\"zerolinecolor\":\"white\",\"gridwidth\":2},\"yaxis\":{\"backgroundcolor\":\"#E5ECF6\",\"gridcolor\":\"white\",\"linecolor\":\"white\",\"showbackground\":true,\"ticks\":\"\",\"zerolinecolor\":\"white\",\"gridwidth\":2},\"zaxis\":{\"backgroundcolor\":\"#E5ECF6\",\"gridcolor\":\"white\",\"linecolor\":\"white\",\"showbackground\":true,\"ticks\":\"\",\"zerolinecolor\":\"white\",\"gridwidth\":2}},\"shapedefaults\":{\"line\":{\"color\":\"#2a3f5f\"}},\"annotationdefaults\":{\"arrowcolor\":\"#2a3f5f\",\"arrowhead\":0,\"arrowwidth\":1},\"geo\":{\"bgcolor\":\"white\",\"landcolor\":\"#E5ECF6\",\"subunitcolor\":\"white\",\"showland\":true,\"showlakes\":true,\"lakecolor\":\"white\"},\"title\":{\"x\":0.05},\"mapbox\":{\"style\":\"light\"}}},\"title\":{\"font\":{\"size\":16},\"text\":\"Item: BLACK VELVET\"},\"legend\":{\"font\":{\"size\":12},\"x\":0,\"y\":1.0},\"height\":400},                        {\"responsive\": true}                    ).then(function(){\n",
       "                            \n",
       "var gd = document.getElementById('5bd14bfa-1fcb-4f30-89ba-31203c8efb61');\n",
       "var x = new MutationObserver(function (mutations, observer) {{\n",
       "        var display = window.getComputedStyle(gd).display;\n",
       "        if (!display || display === 'none') {{\n",
       "            console.log([gd, 'removed!']);\n",
       "            Plotly.purge(gd);\n",
       "            observer.disconnect();\n",
       "        }}\n",
       "}});\n",
       "\n",
       "// Listen for the removal of the full notebook cells\n",
       "var notebookContainer = gd.closest('#notebook-container');\n",
       "if (notebookContainer) {{\n",
       "    x.observe(notebookContainer, {childList: true});\n",
       "}}\n",
       "\n",
       "// Listen for the clearing of the current output cell\n",
       "var outputEl = gd.closest('.output');\n",
       "if (outputEl) {{\n",
       "    x.observe(outputEl, {childList: true});\n",
       "}}\n",
       "\n",
       "                        })                };                });            </script>        </div>"
      ]
     },
     "metadata": {},
     "output_type": "display_data"
    },
    {
     "data": {
      "application/vnd.plotly.v1+json": {
       "config": {
        "plotlyServerURL": "https://plot.ly"
       },
       "data": [
        {
         "mode": "lines",
         "name": "Historical",
         "type": "scatter",
         "x": [
          "2024-05-24T00:00:00",
          "2024-05-27T00:00:00",
          "2024-05-28T00:00:00",
          "2024-05-29T00:00:00",
          "2024-05-30T00:00:00",
          "2024-05-31T00:00:00",
          "2024-06-01T00:00:00",
          "2024-06-02T00:00:00",
          "2024-06-03T00:00:00",
          "2024-06-04T00:00:00",
          "2024-06-05T00:00:00",
          "2024-06-06T00:00:00",
          "2024-06-07T00:00:00",
          "2024-06-09T00:00:00",
          "2024-06-10T00:00:00",
          "2024-06-11T00:00:00",
          "2024-06-12T00:00:00",
          "2024-06-13T00:00:00",
          "2024-06-14T00:00:00",
          "2024-06-16T00:00:00",
          "2024-06-17T00:00:00",
          "2024-06-18T00:00:00",
          "2024-06-19T00:00:00",
          "2024-06-20T00:00:00",
          "2024-06-21T00:00:00",
          "2024-06-23T00:00:00",
          "2024-06-24T00:00:00",
          "2024-06-25T00:00:00",
          "2024-06-26T00:00:00",
          "2024-06-27T00:00:00",
          "2024-06-28T00:00:00",
          "2024-06-29T00:00:00",
          "2024-06-30T00:00:00",
          "2024-07-01T00:00:00",
          "2024-07-02T00:00:00",
          "2024-07-03T00:00:00",
          "2024-07-04T00:00:00",
          "2024-07-05T00:00:00",
          "2024-07-06T00:00:00",
          "2024-07-07T00:00:00",
          "2024-07-08T00:00:00",
          "2024-07-09T00:00:00",
          "2024-07-10T00:00:00",
          "2024-07-11T00:00:00",
          "2024-07-12T00:00:00",
          "2024-07-14T00:00:00",
          "2024-07-15T00:00:00",
          "2024-07-16T00:00:00",
          "2024-07-17T00:00:00",
          "2024-07-18T00:00:00",
          "2024-07-19T00:00:00",
          "2024-07-20T00:00:00",
          "2024-07-21T00:00:00",
          "2024-07-22T00:00:00",
          "2024-07-23T00:00:00",
          "2024-07-24T00:00:00"
         ],
         "y": [
          2417,
          1985,
          2174,
          3723,
          2557,
          3440,
          1996,
          508,
          2417,
          4484,
          3096,
          2163,
          3166,
          1227,
          3063,
          3702,
          3166,
          2348,
          4222,
          797,
          2381,
          4758,
          2363,
          2246,
          3166,
          715,
          1794,
          4124,
          2700,
          2533,
          1878,
          2025,
          751,
          2905,
          3169,
          2459,
          1591,
          1330,
          2361,
          234,
          2687,
          2760,
          2358,
          2141,
          2279,
          1085,
          2384,
          3755,
          3117,
          2275,
          863,
          1923,
          1062,
          2375,
          3722,
          2560
         ]
        },
        {
         "marker": {
          "color": "red",
          "symbol": "x"
         },
         "mode": "markers",
         "name": "Peaks",
         "type": "scatter",
         "x": [
          "2024-05-29T00:00:00",
          "2024-05-31T00:00:00",
          "2024-06-04T00:00:00",
          "2024-06-11T00:00:00",
          "2024-06-14T00:00:00",
          "2024-06-18T00:00:00",
          "2024-06-25T00:00:00",
          "2024-07-16T00:00:00",
          "2024-07-23T00:00:00"
         ],
         "y": [
          3723,
          3440,
          4484,
          3702,
          4222,
          4758,
          4124,
          3755,
          3722
         ]
        },
        {
         "line": {
          "color": "red",
          "dash": "dash"
         },
         "mode": "lines",
         "name": "Forecast",
         "type": "scatter",
         "x": [
          "2024-07-25T00:00:00",
          "2024-07-26T00:00:00",
          "2024-07-27T00:00:00",
          "2024-07-28T00:00:00",
          "2024-07-29T00:00:00",
          "2024-07-30T00:00:00",
          "2024-07-31T00:00:00",
          "2024-08-01T00:00:00",
          "2024-08-02T00:00:00",
          "2024-08-03T00:00:00",
          "2024-08-04T00:00:00",
          "2024-08-05T00:00:00",
          "2024-08-06T00:00:00",
          "2024-08-07T00:00:00",
          "2024-08-08T00:00:00",
          "2024-08-09T00:00:00",
          "2024-08-10T00:00:00",
          "2024-08-11T00:00:00",
          "2024-08-12T00:00:00",
          "2024-08-13T00:00:00",
          "2024-08-14T00:00:00",
          "2024-08-15T00:00:00",
          "2024-08-16T00:00:00",
          "2024-08-17T00:00:00",
          "2024-08-18T00:00:00",
          "2024-08-19T00:00:00",
          "2024-08-20T00:00:00",
          "2024-08-21T00:00:00",
          "2024-08-22T00:00:00",
          "2024-08-23T00:00:00"
         ],
         "y": [
          2280.5204702161936,
          2262.625199993614,
          2156.959886617369,
          641.937658051349,
          2506.518184352768,
          3636.82432180646,
          2778.8160665337928,
          2156.748589785697,
          1877.6740033211463,
          2016.5093104618281,
          856.6136035059535,
          2474.2933200521293,
          3601.8635932975376,
          2742.07380422837,
          2156.5948442509907,
          1883.7868867479629,
          2029.7828804384044,
          868.4422503913593,
          2493.2618662151217,
          3619.3922971020947,
          2758.0124066882563,
          2171.9955989096197,
          1874.3752260465626,
          2043.056450415912,
          858.228004363431,
          2512.230412378114,
          3636.770230664326,
          2758.235032567165,
          2187.3663975031304,
          1880.623646258624
         ]
        },
        {
         "line": {
          "width": 0
         },
         "mode": "lines",
         "showlegend": false,
         "type": "scatter",
         "x": [
          "2024-07-25T00:00:00",
          "2024-07-26T00:00:00",
          "2024-07-27T00:00:00",
          "2024-07-28T00:00:00",
          "2024-07-29T00:00:00",
          "2024-07-30T00:00:00",
          "2024-07-31T00:00:00",
          "2024-08-01T00:00:00",
          "2024-08-02T00:00:00",
          "2024-08-03T00:00:00",
          "2024-08-04T00:00:00",
          "2024-08-05T00:00:00",
          "2024-08-06T00:00:00",
          "2024-08-07T00:00:00",
          "2024-08-08T00:00:00",
          "2024-08-09T00:00:00",
          "2024-08-10T00:00:00",
          "2024-08-11T00:00:00",
          "2024-08-12T00:00:00",
          "2024-08-13T00:00:00",
          "2024-08-14T00:00:00",
          "2024-08-15T00:00:00",
          "2024-08-16T00:00:00",
          "2024-08-17T00:00:00",
          "2024-08-18T00:00:00",
          "2024-08-19T00:00:00",
          "2024-08-20T00:00:00",
          "2024-08-21T00:00:00",
          "2024-08-22T00:00:00",
          "2024-08-23T00:00:00"
         ],
         "y": [
          2039.8441353536805,
          2011.7032487882313,
          1905.8895466435947,
          381.813132714035,
          2231.861930037779,
          3362.1680673348274,
          2504.1598119055166,
          1882.0923350007765,
          1603.0177483795824,
          1741.8530553636203,
          581.9573482511018,
          2199.637064640634,
          3327.207337729398,
          2467.417548503587,
          1881.9385883695638,
          1609.130630709892,
          1755.12662424369,
          593.785994040001,
          2218.6056097071196,
          3344.736040437449,
          2483.3561498669665,
          1897.3393419316862,
          1599.7189689119853,
          1768.4001931246908,
          583.5717469155661,
          2237.574154773605,
          3362.1139729031734,
          2483.578774649369,
          1912.7101394286904,
          1605.96738802754
         ]
        },
        {
         "fill": "tonexty",
         "fillcolor": "rgba(83, 156, 175, 0.4)",
         "line": {
          "width": 0
         },
         "mode": "lines",
         "name": "90.0% confidence interval",
         "type": "scatter",
         "x": [
          "2024-07-25T00:00:00",
          "2024-07-26T00:00:00",
          "2024-07-27T00:00:00",
          "2024-07-28T00:00:00",
          "2024-07-29T00:00:00",
          "2024-07-30T00:00:00",
          "2024-07-31T00:00:00",
          "2024-08-01T00:00:00",
          "2024-08-02T00:00:00",
          "2024-08-03T00:00:00",
          "2024-08-04T00:00:00",
          "2024-08-05T00:00:00",
          "2024-08-06T00:00:00",
          "2024-08-07T00:00:00",
          "2024-08-08T00:00:00",
          "2024-08-09T00:00:00",
          "2024-08-10T00:00:00",
          "2024-08-11T00:00:00",
          "2024-08-12T00:00:00",
          "2024-08-13T00:00:00",
          "2024-08-14T00:00:00",
          "2024-08-15T00:00:00",
          "2024-08-16T00:00:00",
          "2024-08-17T00:00:00",
          "2024-08-18T00:00:00",
          "2024-08-19T00:00:00",
          "2024-08-20T00:00:00",
          "2024-08-21T00:00:00",
          "2024-08-22T00:00:00",
          "2024-08-23T00:00:00"
         ],
         "y": [
          2521.196805078707,
          2513.5471511989967,
          2408.0302265911437,
          902.062183388663,
          2781.174438667757,
          3911.4805762780925,
          3053.472321162069,
          2431.404844570617,
          2152.3302582627102,
          2291.165565560036,
          1131.2698587608052,
          2748.9495754636246,
          3876.519848865677,
          3016.730059953153,
          2431.2511001324174,
          2158.4431427860336,
          2304.439136633119,
          1143.0985067427175,
          2767.918122723124,
          3894.0485537667405,
          3032.668663509546,
          2446.651855887553,
          2149.0314831811397,
          2317.712707707133,
          1132.8842618112958,
          2786.886669982623,
          3911.4264884254785,
          3032.8912904849612,
          2462.0226555775707,
          2155.279904489708
         ]
        },
        {
         "line": {
          "color": "green"
         },
         "mode": "lines",
         "name": "Actual",
         "type": "scatter",
         "x": [
          "2024-07-25T00:00:00",
          "2024-07-26T00:00:00",
          "2024-07-27T00:00:00",
          "2024-07-28T00:00:00",
          "2024-07-29T00:00:00",
          "2024-07-30T00:00:00",
          "2024-07-31T00:00:00",
          "2024-08-01T00:00:00",
          "2024-08-02T00:00:00",
          "2024-08-03T00:00:00",
          "2024-08-04T00:00:00",
          "2024-08-05T00:00:00",
          "2024-08-06T00:00:00",
          "2024-08-07T00:00:00",
          "2024-08-08T00:00:00",
          "2024-08-09T00:00:00",
          "2024-08-10T00:00:00",
          "2024-08-11T00:00:00",
          "2024-08-12T00:00:00",
          "2024-08-13T00:00:00",
          "2024-08-14T00:00:00",
          "2024-08-15T00:00:00",
          "2024-08-16T00:00:00",
          "2024-08-17T00:00:00",
          "2024-08-18T00:00:00",
          "2024-08-19T00:00:00",
          "2024-08-20T00:00:00",
          "2024-08-21T00:00:00",
          "2024-08-22T00:00:00",
          "2024-08-23T00:00:00"
         ],
         "y": [
          2054,
          2537,
          null,
          329,
          1606,
          3820,
          2726,
          null,
          null,
          null,
          null,
          null,
          null,
          null,
          null,
          null,
          null,
          null,
          null,
          null,
          null,
          null,
          null,
          null,
          null,
          null,
          null,
          null,
          null,
          null
         ]
        }
       ],
       "layout": {
        "autosize": true,
        "legend": {
         "font": {
          "size": 12
         },
         "x": 0,
         "y": 1
        },
        "template": {
         "data": {
          "bar": [
           {
            "error_x": {
             "color": "#2a3f5f"
            },
            "error_y": {
             "color": "#2a3f5f"
            },
            "marker": {
             "line": {
              "color": "#E5ECF6",
              "width": 0.5
             },
             "pattern": {
              "fillmode": "overlay",
              "size": 10,
              "solidity": 0.2
             }
            },
            "type": "bar"
           }
          ],
          "barpolar": [
           {
            "marker": {
             "line": {
              "color": "#E5ECF6",
              "width": 0.5
             },
             "pattern": {
              "fillmode": "overlay",
              "size": 10,
              "solidity": 0.2
             }
            },
            "type": "barpolar"
           }
          ],
          "carpet": [
           {
            "aaxis": {
             "endlinecolor": "#2a3f5f",
             "gridcolor": "white",
             "linecolor": "white",
             "minorgridcolor": "white",
             "startlinecolor": "#2a3f5f"
            },
            "baxis": {
             "endlinecolor": "#2a3f5f",
             "gridcolor": "white",
             "linecolor": "white",
             "minorgridcolor": "white",
             "startlinecolor": "#2a3f5f"
            },
            "type": "carpet"
           }
          ],
          "choropleth": [
           {
            "colorbar": {
             "outlinewidth": 0,
             "ticks": ""
            },
            "type": "choropleth"
           }
          ],
          "contour": [
           {
            "colorbar": {
             "outlinewidth": 0,
             "ticks": ""
            },
            "colorscale": [
             [
              0,
              "#0d0887"
             ],
             [
              0.1111111111111111,
              "#46039f"
             ],
             [
              0.2222222222222222,
              "#7201a8"
             ],
             [
              0.3333333333333333,
              "#9c179e"
             ],
             [
              0.4444444444444444,
              "#bd3786"
             ],
             [
              0.5555555555555556,
              "#d8576b"
             ],
             [
              0.6666666666666666,
              "#ed7953"
             ],
             [
              0.7777777777777778,
              "#fb9f3a"
             ],
             [
              0.8888888888888888,
              "#fdca26"
             ],
             [
              1,
              "#f0f921"
             ]
            ],
            "type": "contour"
           }
          ],
          "contourcarpet": [
           {
            "colorbar": {
             "outlinewidth": 0,
             "ticks": ""
            },
            "type": "contourcarpet"
           }
          ],
          "heatmap": [
           {
            "colorbar": {
             "outlinewidth": 0,
             "ticks": ""
            },
            "colorscale": [
             [
              0,
              "#0d0887"
             ],
             [
              0.1111111111111111,
              "#46039f"
             ],
             [
              0.2222222222222222,
              "#7201a8"
             ],
             [
              0.3333333333333333,
              "#9c179e"
             ],
             [
              0.4444444444444444,
              "#bd3786"
             ],
             [
              0.5555555555555556,
              "#d8576b"
             ],
             [
              0.6666666666666666,
              "#ed7953"
             ],
             [
              0.7777777777777778,
              "#fb9f3a"
             ],
             [
              0.8888888888888888,
              "#fdca26"
             ],
             [
              1,
              "#f0f921"
             ]
            ],
            "type": "heatmap"
           }
          ],
          "heatmapgl": [
           {
            "colorbar": {
             "outlinewidth": 0,
             "ticks": ""
            },
            "colorscale": [
             [
              0,
              "#0d0887"
             ],
             [
              0.1111111111111111,
              "#46039f"
             ],
             [
              0.2222222222222222,
              "#7201a8"
             ],
             [
              0.3333333333333333,
              "#9c179e"
             ],
             [
              0.4444444444444444,
              "#bd3786"
             ],
             [
              0.5555555555555556,
              "#d8576b"
             ],
             [
              0.6666666666666666,
              "#ed7953"
             ],
             [
              0.7777777777777778,
              "#fb9f3a"
             ],
             [
              0.8888888888888888,
              "#fdca26"
             ],
             [
              1,
              "#f0f921"
             ]
            ],
            "type": "heatmapgl"
           }
          ],
          "histogram": [
           {
            "marker": {
             "pattern": {
              "fillmode": "overlay",
              "size": 10,
              "solidity": 0.2
             }
            },
            "type": "histogram"
           }
          ],
          "histogram2d": [
           {
            "colorbar": {
             "outlinewidth": 0,
             "ticks": ""
            },
            "colorscale": [
             [
              0,
              "#0d0887"
             ],
             [
              0.1111111111111111,
              "#46039f"
             ],
             [
              0.2222222222222222,
              "#7201a8"
             ],
             [
              0.3333333333333333,
              "#9c179e"
             ],
             [
              0.4444444444444444,
              "#bd3786"
             ],
             [
              0.5555555555555556,
              "#d8576b"
             ],
             [
              0.6666666666666666,
              "#ed7953"
             ],
             [
              0.7777777777777778,
              "#fb9f3a"
             ],
             [
              0.8888888888888888,
              "#fdca26"
             ],
             [
              1,
              "#f0f921"
             ]
            ],
            "type": "histogram2d"
           }
          ],
          "histogram2dcontour": [
           {
            "colorbar": {
             "outlinewidth": 0,
             "ticks": ""
            },
            "colorscale": [
             [
              0,
              "#0d0887"
             ],
             [
              0.1111111111111111,
              "#46039f"
             ],
             [
              0.2222222222222222,
              "#7201a8"
             ],
             [
              0.3333333333333333,
              "#9c179e"
             ],
             [
              0.4444444444444444,
              "#bd3786"
             ],
             [
              0.5555555555555556,
              "#d8576b"
             ],
             [
              0.6666666666666666,
              "#ed7953"
             ],
             [
              0.7777777777777778,
              "#fb9f3a"
             ],
             [
              0.8888888888888888,
              "#fdca26"
             ],
             [
              1,
              "#f0f921"
             ]
            ],
            "type": "histogram2dcontour"
           }
          ],
          "mesh3d": [
           {
            "colorbar": {
             "outlinewidth": 0,
             "ticks": ""
            },
            "type": "mesh3d"
           }
          ],
          "parcoords": [
           {
            "line": {
             "colorbar": {
              "outlinewidth": 0,
              "ticks": ""
             }
            },
            "type": "parcoords"
           }
          ],
          "pie": [
           {
            "automargin": true,
            "type": "pie"
           }
          ],
          "scatter": [
           {
            "fillpattern": {
             "fillmode": "overlay",
             "size": 10,
             "solidity": 0.2
            },
            "type": "scatter"
           }
          ],
          "scatter3d": [
           {
            "line": {
             "colorbar": {
              "outlinewidth": 0,
              "ticks": ""
             }
            },
            "marker": {
             "colorbar": {
              "outlinewidth": 0,
              "ticks": ""
             }
            },
            "type": "scatter3d"
           }
          ],
          "scattercarpet": [
           {
            "marker": {
             "colorbar": {
              "outlinewidth": 0,
              "ticks": ""
             }
            },
            "type": "scattercarpet"
           }
          ],
          "scattergeo": [
           {
            "marker": {
             "colorbar": {
              "outlinewidth": 0,
              "ticks": ""
             }
            },
            "type": "scattergeo"
           }
          ],
          "scattergl": [
           {
            "marker": {
             "colorbar": {
              "outlinewidth": 0,
              "ticks": ""
             }
            },
            "type": "scattergl"
           }
          ],
          "scattermapbox": [
           {
            "marker": {
             "colorbar": {
              "outlinewidth": 0,
              "ticks": ""
             }
            },
            "type": "scattermapbox"
           }
          ],
          "scatterpolar": [
           {
            "marker": {
             "colorbar": {
              "outlinewidth": 0,
              "ticks": ""
             }
            },
            "type": "scatterpolar"
           }
          ],
          "scatterpolargl": [
           {
            "marker": {
             "colorbar": {
              "outlinewidth": 0,
              "ticks": ""
             }
            },
            "type": "scatterpolargl"
           }
          ],
          "scatterternary": [
           {
            "marker": {
             "colorbar": {
              "outlinewidth": 0,
              "ticks": ""
             }
            },
            "type": "scatterternary"
           }
          ],
          "surface": [
           {
            "colorbar": {
             "outlinewidth": 0,
             "ticks": ""
            },
            "colorscale": [
             [
              0,
              "#0d0887"
             ],
             [
              0.1111111111111111,
              "#46039f"
             ],
             [
              0.2222222222222222,
              "#7201a8"
             ],
             [
              0.3333333333333333,
              "#9c179e"
             ],
             [
              0.4444444444444444,
              "#bd3786"
             ],
             [
              0.5555555555555556,
              "#d8576b"
             ],
             [
              0.6666666666666666,
              "#ed7953"
             ],
             [
              0.7777777777777778,
              "#fb9f3a"
             ],
             [
              0.8888888888888888,
              "#fdca26"
             ],
             [
              1,
              "#f0f921"
             ]
            ],
            "type": "surface"
           }
          ],
          "table": [
           {
            "cells": {
             "fill": {
              "color": "#EBF0F8"
             },
             "line": {
              "color": "white"
             }
            },
            "header": {
             "fill": {
              "color": "#C8D4E3"
             },
             "line": {
              "color": "white"
             }
            },
            "type": "table"
           }
          ]
         },
         "layout": {
          "annotationdefaults": {
           "arrowcolor": "#2a3f5f",
           "arrowhead": 0,
           "arrowwidth": 1
          },
          "autotypenumbers": "strict",
          "coloraxis": {
           "colorbar": {
            "outlinewidth": 0,
            "ticks": ""
           }
          },
          "colorscale": {
           "diverging": [
            [
             0,
             "#8e0152"
            ],
            [
             0.1,
             "#c51b7d"
            ],
            [
             0.2,
             "#de77ae"
            ],
            [
             0.3,
             "#f1b6da"
            ],
            [
             0.4,
             "#fde0ef"
            ],
            [
             0.5,
             "#f7f7f7"
            ],
            [
             0.6,
             "#e6f5d0"
            ],
            [
             0.7,
             "#b8e186"
            ],
            [
             0.8,
             "#7fbc41"
            ],
            [
             0.9,
             "#4d9221"
            ],
            [
             1,
             "#276419"
            ]
           ],
           "sequential": [
            [
             0,
             "#0d0887"
            ],
            [
             0.1111111111111111,
             "#46039f"
            ],
            [
             0.2222222222222222,
             "#7201a8"
            ],
            [
             0.3333333333333333,
             "#9c179e"
            ],
            [
             0.4444444444444444,
             "#bd3786"
            ],
            [
             0.5555555555555556,
             "#d8576b"
            ],
            [
             0.6666666666666666,
             "#ed7953"
            ],
            [
             0.7777777777777778,
             "#fb9f3a"
            ],
            [
             0.8888888888888888,
             "#fdca26"
            ],
            [
             1,
             "#f0f921"
            ]
           ],
           "sequentialminus": [
            [
             0,
             "#0d0887"
            ],
            [
             0.1111111111111111,
             "#46039f"
            ],
            [
             0.2222222222222222,
             "#7201a8"
            ],
            [
             0.3333333333333333,
             "#9c179e"
            ],
            [
             0.4444444444444444,
             "#bd3786"
            ],
            [
             0.5555555555555556,
             "#d8576b"
            ],
            [
             0.6666666666666666,
             "#ed7953"
            ],
            [
             0.7777777777777778,
             "#fb9f3a"
            ],
            [
             0.8888888888888888,
             "#fdca26"
            ],
            [
             1,
             "#f0f921"
            ]
           ]
          },
          "colorway": [
           "#636efa",
           "#EF553B",
           "#00cc96",
           "#ab63fa",
           "#FFA15A",
           "#19d3f3",
           "#FF6692",
           "#B6E880",
           "#FF97FF",
           "#FECB52"
          ],
          "font": {
           "color": "#2a3f5f"
          },
          "geo": {
           "bgcolor": "white",
           "lakecolor": "white",
           "landcolor": "#E5ECF6",
           "showlakes": true,
           "showland": true,
           "subunitcolor": "white"
          },
          "hoverlabel": {
           "align": "left"
          },
          "hovermode": "closest",
          "mapbox": {
           "style": "light"
          },
          "paper_bgcolor": "white",
          "plot_bgcolor": "#E5ECF6",
          "polar": {
           "angularaxis": {
            "gridcolor": "white",
            "linecolor": "white",
            "ticks": ""
           },
           "bgcolor": "#E5ECF6",
           "radialaxis": {
            "gridcolor": "white",
            "linecolor": "white",
            "ticks": ""
           }
          },
          "scene": {
           "xaxis": {
            "backgroundcolor": "#E5ECF6",
            "gridcolor": "white",
            "gridwidth": 2,
            "linecolor": "white",
            "showbackground": true,
            "ticks": "",
            "zerolinecolor": "white"
           },
           "yaxis": {
            "backgroundcolor": "#E5ECF6",
            "gridcolor": "white",
            "gridwidth": 2,
            "linecolor": "white",
            "showbackground": true,
            "ticks": "",
            "zerolinecolor": "white"
           },
           "zaxis": {
            "backgroundcolor": "#E5ECF6",
            "gridcolor": "white",
            "gridwidth": 2,
            "linecolor": "white",
            "showbackground": true,
            "ticks": "",
            "zerolinecolor": "white"
           }
          },
          "shapedefaults": {
           "line": {
            "color": "#2a3f5f"
           }
          },
          "ternary": {
           "aaxis": {
            "gridcolor": "white",
            "linecolor": "white",
            "ticks": ""
           },
           "baxis": {
            "gridcolor": "white",
            "linecolor": "white",
            "ticks": ""
           },
           "bgcolor": "#E5ECF6",
           "caxis": {
            "gridcolor": "white",
            "linecolor": "white",
            "ticks": ""
           }
          },
          "title": {
           "x": 0.05
          },
          "xaxis": {
           "automargin": true,
           "gridcolor": "white",
           "linecolor": "white",
           "ticks": "",
           "title": {
            "standoff": 15
           },
           "zerolinecolor": "white",
           "zerolinewidth": 2
          },
          "yaxis": {
           "automargin": true,
           "gridcolor": "white",
           "linecolor": "white",
           "ticks": "",
           "title": {
            "standoff": 15
           },
           "zerolinecolor": "white",
           "zerolinewidth": 2
          }
         }
        },
        "title": {
         "font": {
          "size": 16
         },
         "text": "Item: HAWKEYE VODKA"
        },
        "xaxis": {
         "autorange": true,
         "range": [
          "2024-05-24",
          "2024-08-23"
         ],
         "type": "date"
        },
        "yaxis": {
         "autorange": true,
         "range": [
          -22.18532818532816,
          5101.521235521235
         ],
         "type": "linear"
        }
       }
      },
      "image/png": "[encoded data removed]",
      "text/html": [
       "<div>                            <div id=\"fe42dd93-7a03-4931-9ed5-ab575b2b1b4a\" class=\"plotly-graph-div\" style=\"height:400px; width:100%;\"></div>            <script type=\"text/javascript\">                require([\"plotly\"], function(Plotly) {                    window.PLOTLYENV=window.PLOTLYENV || {};                                    if (document.getElementById(\"fe42dd93-7a03-4931-9ed5-ab575b2b1b4a\")) {                    Plotly.newPlot(                        \"fe42dd93-7a03-4931-9ed5-ab575b2b1b4a\",                        [{\"mode\":\"lines\",\"name\":\"Historical\",\"x\":[\"2024-05-24T00:00:00\",\"2024-05-27T00:00:00\",\"2024-05-28T00:00:00\",\"2024-05-29T00:00:00\",\"2024-05-30T00:00:00\",\"2024-05-31T00:00:00\",\"2024-06-01T00:00:00\",\"2024-06-02T00:00:00\",\"2024-06-03T00:00:00\",\"2024-06-04T00:00:00\",\"2024-06-05T00:00:00\",\"2024-06-06T00:00:00\",\"2024-06-07T00:00:00\",\"2024-06-09T00:00:00\",\"2024-06-10T00:00:00\",\"2024-06-11T00:00:00\",\"2024-06-12T00:00:00\",\"2024-06-13T00:00:00\",\"2024-06-14T00:00:00\",\"2024-06-16T00:00:00\",\"2024-06-17T00:00:00\",\"2024-06-18T00:00:00\",\"2024-06-19T00:00:00\",\"2024-06-20T00:00:00\",\"2024-06-21T00:00:00\",\"2024-06-23T00:00:00\",\"2024-06-24T00:00:00\",\"2024-06-25T00:00:00\",\"2024-06-26T00:00:00\",\"2024-06-27T00:00:00\",\"2024-06-28T00:00:00\",\"2024-06-29T00:00:00\",\"2024-06-30T00:00:00\",\"2024-07-01T00:00:00\",\"2024-07-02T00:00:00\",\"2024-07-03T00:00:00\",\"2024-07-04T00:00:00\",\"2024-07-05T00:00:00\",\"2024-07-06T00:00:00\",\"2024-07-07T00:00:00\",\"2024-07-08T00:00:00\",\"2024-07-09T00:00:00\",\"2024-07-10T00:00:00\",\"2024-07-11T00:00:00\",\"2024-07-12T00:00:00\",\"2024-07-14T00:00:00\",\"2024-07-15T00:00:00\",\"2024-07-16T00:00:00\",\"2024-07-17T00:00:00\",\"2024-07-18T00:00:00\",\"2024-07-19T00:00:00\",\"2024-07-20T00:00:00\",\"2024-07-21T00:00:00\",\"2024-07-22T00:00:00\",\"2024-07-23T00:00:00\",\"2024-07-24T00:00:00\"],\"y\":[2417.0,1985.0,2174.0,3723.0,2557.0,3440.0,1996.0,508.0,2417.0,4484.0,3096.0,2163.0,3166.0,1227.0,3063.0,3702.0,3166.0,2348.0,4222.0,797.0,2381.0,4758.0,2363.0,2246.0,3166.0,715.0,1794.0,4124.0,2700.0,2533.0,1878.0,2025.0,751.0,2905.0,3169.0,2459.0,1591.0,1330.0,2361.0,234.0,2687.0,2760.0,2358.0,2141.0,2279.0,1085.0,2384.0,3755.0,3117.0,2275.0,863.0,1923.0,1062.0,2375.0,3722.0,2560.0],\"type\":\"scatter\"},{\"marker\":{\"color\":\"red\",\"symbol\":\"x\"},\"mode\":\"markers\",\"name\":\"Peaks\",\"x\":[\"2024-05-29T00:00:00\",\"2024-05-31T00:00:00\",\"2024-06-04T00:00:00\",\"2024-06-11T00:00:00\",\"2024-06-14T00:00:00\",\"2024-06-18T00:00:00\",\"2024-06-25T00:00:00\",\"2024-07-16T00:00:00\",\"2024-07-23T00:00:00\"],\"y\":[3723.0,3440.0,4484.0,3702.0,4222.0,4758.0,4124.0,3755.0,3722.0],\"type\":\"scatter\"},{\"line\":{\"color\":\"red\",\"dash\":\"dash\"},\"mode\":\"lines\",\"name\":\"Forecast\",\"x\":[\"2024-07-25T00:00:00\",\"2024-07-26T00:00:00\",\"2024-07-27T00:00:00\",\"2024-07-28T00:00:00\",\"2024-07-29T00:00:00\",\"2024-07-30T00:00:00\",\"2024-07-31T00:00:00\",\"2024-08-01T00:00:00\",\"2024-08-02T00:00:00\",\"2024-08-03T00:00:00\",\"2024-08-04T00:00:00\",\"2024-08-05T00:00:00\",\"2024-08-06T00:00:00\",\"2024-08-07T00:00:00\",\"2024-08-08T00:00:00\",\"2024-08-09T00:00:00\",\"2024-08-10T00:00:00\",\"2024-08-11T00:00:00\",\"2024-08-12T00:00:00\",\"2024-08-13T00:00:00\",\"2024-08-14T00:00:00\",\"2024-08-15T00:00:00\",\"2024-08-16T00:00:00\",\"2024-08-17T00:00:00\",\"2024-08-18T00:00:00\",\"2024-08-19T00:00:00\",\"2024-08-20T00:00:00\",\"2024-08-21T00:00:00\",\"2024-08-22T00:00:00\",\"2024-08-23T00:00:00\"],\"y\":[2280.5204702161936,2262.625199993614,2156.959886617369,641.937658051349,2506.518184352768,3636.82432180646,2778.8160665337928,2156.748589785697,1877.6740033211463,2016.5093104618281,856.6136035059535,2474.2933200521293,3601.8635932975376,2742.07380422837,2156.5948442509907,1883.7868867479629,2029.7828804384044,868.4422503913593,2493.2618662151217,3619.3922971020947,2758.0124066882563,2171.9955989096197,1874.3752260465626,2043.056450415912,858.228004363431,2512.230412378114,3636.770230664326,2758.235032567165,2187.3663975031304,1880.623646258624],\"type\":\"scatter\"},{\"line\":{\"width\":0},\"mode\":\"lines\",\"showlegend\":false,\"x\":[\"2024-07-25T00:00:00\",\"2024-07-26T00:00:00\",\"2024-07-27T00:00:00\",\"2024-07-28T00:00:00\",\"2024-07-29T00:00:00\",\"2024-07-30T00:00:00\",\"2024-07-31T00:00:00\",\"2024-08-01T00:00:00\",\"2024-08-02T00:00:00\",\"2024-08-03T00:00:00\",\"2024-08-04T00:00:00\",\"2024-08-05T00:00:00\",\"2024-08-06T00:00:00\",\"2024-08-07T00:00:00\",\"2024-08-08T00:00:00\",\"2024-08-09T00:00:00\",\"2024-08-10T00:00:00\",\"2024-08-11T00:00:00\",\"2024-08-12T00:00:00\",\"2024-08-13T00:00:00\",\"2024-08-14T00:00:00\",\"2024-08-15T00:00:00\",\"2024-08-16T00:00:00\",\"2024-08-17T00:00:00\",\"2024-08-18T00:00:00\",\"2024-08-19T00:00:00\",\"2024-08-20T00:00:00\",\"2024-08-21T00:00:00\",\"2024-08-22T00:00:00\",\"2024-08-23T00:00:00\"],\"y\":[2039.8441353536805,2011.7032487882313,1905.8895466435947,381.813132714035,2231.861930037779,3362.1680673348274,2504.1598119055166,1882.0923350007765,1603.0177483795824,1741.8530553636203,581.9573482511018,2199.637064640634,3327.207337729398,2467.417548503587,1881.9385883695638,1609.130630709892,1755.12662424369,593.785994040001,2218.6056097071196,3344.736040437449,2483.3561498669665,1897.3393419316862,1599.7189689119853,1768.4001931246908,583.5717469155661,2237.574154773605,3362.1139729031734,2483.578774649369,1912.7101394286904,1605.96738802754],\"type\":\"scatter\"},{\"fill\":\"tonexty\",\"fillcolor\":\"rgba(83, 156, 175, 0.4)\",\"line\":{\"width\":0},\"mode\":\"lines\",\"name\":\"90.0% confidence interval\",\"x\":[\"2024-07-25T00:00:00\",\"2024-07-26T00:00:00\",\"2024-07-27T00:00:00\",\"2024-07-28T00:00:00\",\"2024-07-29T00:00:00\",\"2024-07-30T00:00:00\",\"2024-07-31T00:00:00\",\"2024-08-01T00:00:00\",\"2024-08-02T00:00:00\",\"2024-08-03T00:00:00\",\"2024-08-04T00:00:00\",\"2024-08-05T00:00:00\",\"2024-08-06T00:00:00\",\"2024-08-07T00:00:00\",\"2024-08-08T00:00:00\",\"2024-08-09T00:00:00\",\"2024-08-10T00:00:00\",\"2024-08-11T00:00:00\",\"2024-08-12T00:00:00\",\"2024-08-13T00:00:00\",\"2024-08-14T00:00:00\",\"2024-08-15T00:00:00\",\"2024-08-16T00:00:00\",\"2024-08-17T00:00:00\",\"2024-08-18T00:00:00\",\"2024-08-19T00:00:00\",\"2024-08-20T00:00:00\",\"2024-08-21T00:00:00\",\"2024-08-22T00:00:00\",\"2024-08-23T00:00:00\"],\"y\":[2521.196805078707,2513.5471511989967,2408.0302265911437,902.062183388663,2781.174438667757,3911.4805762780925,3053.472321162069,2431.404844570617,2152.3302582627102,2291.165565560036,1131.2698587608052,2748.9495754636246,3876.519848865677,3016.730059953153,2431.2511001324174,2158.4431427860336,2304.439136633119,1143.0985067427175,2767.918122723124,3894.0485537667405,3032.668663509546,2446.651855887553,2149.0314831811397,2317.712707707133,1132.8842618112958,2786.886669982623,3911.4264884254785,3032.8912904849612,2462.0226555775707,2155.279904489708],\"type\":\"scatter\"},{\"line\":{\"color\":\"green\"},\"mode\":\"lines\",\"name\":\"Actual\",\"x\":[\"2024-07-25T00:00:00\",\"2024-07-26T00:00:00\",\"2024-07-27T00:00:00\",\"2024-07-28T00:00:00\",\"2024-07-29T00:00:00\",\"2024-07-30T00:00:00\",\"2024-07-31T00:00:00\",\"2024-08-01T00:00:00\",\"2024-08-02T00:00:00\",\"2024-08-03T00:00:00\",\"2024-08-04T00:00:00\",\"2024-08-05T00:00:00\",\"2024-08-06T00:00:00\",\"2024-08-07T00:00:00\",\"2024-08-08T00:00:00\",\"2024-08-09T00:00:00\",\"2024-08-10T00:00:00\",\"2024-08-11T00:00:00\",\"2024-08-12T00:00:00\",\"2024-08-13T00:00:00\",\"2024-08-14T00:00:00\",\"2024-08-15T00:00:00\",\"2024-08-16T00:00:00\",\"2024-08-17T00:00:00\",\"2024-08-18T00:00:00\",\"2024-08-19T00:00:00\",\"2024-08-20T00:00:00\",\"2024-08-21T00:00:00\",\"2024-08-22T00:00:00\",\"2024-08-23T00:00:00\"],\"y\":[2054.0,2537.0,null,329.0,1606.0,3820.0,2726.0,null,null,null,null,null,null,null,null,null,null,null,null,null,null,null,null,null,null,null,null,null,null,null],\"type\":\"scatter\"}],                        {\"template\":{\"data\":{\"histogram2dcontour\":[{\"type\":\"histogram2dcontour\",\"colorbar\":{\"outlinewidth\":0,\"ticks\":\"\"},\"colorscale\":[[0.0,\"#0d0887\"],[0.1111111111111111,\"#46039f\"],[0.2222222222222222,\"#7201a8\"],[0.3333333333333333,\"#9c179e\"],[0.4444444444444444,\"#bd3786\"],[0.5555555555555556,\"#d8576b\"],[0.6666666666666666,\"#ed7953\"],[0.7777777777777778,\"#fb9f3a\"],[0.8888888888888888,\"#fdca26\"],[1.0,\"#f0f921\"]]}],\"choropleth\":[{\"type\":\"choropleth\",\"colorbar\":{\"outlinewidth\":0,\"ticks\":\"\"}}],\"histogram2d\":[{\"type\":\"histogram2d\",\"colorbar\":{\"outlinewidth\":0,\"ticks\":\"\"},\"colorscale\":[[0.0,\"#0d0887\"],[0.1111111111111111,\"#46039f\"],[0.2222222222222222,\"#7201a8\"],[0.3333333333333333,\"#9c179e\"],[0.4444444444444444,\"#bd3786\"],[0.5555555555555556,\"#d8576b\"],[0.6666666666666666,\"#ed7953\"],[0.7777777777777778,\"#fb9f3a\"],[0.8888888888888888,\"#fdca26\"],[1.0,\"#f0f921\"]]}],\"heatmap\":[{\"type\":\"heatmap\",\"colorbar\":{\"outlinewidth\":0,\"ticks\":\"\"},\"colorscale\":[[0.0,\"#0d0887\"],[0.1111111111111111,\"#46039f\"],[0.2222222222222222,\"#7201a8\"],[0.3333333333333333,\"#9c179e\"],[0.4444444444444444,\"#bd3786\"],[0.5555555555555556,\"#d8576b\"],[0.6666666666666666,\"#ed7953\"],[0.7777777777777778,\"#fb9f3a\"],[0.8888888888888888,\"#fdca26\"],[1.0,\"#f0f921\"]]}],\"heatmapgl\":[{\"type\":\"heatmapgl\",\"colorbar\":{\"outlinewidth\":0,\"ticks\":\"\"},\"colorscale\":[[0.0,\"#0d0887\"],[0.1111111111111111,\"#46039f\"],[0.2222222222222222,\"#7201a8\"],[0.3333333333333333,\"#9c179e\"],[0.4444444444444444,\"#bd3786\"],[0.5555555555555556,\"#d8576b\"],[0.6666666666666666,\"#ed7953\"],[0.7777777777777778,\"#fb9f3a\"],[0.8888888888888888,\"#fdca26\"],[1.0,\"#f0f921\"]]}],\"contourcarpet\":[{\"type\":\"contourcarpet\",\"colorbar\":{\"outlinewidth\":0,\"ticks\":\"\"}}],\"contour\":[{\"type\":\"contour\",\"colorbar\":{\"outlinewidth\":0,\"ticks\":\"\"},\"colorscale\":[[0.0,\"#0d0887\"],[0.1111111111111111,\"#46039f\"],[0.2222222222222222,\"#7201a8\"],[0.3333333333333333,\"#9c179e\"],[0.4444444444444444,\"#bd3786\"],[0.5555555555555556,\"#d8576b\"],[0.6666666666666666,\"#ed7953\"],[0.7777777777777778,\"#fb9f3a\"],[0.8888888888888888,\"#fdca26\"],[1.0,\"#f0f921\"]]}],\"surface\":[{\"type\":\"surface\",\"colorbar\":{\"outlinewidth\":0,\"ticks\":\"\"},\"colorscale\":[[0.0,\"#0d0887\"],[0.1111111111111111,\"#46039f\"],[0.2222222222222222,\"#7201a8\"],[0.3333333333333333,\"#9c179e\"],[0.4444444444444444,\"#bd3786\"],[0.5555555555555556,\"#d8576b\"],[0.6666666666666666,\"#ed7953\"],[0.7777777777777778,\"#fb9f3a\"],[0.8888888888888888,\"#fdca26\"],[1.0,\"#f0f921\"]]}],\"mesh3d\":[{\"type\":\"mesh3d\",\"colorbar\":{\"outlinewidth\":0,\"ticks\":\"\"}}],\"scatter\":[{\"fillpattern\":{\"fillmode\":\"overlay\",\"size\":10,\"solidity\":0.2},\"type\":\"scatter\"}],\"parcoords\":[{\"type\":\"parcoords\",\"line\":{\"colorbar\":{\"outlinewidth\":0,\"ticks\":\"\"}}}],\"scatterpolargl\":[{\"type\":\"scatterpolargl\",\"marker\":{\"colorbar\":{\"outlinewidth\":0,\"ticks\":\"\"}}}],\"bar\":[{\"error_x\":{\"color\":\"#2a3f5f\"},\"error_y\":{\"color\":\"#2a3f5f\"},\"marker\":{\"line\":{\"color\":\"#E5ECF6\",\"width\":0.5},\"pattern\":{\"fillmode\":\"overlay\",\"size\":10,\"solidity\":0.2}},\"type\":\"bar\"}],\"scattergeo\":[{\"type\":\"scattergeo\",\"marker\":{\"colorbar\":{\"outlinewidth\":0,\"ticks\":\"\"}}}],\"scatterpolar\":[{\"type\":\"scatterpolar\",\"marker\":{\"colorbar\":{\"outlinewidth\":0,\"ticks\":\"\"}}}],\"histogram\":[{\"marker\":{\"pattern\":{\"fillmode\":\"overlay\",\"size\":10,\"solidity\":0.2}},\"type\":\"histogram\"}],\"scattergl\":[{\"type\":\"scattergl\",\"marker\":{\"colorbar\":{\"outlinewidth\":0,\"ticks\":\"\"}}}],\"scatter3d\":[{\"type\":\"scatter3d\",\"line\":{\"colorbar\":{\"outlinewidth\":0,\"ticks\":\"\"}},\"marker\":{\"colorbar\":{\"outlinewidth\":0,\"ticks\":\"\"}}}],\"scattermapbox\":[{\"type\":\"scattermapbox\",\"marker\":{\"colorbar\":{\"outlinewidth\":0,\"ticks\":\"\"}}}],\"scatterternary\":[{\"type\":\"scatterternary\",\"marker\":{\"colorbar\":{\"outlinewidth\":0,\"ticks\":\"\"}}}],\"scattercarpet\":[{\"type\":\"scattercarpet\",\"marker\":{\"colorbar\":{\"outlinewidth\":0,\"ticks\":\"\"}}}],\"carpet\":[{\"aaxis\":{\"endlinecolor\":\"#2a3f5f\",\"gridcolor\":\"white\",\"linecolor\":\"white\",\"minorgridcolor\":\"white\",\"startlinecolor\":\"#2a3f5f\"},\"baxis\":{\"endlinecolor\":\"#2a3f5f\",\"gridcolor\":\"white\",\"linecolor\":\"white\",\"minorgridcolor\":\"white\",\"startlinecolor\":\"#2a3f5f\"},\"type\":\"carpet\"}],\"table\":[{\"cells\":{\"fill\":{\"color\":\"#EBF0F8\"},\"line\":{\"color\":\"white\"}},\"header\":{\"fill\":{\"color\":\"#C8D4E3\"},\"line\":{\"color\":\"white\"}},\"type\":\"table\"}],\"barpolar\":[{\"marker\":{\"line\":{\"color\":\"#E5ECF6\",\"width\":0.5},\"pattern\":{\"fillmode\":\"overlay\",\"size\":10,\"solidity\":0.2}},\"type\":\"barpolar\"}],\"pie\":[{\"automargin\":true,\"type\":\"pie\"}]},\"layout\":{\"autotypenumbers\":\"strict\",\"colorway\":[\"#636efa\",\"#EF553B\",\"#00cc96\",\"#ab63fa\",\"#FFA15A\",\"#19d3f3\",\"#FF6692\",\"#B6E880\",\"#FF97FF\",\"#FECB52\"],\"font\":{\"color\":\"#2a3f5f\"},\"hovermode\":\"closest\",\"hoverlabel\":{\"align\":\"left\"},\"paper_bgcolor\":\"white\",\"plot_bgcolor\":\"#E5ECF6\",\"polar\":{\"bgcolor\":\"#E5ECF6\",\"angularaxis\":{\"gridcolor\":\"white\",\"linecolor\":\"white\",\"ticks\":\"\"},\"radialaxis\":{\"gridcolor\":\"white\",\"linecolor\":\"white\",\"ticks\":\"\"}},\"ternary\":{\"bgcolor\":\"#E5ECF6\",\"aaxis\":{\"gridcolor\":\"white\",\"linecolor\":\"white\",\"ticks\":\"\"},\"baxis\":{\"gridcolor\":\"white\",\"linecolor\":\"white\",\"ticks\":\"\"},\"caxis\":{\"gridcolor\":\"white\",\"linecolor\":\"white\",\"ticks\":\"\"}},\"coloraxis\":{\"colorbar\":{\"outlinewidth\":0,\"ticks\":\"\"}},\"colorscale\":{\"sequential\":[[0.0,\"#0d0887\"],[0.1111111111111111,\"#46039f\"],[0.2222222222222222,\"#7201a8\"],[0.3333333333333333,\"#9c179e\"],[0.4444444444444444,\"#bd3786\"],[0.5555555555555556,\"#d8576b\"],[0.6666666666666666,\"#ed7953\"],[0.7777777777777778,\"#fb9f3a\"],[0.8888888888888888,\"#fdca26\"],[1.0,\"#f0f921\"]],\"sequentialminus\":[[0.0,\"#0d0887\"],[0.1111111111111111,\"#46039f\"],[0.2222222222222222,\"#7201a8\"],[0.3333333333333333,\"#9c179e\"],[0.4444444444444444,\"#bd3786\"],[0.5555555555555556,\"#d8576b\"],[0.6666666666666666,\"#ed7953\"],[0.7777777777777778,\"#fb9f3a\"],[0.8888888888888888,\"#fdca26\"],[1.0,\"#f0f921\"]],\"diverging\":[[0,\"#8e0152\"],[0.1,\"#c51b7d\"],[0.2,\"#de77ae\"],[0.3,\"#f1b6da\"],[0.4,\"#fde0ef\"],[0.5,\"#f7f7f7\"],[0.6,\"#e6f5d0\"],[0.7,\"#b8e186\"],[0.8,\"#7fbc41\"],[0.9,\"#4d9221\"],[1,\"#276419\"]]},\"xaxis\":{\"gridcolor\":\"white\",\"linecolor\":\"white\",\"ticks\":\"\",\"title\":{\"standoff\":15},\"zerolinecolor\":\"white\",\"automargin\":true,\"zerolinewidth\":2},\"yaxis\":{\"gridcolor\":\"white\",\"linecolor\":\"white\",\"ticks\":\"\",\"title\":{\"standoff\":15},\"zerolinecolor\":\"white\",\"automargin\":true,\"zerolinewidth\":2},\"scene\":{\"xaxis\":{\"backgroundcolor\":\"#E5ECF6\",\"gridcolor\":\"white\",\"linecolor\":\"white\",\"showbackground\":true,\"ticks\":\"\",\"zerolinecolor\":\"white\",\"gridwidth\":2},\"yaxis\":{\"backgroundcolor\":\"#E5ECF6\",\"gridcolor\":\"white\",\"linecolor\":\"white\",\"showbackground\":true,\"ticks\":\"\",\"zerolinecolor\":\"white\",\"gridwidth\":2},\"zaxis\":{\"backgroundcolor\":\"#E5ECF6\",\"gridcolor\":\"white\",\"linecolor\":\"white\",\"showbackground\":true,\"ticks\":\"\",\"zerolinecolor\":\"white\",\"gridwidth\":2}},\"shapedefaults\":{\"line\":{\"color\":\"#2a3f5f\"}},\"annotationdefaults\":{\"arrowcolor\":\"#2a3f5f\",\"arrowhead\":0,\"arrowwidth\":1},\"geo\":{\"bgcolor\":\"white\",\"landcolor\":\"#E5ECF6\",\"subunitcolor\":\"white\",\"showland\":true,\"showlakes\":true,\"lakecolor\":\"white\"},\"title\":{\"x\":0.05},\"mapbox\":{\"style\":\"light\"}}},\"title\":{\"font\":{\"size\":16},\"text\":\"Item: HAWKEYE VODKA\"},\"legend\":{\"font\":{\"size\":12},\"x\":0,\"y\":1.0},\"height\":400},                        {\"responsive\": true}                    ).then(function(){\n",
       "                            \n",
       "var gd = document.getElementById('fe42dd93-7a03-4931-9ed5-ab575b2b1b4a');\n",
       "var x = new MutationObserver(function (mutations, observer) {{\n",
       "        var display = window.getComputedStyle(gd).display;\n",
       "        if (!display || display === 'none') {{\n",
       "            console.log([gd, 'removed!']);\n",
       "            Plotly.purge(gd);\n",
       "            observer.disconnect();\n",
       "        }}\n",
       "}});\n",
       "\n",
       "// Listen for the removal of the full notebook cells\n",
       "var notebookContainer = gd.closest('#notebook-container');\n",
       "if (notebookContainer) {{\n",
       "    x.observe(notebookContainer, {childList: true});\n",
       "}}\n",
       "\n",
       "// Listen for the clearing of the current output cell\n",
       "var outputEl = gd.closest('.output');\n",
       "if (outputEl) {{\n",
       "    x.observe(outputEl, {childList: true});\n",
       "}}\n",
       "\n",
       "                        })                };                });            </script>        </div>"
      ]
     },
     "metadata": {},
     "output_type": "display_data"
    }
   ],
   "source": [
    "preds_dict  = multi_evaluate_predictions(client, items_list[:4], confidence_level=0.9, horizon=30)\n",
    "\n",
    "for item_name, preds_info in preds_dict.items():\n",
    "    actual_df = preds_info[\"train_df\"].sort_values(\"date\")\n",
    "    predictions_df = preds_info[\"eval_df\"].sort_values(\"date\")\n",
    "\n",
    "    plot_historical_and_forecast(\n",
    "        input_timeseries=actual_df,\n",
    "        timestamp_col_name=\"date\",\n",
    "        data_col_name=\"total_amount_sold\",\n",
    "        forecast_output=predictions_df,\n",
    "        actual=predictions_df,\n",
    "        title=f\"Item: {item_name}\",\n",
    "        plotstartdate=(pd.to_datetime(END_DATE) - pd.DateOffset(months=2)).strftime(\"%Y-%m-%d\"),\n",
    "        prop={'size': 12},\n",
    "        engine=\"plotly\",\n",
    "    )"
   ]
  },
  {
   "cell_type": "code",
   "execution_count": 166,
   "id": "04f2c2c1-c056-4d2a-a0c1-74c205ce0468",
   "metadata": {
    "execution": {
     "iopub.execute_input": "2024-08-07T19:26:24.715662Z",
     "iopub.status.busy": "2024-08-07T19:26:24.715275Z",
     "iopub.status.idle": "2024-08-07T19:26:29.397676Z",
     "shell.execute_reply": "2024-08-07T19:26:29.396799Z",
     "shell.execute_reply.started": "2024-08-07T19:26:24.715634Z"
    }
   },
   "outputs": [
    {
     "name": "stderr",
     "output_type": "stream",
     "text": [
      "I0000 00:00:1723058786.086481  512714 check_gcp_environment_no_op.cc:29] ALTS: Platforms other than Linux and Windows are not supported\n"
     ]
    },
    {
     "data": {
      "text/html": [
       "<div>\n",
       "<style scoped>\n",
       "    .dataframe tbody tr th:only-of-type {\n",
       "        vertical-align: middle;\n",
       "    }\n",
       "\n",
       "    .dataframe tbody tr th {\n",
       "        vertical-align: top;\n",
       "    }\n",
       "\n",
       "    .dataframe thead th {\n",
       "        text-align: right;\n",
       "    }\n",
       "</style>\n",
       "<table border=\"1\" class=\"dataframe\">\n",
       "  <thead>\n",
       "    <tr style=\"text-align: right;\">\n",
       "      <th></th>\n",
       "      <th>time_series_timestamp</th>\n",
       "      <th>time_series_type</th>\n",
       "      <th>time_series_data</th>\n",
       "      <th>time_series_adjusted_data</th>\n",
       "      <th>standard_error</th>\n",
       "      <th>confidence_level</th>\n",
       "      <th>prediction_interval_lower_bound</th>\n",
       "      <th>prediction_interval_upper_bound</th>\n",
       "      <th>trend</th>\n",
       "      <th>seasonal_period_yearly</th>\n",
       "      <th>seasonal_period_quarterly</th>\n",
       "      <th>seasonal_period_monthly</th>\n",
       "      <th>seasonal_period_weekly</th>\n",
       "      <th>seasonal_period_daily</th>\n",
       "      <th>holiday_effect</th>\n",
       "      <th>spikes_and_dips</th>\n",
       "      <th>step_changes</th>\n",
       "      <th>residual</th>\n",
       "      <th>holiday_effect_EasterMonday</th>\n",
       "      <th>holiday_effect_Halloween</th>\n",
       "      <th>holiday_effect_MardiGras</th>\n",
       "      <th>holiday_effect_StPatrickDay</th>\n",
       "      <th>holiday_effect_US_ColumbusDay</th>\n",
       "      <th>holiday_effect_US_ElectionDay</th>\n",
       "      <th>holiday_effect_US_IndependenceDay</th>\n",
       "      <th>holiday_effect_US_Juneteenth</th>\n",
       "      <th>holiday_effect_US_LaborDay</th>\n",
       "      <th>holiday_effect_US_MemorialDay</th>\n",
       "      <th>holiday_effect_US_MLKDay</th>\n",
       "      <th>holiday_effect_US_PresidentDay</th>\n",
       "      <th>holiday_effect_US_Superbowl</th>\n",
       "      <th>holiday_effect_VeteranDay</th>\n",
       "      <th>holiday_effect_Christmas</th>\n",
       "      <th>holiday_effect_MothersDay</th>\n",
       "      <th>holiday_effect_NewYear</th>\n",
       "      <th>holiday_effect_US_DaylightSavingEnd</th>\n",
       "      <th>holiday_effect_US_DaylightSavingStart</th>\n",
       "      <th>holiday_effect_US_Thanksgiving</th>\n",
       "      <th>holiday_effect_Valentine</th>\n",
       "      <th>attribution_item_name</th>\n",
       "      <th>attribution_avg_bottle_price</th>\n",
       "      <th>attribution_total_volume_sold_liters</th>\n",
       "      <th>attribution_avg_bottle_cost</th>\n",
       "      <th>attribution_day_of_week</th>\n",
       "      <th>attribution_week_of_year</th>\n",
       "      <th>attribution_month</th>\n",
       "      <th>attribution_year</th>\n",
       "      <th>attribution_ma3_total_amount_sold</th>\n",
       "      <th>attribution_ma3_avg_bottle_price</th>\n",
       "      <th>attribution_ma7_total_amount_sold</th>\n",
       "      <th>attribution_ma7_avg_bottle_price</th>\n",
       "      <th>attribution_ma30_total_amount_sold</th>\n",
       "      <th>attribution_ma30_avg_bottle_price</th>\n",
       "      <th>attribution_temperature</th>\n",
       "      <th>attribution_rainfall</th>\n",
       "      <th>attribution_snowfall</th>\n",
       "      <th>attribution_lag_1_total_amount_sold</th>\n",
       "      <th>attribution_lag_7_total_amount_sold</th>\n",
       "      <th>attribution___INTERCEPT__</th>\n",
       "      <th>item_name</th>\n",
       "    </tr>\n",
       "  </thead>\n",
       "  <tbody>\n",
       "    <tr>\n",
       "      <th>0</th>\n",
       "      <td>2021-07-26 00:00:00+00:00</td>\n",
       "      <td>history</td>\n",
       "      <td>7926.000</td>\n",
       "      <td>7926.000</td>\n",
       "      <td>985.679</td>\n",
       "      <td>NaN</td>\n",
       "      <td>NaN</td>\n",
       "      <td>NaN</td>\n",
       "      <td>0.000</td>\n",
       "      <td>-902.498</td>\n",
       "      <td>NaN</td>\n",
       "      <td>NaN</td>\n",
       "      <td>74.696</td>\n",
       "      <td>NaN</td>\n",
       "      <td>0.000</td>\n",
       "      <td>NaN</td>\n",
       "      <td>NaN</td>\n",
       "      <td>128219.521</td>\n",
       "      <td>0.000</td>\n",
       "      <td>0.000</td>\n",
       "      <td>0.000</td>\n",
       "      <td>0.000</td>\n",
       "      <td>0.000</td>\n",
       "      <td>0.000</td>\n",
       "      <td>0.000</td>\n",
       "      <td>0.000</td>\n",
       "      <td>0.000</td>\n",
       "      <td>0.000</td>\n",
       "      <td>0.000</td>\n",
       "      <td>0.000</td>\n",
       "      <td>0.000</td>\n",
       "      <td>0.000</td>\n",
       "      <td>0.000</td>\n",
       "      <td>0.000</td>\n",
       "      <td>0.000</td>\n",
       "      <td>0.000</td>\n",
       "      <td>0.000</td>\n",
       "      <td>0.000</td>\n",
       "      <td>0.000</td>\n",
       "      <td>0.000</td>\n",
       "      <td>5362.799</td>\n",
       "      <td>4355.729</td>\n",
       "      <td>-7729.337</td>\n",
       "      <td>279.216</td>\n",
       "      <td>-329.566</td>\n",
       "      <td>-5833.288</td>\n",
       "      <td>-20981805.066</td>\n",
       "      <td>5273.932</td>\n",
       "      <td>-1600.395</td>\n",
       "      <td>1499.453</td>\n",
       "      <td>1773.509</td>\n",
       "      <td>-1526.533</td>\n",
       "      <td>1014.958</td>\n",
       "      <td>262.241</td>\n",
       "      <td>-60.957</td>\n",
       "      <td>0.000</td>\n",
       "      <td>-2201.298</td>\n",
       "      <td>-91.850</td>\n",
       "      <td>20861890.734</td>\n",
       "      <td>FIREBALL CINNAMON WHISKEY</td>\n",
       "    </tr>\n",
       "    <tr>\n",
       "      <th>1</th>\n",
       "      <td>2021-07-27 00:00:00+00:00</td>\n",
       "      <td>history</td>\n",
       "      <td>11604.000</td>\n",
       "      <td>12249.551</td>\n",
       "      <td>985.679</td>\n",
       "      <td>NaN</td>\n",
       "      <td>NaN</td>\n",
       "      <td>NaN</td>\n",
       "      <td>128248.692</td>\n",
       "      <td>-695.039</td>\n",
       "      <td>NaN</td>\n",
       "      <td>NaN</td>\n",
       "      <td>1130.011</td>\n",
       "      <td>NaN</td>\n",
       "      <td>0.000</td>\n",
       "      <td>NaN</td>\n",
       "      <td>NaN</td>\n",
       "      <td>-645.551</td>\n",
       "      <td>0.000</td>\n",
       "      <td>0.000</td>\n",
       "      <td>0.000</td>\n",
       "      <td>0.000</td>\n",
       "      <td>0.000</td>\n",
       "      <td>0.000</td>\n",
       "      <td>0.000</td>\n",
       "      <td>0.000</td>\n",
       "      <td>0.000</td>\n",
       "      <td>0.000</td>\n",
       "      <td>0.000</td>\n",
       "      <td>0.000</td>\n",
       "      <td>0.000</td>\n",
       "      <td>0.000</td>\n",
       "      <td>0.000</td>\n",
       "      <td>0.000</td>\n",
       "      <td>0.000</td>\n",
       "      <td>0.000</td>\n",
       "      <td>0.000</td>\n",
       "      <td>0.000</td>\n",
       "      <td>0.000</td>\n",
       "      <td>0.000</td>\n",
       "      <td>6227.156</td>\n",
       "      <td>6148.600</td>\n",
       "      <td>-8985.696</td>\n",
       "      <td>418.824</td>\n",
       "      <td>-329.566</td>\n",
       "      <td>-5833.288</td>\n",
       "      <td>-20981805.066</td>\n",
       "      <td>5543.486</td>\n",
       "      <td>-1665.110</td>\n",
       "      <td>1804.152</td>\n",
       "      <td>1960.418</td>\n",
       "      <td>-1527.741</td>\n",
       "      <td>1014.958</td>\n",
       "      <td>263.118</td>\n",
       "      <td>-73.411</td>\n",
       "      <td>0.000</td>\n",
       "      <td>-1484.893</td>\n",
       "      <td>-0.788</td>\n",
       "      <td>20861890.734</td>\n",
       "      <td>FIREBALL CINNAMON WHISKEY</td>\n",
       "    </tr>\n",
       "    <tr>\n",
       "      <th>2</th>\n",
       "      <td>2021-07-28 00:00:00+00:00</td>\n",
       "      <td>history</td>\n",
       "      <td>9014.000</td>\n",
       "      <td>8133.156</td>\n",
       "      <td>985.679</td>\n",
       "      <td>NaN</td>\n",
       "      <td>NaN</td>\n",
       "      <td>NaN</td>\n",
       "      <td>127792.979</td>\n",
       "      <td>-161.869</td>\n",
       "      <td>NaN</td>\n",
       "      <td>NaN</td>\n",
       "      <td>-743.573</td>\n",
       "      <td>NaN</td>\n",
       "      <td>0.000</td>\n",
       "      <td>NaN</td>\n",
       "      <td>NaN</td>\n",
       "      <td>880.844</td>\n",
       "      <td>0.000</td>\n",
       "      <td>0.000</td>\n",
       "      <td>0.000</td>\n",
       "      <td>0.000</td>\n",
       "      <td>0.000</td>\n",
       "      <td>0.000</td>\n",
       "      <td>0.000</td>\n",
       "      <td>0.000</td>\n",
       "      <td>0.000</td>\n",
       "      <td>0.000</td>\n",
       "      <td>0.000</td>\n",
       "      <td>0.000</td>\n",
       "      <td>0.000</td>\n",
       "      <td>0.000</td>\n",
       "      <td>0.000</td>\n",
       "      <td>0.000</td>\n",
       "      <td>0.000</td>\n",
       "      <td>0.000</td>\n",
       "      <td>0.000</td>\n",
       "      <td>0.000</td>\n",
       "      <td>0.000</td>\n",
       "      <td>0.000</td>\n",
       "      <td>5653.021</td>\n",
       "      <td>4557.189</td>\n",
       "      <td>-8152.675</td>\n",
       "      <td>558.432</td>\n",
       "      <td>-329.566</td>\n",
       "      <td>-5833.288</td>\n",
       "      <td>-20981805.066</td>\n",
       "      <td>5058.608</td>\n",
       "      <td>-1593.398</td>\n",
       "      <td>1859.700</td>\n",
       "      <td>1956.170</td>\n",
       "      <td>-1510.969</td>\n",
       "      <td>1016.034</td>\n",
       "      <td>267.571</td>\n",
       "      <td>-116.180</td>\n",
       "      <td>0.000</td>\n",
       "      <td>-2173.946</td>\n",
       "      <td>-56.753</td>\n",
       "      <td>20861890.734</td>\n",
       "      <td>FIREBALL CINNAMON WHISKEY</td>\n",
       "    </tr>\n",
       "    <tr>\n",
       "      <th>3</th>\n",
       "      <td>2021-07-29 00:00:00+00:00</td>\n",
       "      <td>history</td>\n",
       "      <td>9223.000</td>\n",
       "      <td>10558.416</td>\n",
       "      <td>985.679</td>\n",
       "      <td>NaN</td>\n",
       "      <td>NaN</td>\n",
       "      <td>NaN</td>\n",
       "      <td>128703.571</td>\n",
       "      <td>-946.887</td>\n",
       "      <td>NaN</td>\n",
       "      <td>NaN</td>\n",
       "      <td>-831.460</td>\n",
       "      <td>NaN</td>\n",
       "      <td>0.000</td>\n",
       "      <td>NaN</td>\n",
       "      <td>NaN</td>\n",
       "      <td>-1335.416</td>\n",
       "      <td>0.000</td>\n",
       "      <td>0.000</td>\n",
       "      <td>0.000</td>\n",
       "      <td>0.000</td>\n",
       "      <td>0.000</td>\n",
       "      <td>0.000</td>\n",
       "      <td>0.000</td>\n",
       "      <td>0.000</td>\n",
       "      <td>0.000</td>\n",
       "      <td>0.000</td>\n",
       "      <td>0.000</td>\n",
       "      <td>0.000</td>\n",
       "      <td>0.000</td>\n",
       "      <td>0.000</td>\n",
       "      <td>0.000</td>\n",
       "      <td>0.000</td>\n",
       "      <td>0.000</td>\n",
       "      <td>0.000</td>\n",
       "      <td>0.000</td>\n",
       "      <td>0.000</td>\n",
       "      <td>0.000</td>\n",
       "      <td>0.000</td>\n",
       "      <td>6353.340</td>\n",
       "      <td>6516.357</td>\n",
       "      <td>-9163.225</td>\n",
       "      <td>698.040</td>\n",
       "      <td>-329.566</td>\n",
       "      <td>-5833.288</td>\n",
       "      <td>-20981805.066</td>\n",
       "      <td>5288.463</td>\n",
       "      <td>-1684.350</td>\n",
       "      <td>1828.061</td>\n",
       "      <td>2000.773</td>\n",
       "      <td>-1520.200</td>\n",
       "      <td>1017.111</td>\n",
       "      <td>266.239</td>\n",
       "      <td>-116.016</td>\n",
       "      <td>0.000</td>\n",
       "      <td>-1688.724</td>\n",
       "      <td>-85.491</td>\n",
       "      <td>20861890.734</td>\n",
       "      <td>FIREBALL CINNAMON WHISKEY</td>\n",
       "    </tr>\n",
       "    <tr>\n",
       "      <th>4</th>\n",
       "      <td>2021-07-30 00:00:00+00:00</td>\n",
       "      <td>history</td>\n",
       "      <td>13095.000</td>\n",
       "      <td>11792.058</td>\n",
       "      <td>985.679</td>\n",
       "      <td>NaN</td>\n",
       "      <td>NaN</td>\n",
       "      <td>NaN</td>\n",
       "      <td>127420.748</td>\n",
       "      <td>-566.581</td>\n",
       "      <td>NaN</td>\n",
       "      <td>NaN</td>\n",
       "      <td>245.619</td>\n",
       "      <td>NaN</td>\n",
       "      <td>0.000</td>\n",
       "      <td>NaN</td>\n",
       "      <td>NaN</td>\n",
       "      <td>1302.942</td>\n",
       "      <td>0.000</td>\n",
       "      <td>0.000</td>\n",
       "      <td>0.000</td>\n",
       "      <td>0.000</td>\n",
       "      <td>0.000</td>\n",
       "      <td>0.000</td>\n",
       "      <td>0.000</td>\n",
       "      <td>0.000</td>\n",
       "      <td>0.000</td>\n",
       "      <td>0.000</td>\n",
       "      <td>0.000</td>\n",
       "      <td>0.000</td>\n",
       "      <td>0.000</td>\n",
       "      <td>0.000</td>\n",
       "      <td>0.000</td>\n",
       "      <td>0.000</td>\n",
       "      <td>0.000</td>\n",
       "      <td>0.000</td>\n",
       "      <td>0.000</td>\n",
       "      <td>0.000</td>\n",
       "      <td>0.000</td>\n",
       "      <td>0.000</td>\n",
       "      <td>5627.785</td>\n",
       "      <td>6835.439</td>\n",
       "      <td>-8125.363</td>\n",
       "      <td>837.648</td>\n",
       "      <td>-329.566</td>\n",
       "      <td>-5833.288</td>\n",
       "      <td>-20981805.066</td>\n",
       "      <td>5552.700</td>\n",
       "      <td>-1630.129</td>\n",
       "      <td>1924.754</td>\n",
       "      <td>1981.657</td>\n",
       "      <td>-1544.984</td>\n",
       "      <td>1016.034</td>\n",
       "      <td>258.069</td>\n",
       "      <td>-158.784</td>\n",
       "      <td>0.000</td>\n",
       "      <td>-1727.879</td>\n",
       "      <td>-77.490</td>\n",
       "      <td>20861890.734</td>\n",
       "      <td>FIREBALL CINNAMON WHISKEY</td>\n",
       "    </tr>\n",
       "    <tr>\n",
       "      <th>...</th>\n",
       "      <td>...</td>\n",
       "      <td>...</td>\n",
       "      <td>...</td>\n",
       "      <td>...</td>\n",
       "      <td>...</td>\n",
       "      <td>...</td>\n",
       "      <td>...</td>\n",
       "      <td>...</td>\n",
       "      <td>...</td>\n",
       "      <td>...</td>\n",
       "      <td>...</td>\n",
       "      <td>...</td>\n",
       "      <td>...</td>\n",
       "      <td>...</td>\n",
       "      <td>...</td>\n",
       "      <td>...</td>\n",
       "      <td>...</td>\n",
       "      <td>...</td>\n",
       "      <td>...</td>\n",
       "      <td>...</td>\n",
       "      <td>...</td>\n",
       "      <td>...</td>\n",
       "      <td>...</td>\n",
       "      <td>...</td>\n",
       "      <td>...</td>\n",
       "      <td>...</td>\n",
       "      <td>...</td>\n",
       "      <td>...</td>\n",
       "      <td>...</td>\n",
       "      <td>...</td>\n",
       "      <td>...</td>\n",
       "      <td>...</td>\n",
       "      <td>...</td>\n",
       "      <td>...</td>\n",
       "      <td>...</td>\n",
       "      <td>...</td>\n",
       "      <td>...</td>\n",
       "      <td>...</td>\n",
       "      <td>...</td>\n",
       "      <td>...</td>\n",
       "      <td>...</td>\n",
       "      <td>...</td>\n",
       "      <td>...</td>\n",
       "      <td>...</td>\n",
       "      <td>...</td>\n",
       "      <td>...</td>\n",
       "      <td>...</td>\n",
       "      <td>...</td>\n",
       "      <td>...</td>\n",
       "      <td>...</td>\n",
       "      <td>...</td>\n",
       "      <td>...</td>\n",
       "      <td>...</td>\n",
       "      <td>...</td>\n",
       "      <td>...</td>\n",
       "      <td>...</td>\n",
       "      <td>...</td>\n",
       "      <td>...</td>\n",
       "      <td>...</td>\n",
       "      <td>...</td>\n",
       "    </tr>\n",
       "    <tr>\n",
       "      <th>1097</th>\n",
       "      <td>2024-07-27 00:00:00+00:00</td>\n",
       "      <td>forecast</td>\n",
       "      <td>25961.965</td>\n",
       "      <td>25961.965</td>\n",
       "      <td>1045.640</td>\n",
       "      <td>0.800</td>\n",
       "      <td>24621.155</td>\n",
       "      <td>27302.776</td>\n",
       "      <td>158953.010</td>\n",
       "      <td>-676.623</td>\n",
       "      <td>NaN</td>\n",
       "      <td>NaN</td>\n",
       "      <td>-43.760</td>\n",
       "      <td>NaN</td>\n",
       "      <td>0.000</td>\n",
       "      <td>NaN</td>\n",
       "      <td>NaN</td>\n",
       "      <td>NaN</td>\n",
       "      <td>0.000</td>\n",
       "      <td>0.000</td>\n",
       "      <td>0.000</td>\n",
       "      <td>0.000</td>\n",
       "      <td>0.000</td>\n",
       "      <td>0.000</td>\n",
       "      <td>0.000</td>\n",
       "      <td>0.000</td>\n",
       "      <td>0.000</td>\n",
       "      <td>0.000</td>\n",
       "      <td>0.000</td>\n",
       "      <td>0.000</td>\n",
       "      <td>0.000</td>\n",
       "      <td>0.000</td>\n",
       "      <td>0.000</td>\n",
       "      <td>0.000</td>\n",
       "      <td>0.000</td>\n",
       "      <td>0.000</td>\n",
       "      <td>0.000</td>\n",
       "      <td>0.000</td>\n",
       "      <td>0.000</td>\n",
       "      <td>0.000</td>\n",
       "      <td>5469.663</td>\n",
       "      <td>6697.474</td>\n",
       "      <td>-7891.418</td>\n",
       "      <td>536.262</td>\n",
       "      <td>-289.771</td>\n",
       "      <td>-5442.036</td>\n",
       "      <td>-20998315.740</td>\n",
       "      <td>5644.723</td>\n",
       "      <td>-1516.691</td>\n",
       "      <td>1967.700</td>\n",
       "      <td>1842.366</td>\n",
       "      <td>-1804.775</td>\n",
       "      <td>935.687</td>\n",
       "      <td>185.055</td>\n",
       "      <td>-129.964</td>\n",
       "      <td>26.707</td>\n",
       "      <td>-1989.526</td>\n",
       "      <td>-87.111</td>\n",
       "      <td>20861890.734</td>\n",
       "      <td>FIREBALL CINNAMON WHISKEY</td>\n",
       "    </tr>\n",
       "    <tr>\n",
       "      <th>1098</th>\n",
       "      <td>2024-07-28 00:00:00+00:00</td>\n",
       "      <td>forecast</td>\n",
       "      <td>24234.674</td>\n",
       "      <td>24234.674</td>\n",
       "      <td>1192.517</td>\n",
       "      <td>0.800</td>\n",
       "      <td>22705.524</td>\n",
       "      <td>25763.823</td>\n",
       "      <td>158064.675</td>\n",
       "      <td>-578.009</td>\n",
       "      <td>NaN</td>\n",
       "      <td>NaN</td>\n",
       "      <td>-981.330</td>\n",
       "      <td>NaN</td>\n",
       "      <td>0.000</td>\n",
       "      <td>NaN</td>\n",
       "      <td>NaN</td>\n",
       "      <td>NaN</td>\n",
       "      <td>0.000</td>\n",
       "      <td>0.000</td>\n",
       "      <td>0.000</td>\n",
       "      <td>0.000</td>\n",
       "      <td>0.000</td>\n",
       "      <td>0.000</td>\n",
       "      <td>0.000</td>\n",
       "      <td>0.000</td>\n",
       "      <td>0.000</td>\n",
       "      <td>0.000</td>\n",
       "      <td>0.000</td>\n",
       "      <td>0.000</td>\n",
       "      <td>0.000</td>\n",
       "      <td>0.000</td>\n",
       "      <td>0.000</td>\n",
       "      <td>0.000</td>\n",
       "      <td>0.000</td>\n",
       "      <td>0.000</td>\n",
       "      <td>0.000</td>\n",
       "      <td>0.000</td>\n",
       "      <td>0.000</td>\n",
       "      <td>0.000</td>\n",
       "      <td>5469.663</td>\n",
       "      <td>6697.474</td>\n",
       "      <td>-7891.418</td>\n",
       "      <td>536.262</td>\n",
       "      <td>-289.771</td>\n",
       "      <td>-5442.036</td>\n",
       "      <td>-20998315.740</td>\n",
       "      <td>5644.723</td>\n",
       "      <td>-1516.691</td>\n",
       "      <td>1967.700</td>\n",
       "      <td>1842.366</td>\n",
       "      <td>-1804.775</td>\n",
       "      <td>935.687</td>\n",
       "      <td>185.055</td>\n",
       "      <td>-129.964</td>\n",
       "      <td>26.707</td>\n",
       "      <td>-1989.526</td>\n",
       "      <td>-87.111</td>\n",
       "      <td>20861890.734</td>\n",
       "      <td>FIREBALL CINNAMON WHISKEY</td>\n",
       "    </tr>\n",
       "    <tr>\n",
       "      <th>1099</th>\n",
       "      <td>2024-07-29 00:00:00+00:00</td>\n",
       "      <td>forecast</td>\n",
       "      <td>26730.017</td>\n",
       "      <td>26730.017</td>\n",
       "      <td>1432.821</td>\n",
       "      <td>0.800</td>\n",
       "      <td>24892.729</td>\n",
       "      <td>28567.304</td>\n",
       "      <td>158583.536</td>\n",
       "      <td>-1001.818</td>\n",
       "      <td>NaN</td>\n",
       "      <td>NaN</td>\n",
       "      <td>1418.961</td>\n",
       "      <td>NaN</td>\n",
       "      <td>0.000</td>\n",
       "      <td>NaN</td>\n",
       "      <td>NaN</td>\n",
       "      <td>NaN</td>\n",
       "      <td>0.000</td>\n",
       "      <td>0.000</td>\n",
       "      <td>0.000</td>\n",
       "      <td>0.000</td>\n",
       "      <td>0.000</td>\n",
       "      <td>0.000</td>\n",
       "      <td>0.000</td>\n",
       "      <td>0.000</td>\n",
       "      <td>0.000</td>\n",
       "      <td>0.000</td>\n",
       "      <td>0.000</td>\n",
       "      <td>0.000</td>\n",
       "      <td>0.000</td>\n",
       "      <td>0.000</td>\n",
       "      <td>0.000</td>\n",
       "      <td>0.000</td>\n",
       "      <td>0.000</td>\n",
       "      <td>0.000</td>\n",
       "      <td>0.000</td>\n",
       "      <td>0.000</td>\n",
       "      <td>0.000</td>\n",
       "      <td>0.000</td>\n",
       "      <td>5469.663</td>\n",
       "      <td>6697.474</td>\n",
       "      <td>-7891.418</td>\n",
       "      <td>536.262</td>\n",
       "      <td>-289.771</td>\n",
       "      <td>-5442.036</td>\n",
       "      <td>-20998315.740</td>\n",
       "      <td>5644.723</td>\n",
       "      <td>-1516.691</td>\n",
       "      <td>1967.700</td>\n",
       "      <td>1842.366</td>\n",
       "      <td>-1804.775</td>\n",
       "      <td>935.687</td>\n",
       "      <td>185.055</td>\n",
       "      <td>-129.964</td>\n",
       "      <td>26.707</td>\n",
       "      <td>-1989.526</td>\n",
       "      <td>-87.111</td>\n",
       "      <td>20861890.734</td>\n",
       "      <td>FIREBALL CINNAMON WHISKEY</td>\n",
       "    </tr>\n",
       "    <tr>\n",
       "      <th>1100</th>\n",
       "      <td>2024-07-30 00:00:00+00:00</td>\n",
       "      <td>forecast</td>\n",
       "      <td>27922.099</td>\n",
       "      <td>27922.099</td>\n",
       "      <td>1433.034</td>\n",
       "      <td>0.800</td>\n",
       "      <td>26084.540</td>\n",
       "      <td>29759.659</td>\n",
       "      <td>158612.799</td>\n",
       "      <td>-966.147</td>\n",
       "      <td>NaN</td>\n",
       "      <td>NaN</td>\n",
       "      <td>2546.109</td>\n",
       "      <td>NaN</td>\n",
       "      <td>0.000</td>\n",
       "      <td>NaN</td>\n",
       "      <td>NaN</td>\n",
       "      <td>NaN</td>\n",
       "      <td>0.000</td>\n",
       "      <td>0.000</td>\n",
       "      <td>0.000</td>\n",
       "      <td>0.000</td>\n",
       "      <td>0.000</td>\n",
       "      <td>0.000</td>\n",
       "      <td>0.000</td>\n",
       "      <td>0.000</td>\n",
       "      <td>0.000</td>\n",
       "      <td>0.000</td>\n",
       "      <td>0.000</td>\n",
       "      <td>0.000</td>\n",
       "      <td>0.000</td>\n",
       "      <td>0.000</td>\n",
       "      <td>0.000</td>\n",
       "      <td>0.000</td>\n",
       "      <td>0.000</td>\n",
       "      <td>0.000</td>\n",
       "      <td>0.000</td>\n",
       "      <td>0.000</td>\n",
       "      <td>0.000</td>\n",
       "      <td>0.000</td>\n",
       "      <td>5469.663</td>\n",
       "      <td>6697.474</td>\n",
       "      <td>-7891.418</td>\n",
       "      <td>536.262</td>\n",
       "      <td>-289.771</td>\n",
       "      <td>-5442.036</td>\n",
       "      <td>-20998315.740</td>\n",
       "      <td>5644.723</td>\n",
       "      <td>-1516.691</td>\n",
       "      <td>1967.700</td>\n",
       "      <td>1842.366</td>\n",
       "      <td>-1804.775</td>\n",
       "      <td>935.687</td>\n",
       "      <td>185.055</td>\n",
       "      <td>-129.964</td>\n",
       "      <td>26.707</td>\n",
       "      <td>-1989.526</td>\n",
       "      <td>-87.111</td>\n",
       "      <td>20861890.734</td>\n",
       "      <td>FIREBALL CINNAMON WHISKEY</td>\n",
       "    </tr>\n",
       "    <tr>\n",
       "      <th>1101</th>\n",
       "      <td>2024-07-31 00:00:00+00:00</td>\n",
       "      <td>forecast</td>\n",
       "      <td>23923.471</td>\n",
       "      <td>23923.471</td>\n",
       "      <td>1433.246</td>\n",
       "      <td>0.800</td>\n",
       "      <td>22085.639</td>\n",
       "      <td>25761.303</td>\n",
       "      <td>158642.062</td>\n",
       "      <td>-1300.768</td>\n",
       "      <td>NaN</td>\n",
       "      <td>NaN</td>\n",
       "      <td>-1147.161</td>\n",
       "      <td>NaN</td>\n",
       "      <td>0.000</td>\n",
       "      <td>NaN</td>\n",
       "      <td>NaN</td>\n",
       "      <td>NaN</td>\n",
       "      <td>0.000</td>\n",
       "      <td>0.000</td>\n",
       "      <td>0.000</td>\n",
       "      <td>0.000</td>\n",
       "      <td>0.000</td>\n",
       "      <td>0.000</td>\n",
       "      <td>0.000</td>\n",
       "      <td>0.000</td>\n",
       "      <td>0.000</td>\n",
       "      <td>0.000</td>\n",
       "      <td>0.000</td>\n",
       "      <td>0.000</td>\n",
       "      <td>0.000</td>\n",
       "      <td>0.000</td>\n",
       "      <td>0.000</td>\n",
       "      <td>0.000</td>\n",
       "      <td>0.000</td>\n",
       "      <td>0.000</td>\n",
       "      <td>0.000</td>\n",
       "      <td>0.000</td>\n",
       "      <td>0.000</td>\n",
       "      <td>0.000</td>\n",
       "      <td>5469.663</td>\n",
       "      <td>6697.474</td>\n",
       "      <td>-7891.418</td>\n",
       "      <td>536.262</td>\n",
       "      <td>-289.771</td>\n",
       "      <td>-5442.036</td>\n",
       "      <td>-20998315.740</td>\n",
       "      <td>5644.723</td>\n",
       "      <td>-1516.691</td>\n",
       "      <td>1967.700</td>\n",
       "      <td>1842.366</td>\n",
       "      <td>-1804.775</td>\n",
       "      <td>935.687</td>\n",
       "      <td>185.055</td>\n",
       "      <td>-129.964</td>\n",
       "      <td>26.707</td>\n",
       "      <td>-1989.526</td>\n",
       "      <td>-87.111</td>\n",
       "      <td>20861890.734</td>\n",
       "      <td>FIREBALL CINNAMON WHISKEY</td>\n",
       "    </tr>\n",
       "  </tbody>\n",
       "</table>\n",
       "<p>1102 rows × 60 columns</p>\n",
       "</div>"
      ],
      "text/plain": [
       "         time_series_timestamp time_series_type  time_series_data  \\\n",
       "0    2021-07-26 00:00:00+00:00          history          7926.000   \n",
       "1    2021-07-27 00:00:00+00:00          history         11604.000   \n",
       "2    2021-07-28 00:00:00+00:00          history          9014.000   \n",
       "3    2021-07-29 00:00:00+00:00          history          9223.000   \n",
       "4    2021-07-30 00:00:00+00:00          history         13095.000   \n",
       "...                        ...              ...               ...   \n",
       "1097 2024-07-27 00:00:00+00:00         forecast         25961.965   \n",
       "1098 2024-07-28 00:00:00+00:00         forecast         24234.674   \n",
       "1099 2024-07-29 00:00:00+00:00         forecast         26730.017   \n",
       "1100 2024-07-30 00:00:00+00:00         forecast         27922.099   \n",
       "1101 2024-07-31 00:00:00+00:00         forecast         23923.471   \n",
       "\n",
       "      time_series_adjusted_data  standard_error  confidence_level  \\\n",
       "0                      7926.000         985.679               NaN   \n",
       "1                     12249.551         985.679               NaN   \n",
       "2                      8133.156         985.679               NaN   \n",
       "3                     10558.416         985.679               NaN   \n",
       "4                     11792.058         985.679               NaN   \n",
       "...                         ...             ...               ...   \n",
       "1097                  25961.965        1045.640             0.800   \n",
       "1098                  24234.674        1192.517             0.800   \n",
       "1099                  26730.017        1432.821             0.800   \n",
       "1100                  27922.099        1433.034             0.800   \n",
       "1101                  23923.471        1433.246             0.800   \n",
       "\n",
       "      prediction_interval_lower_bound  prediction_interval_upper_bound  \\\n",
       "0                                 NaN                              NaN   \n",
       "1                                 NaN                              NaN   \n",
       "2                                 NaN                              NaN   \n",
       "3                                 NaN                              NaN   \n",
       "4                                 NaN                              NaN   \n",
       "...                               ...                              ...   \n",
       "1097                        24621.155                        27302.776   \n",
       "1098                        22705.524                        25763.823   \n",
       "1099                        24892.729                        28567.304   \n",
       "1100                        26084.540                        29759.659   \n",
       "1101                        22085.639                        25761.303   \n",
       "\n",
       "          trend  seasonal_period_yearly  seasonal_period_quarterly  \\\n",
       "0         0.000                -902.498                        NaN   \n",
       "1    128248.692                -695.039                        NaN   \n",
       "2    127792.979                -161.869                        NaN   \n",
       "3    128703.571                -946.887                        NaN   \n",
       "4    127420.748                -566.581                        NaN   \n",
       "...         ...                     ...                        ...   \n",
       "1097 158953.010                -676.623                        NaN   \n",
       "1098 158064.675                -578.009                        NaN   \n",
       "1099 158583.536               -1001.818                        NaN   \n",
       "1100 158612.799                -966.147                        NaN   \n",
       "1101 158642.062               -1300.768                        NaN   \n",
       "\n",
       "      seasonal_period_monthly  seasonal_period_weekly  seasonal_period_daily  \\\n",
       "0                         NaN                  74.696                    NaN   \n",
       "1                         NaN                1130.011                    NaN   \n",
       "2                         NaN                -743.573                    NaN   \n",
       "3                         NaN                -831.460                    NaN   \n",
       "4                         NaN                 245.619                    NaN   \n",
       "...                       ...                     ...                    ...   \n",
       "1097                      NaN                 -43.760                    NaN   \n",
       "1098                      NaN                -981.330                    NaN   \n",
       "1099                      NaN                1418.961                    NaN   \n",
       "1100                      NaN                2546.109                    NaN   \n",
       "1101                      NaN               -1147.161                    NaN   \n",
       "\n",
       "      holiday_effect  spikes_and_dips  step_changes   residual  \\\n",
       "0              0.000              NaN           NaN 128219.521   \n",
       "1              0.000              NaN           NaN   -645.551   \n",
       "2              0.000              NaN           NaN    880.844   \n",
       "3              0.000              NaN           NaN  -1335.416   \n",
       "4              0.000              NaN           NaN   1302.942   \n",
       "...              ...              ...           ...        ...   \n",
       "1097           0.000              NaN           NaN        NaN   \n",
       "1098           0.000              NaN           NaN        NaN   \n",
       "1099           0.000              NaN           NaN        NaN   \n",
       "1100           0.000              NaN           NaN        NaN   \n",
       "1101           0.000              NaN           NaN        NaN   \n",
       "\n",
       "      holiday_effect_EasterMonday  holiday_effect_Halloween  \\\n",
       "0                           0.000                     0.000   \n",
       "1                           0.000                     0.000   \n",
       "2                           0.000                     0.000   \n",
       "3                           0.000                     0.000   \n",
       "4                           0.000                     0.000   \n",
       "...                           ...                       ...   \n",
       "1097                        0.000                     0.000   \n",
       "1098                        0.000                     0.000   \n",
       "1099                        0.000                     0.000   \n",
       "1100                        0.000                     0.000   \n",
       "1101                        0.000                     0.000   \n",
       "\n",
       "      holiday_effect_MardiGras  holiday_effect_StPatrickDay  \\\n",
       "0                        0.000                        0.000   \n",
       "1                        0.000                        0.000   \n",
       "2                        0.000                        0.000   \n",
       "3                        0.000                        0.000   \n",
       "4                        0.000                        0.000   \n",
       "...                        ...                          ...   \n",
       "1097                     0.000                        0.000   \n",
       "1098                     0.000                        0.000   \n",
       "1099                     0.000                        0.000   \n",
       "1100                     0.000                        0.000   \n",
       "1101                     0.000                        0.000   \n",
       "\n",
       "      holiday_effect_US_ColumbusDay  holiday_effect_US_ElectionDay  \\\n",
       "0                             0.000                          0.000   \n",
       "1                             0.000                          0.000   \n",
       "2                             0.000                          0.000   \n",
       "3                             0.000                          0.000   \n",
       "4                             0.000                          0.000   \n",
       "...                             ...                            ...   \n",
       "1097                          0.000                          0.000   \n",
       "1098                          0.000                          0.000   \n",
       "1099                          0.000                          0.000   \n",
       "1100                          0.000                          0.000   \n",
       "1101                          0.000                          0.000   \n",
       "\n",
       "      holiday_effect_US_IndependenceDay  holiday_effect_US_Juneteenth  \\\n",
       "0                                 0.000                         0.000   \n",
       "1                                 0.000                         0.000   \n",
       "2                                 0.000                         0.000   \n",
       "3                                 0.000                         0.000   \n",
       "4                                 0.000                         0.000   \n",
       "...                                 ...                           ...   \n",
       "1097                              0.000                         0.000   \n",
       "1098                              0.000                         0.000   \n",
       "1099                              0.000                         0.000   \n",
       "1100                              0.000                         0.000   \n",
       "1101                              0.000                         0.000   \n",
       "\n",
       "      holiday_effect_US_LaborDay  holiday_effect_US_MemorialDay  \\\n",
       "0                          0.000                          0.000   \n",
       "1                          0.000                          0.000   \n",
       "2                          0.000                          0.000   \n",
       "3                          0.000                          0.000   \n",
       "4                          0.000                          0.000   \n",
       "...                          ...                            ...   \n",
       "1097                       0.000                          0.000   \n",
       "1098                       0.000                          0.000   \n",
       "1099                       0.000                          0.000   \n",
       "1100                       0.000                          0.000   \n",
       "1101                       0.000                          0.000   \n",
       "\n",
       "      holiday_effect_US_MLKDay  holiday_effect_US_PresidentDay  \\\n",
       "0                        0.000                           0.000   \n",
       "1                        0.000                           0.000   \n",
       "2                        0.000                           0.000   \n",
       "3                        0.000                           0.000   \n",
       "4                        0.000                           0.000   \n",
       "...                        ...                             ...   \n",
       "1097                     0.000                           0.000   \n",
       "1098                     0.000                           0.000   \n",
       "1099                     0.000                           0.000   \n",
       "1100                     0.000                           0.000   \n",
       "1101                     0.000                           0.000   \n",
       "\n",
       "      holiday_effect_US_Superbowl  holiday_effect_VeteranDay  \\\n",
       "0                           0.000                      0.000   \n",
       "1                           0.000                      0.000   \n",
       "2                           0.000                      0.000   \n",
       "3                           0.000                      0.000   \n",
       "4                           0.000                      0.000   \n",
       "...                           ...                        ...   \n",
       "1097                        0.000                      0.000   \n",
       "1098                        0.000                      0.000   \n",
       "1099                        0.000                      0.000   \n",
       "1100                        0.000                      0.000   \n",
       "1101                        0.000                      0.000   \n",
       "\n",
       "      holiday_effect_Christmas  holiday_effect_MothersDay  \\\n",
       "0                        0.000                      0.000   \n",
       "1                        0.000                      0.000   \n",
       "2                        0.000                      0.000   \n",
       "3                        0.000                      0.000   \n",
       "4                        0.000                      0.000   \n",
       "...                        ...                        ...   \n",
       "1097                     0.000                      0.000   \n",
       "1098                     0.000                      0.000   \n",
       "1099                     0.000                      0.000   \n",
       "1100                     0.000                      0.000   \n",
       "1101                     0.000                      0.000   \n",
       "\n",
       "      holiday_effect_NewYear  holiday_effect_US_DaylightSavingEnd  \\\n",
       "0                      0.000                                0.000   \n",
       "1                      0.000                                0.000   \n",
       "2                      0.000                                0.000   \n",
       "3                      0.000                                0.000   \n",
       "4                      0.000                                0.000   \n",
       "...                      ...                                  ...   \n",
       "1097                   0.000                                0.000   \n",
       "1098                   0.000                                0.000   \n",
       "1099                   0.000                                0.000   \n",
       "1100                   0.000                                0.000   \n",
       "1101                   0.000                                0.000   \n",
       "\n",
       "      holiday_effect_US_DaylightSavingStart  holiday_effect_US_Thanksgiving  \\\n",
       "0                                     0.000                           0.000   \n",
       "1                                     0.000                           0.000   \n",
       "2                                     0.000                           0.000   \n",
       "3                                     0.000                           0.000   \n",
       "4                                     0.000                           0.000   \n",
       "...                                     ...                             ...   \n",
       "1097                                  0.000                           0.000   \n",
       "1098                                  0.000                           0.000   \n",
       "1099                                  0.000                           0.000   \n",
       "1100                                  0.000                           0.000   \n",
       "1101                                  0.000                           0.000   \n",
       "\n",
       "      holiday_effect_Valentine  attribution_item_name  \\\n",
       "0                        0.000                  0.000   \n",
       "1                        0.000                  0.000   \n",
       "2                        0.000                  0.000   \n",
       "3                        0.000                  0.000   \n",
       "4                        0.000                  0.000   \n",
       "...                        ...                    ...   \n",
       "1097                     0.000                  0.000   \n",
       "1098                     0.000                  0.000   \n",
       "1099                     0.000                  0.000   \n",
       "1100                     0.000                  0.000   \n",
       "1101                     0.000                  0.000   \n",
       "\n",
       "      attribution_avg_bottle_price  attribution_total_volume_sold_liters  \\\n",
       "0                         5362.799                              4355.729   \n",
       "1                         6227.156                              6148.600   \n",
       "2                         5653.021                              4557.189   \n",
       "3                         6353.340                              6516.357   \n",
       "4                         5627.785                              6835.439   \n",
       "...                            ...                                   ...   \n",
       "1097                      5469.663                              6697.474   \n",
       "1098                      5469.663                              6697.474   \n",
       "1099                      5469.663                              6697.474   \n",
       "1100                      5469.663                              6697.474   \n",
       "1101                      5469.663                              6697.474   \n",
       "\n",
       "      attribution_avg_bottle_cost  attribution_day_of_week  \\\n",
       "0                       -7729.337                  279.216   \n",
       "1                       -8985.696                  418.824   \n",
       "2                       -8152.675                  558.432   \n",
       "3                       -9163.225                  698.040   \n",
       "4                       -8125.363                  837.648   \n",
       "...                           ...                      ...   \n",
       "1097                    -7891.418                  536.262   \n",
       "1098                    -7891.418                  536.262   \n",
       "1099                    -7891.418                  536.262   \n",
       "1100                    -7891.418                  536.262   \n",
       "1101                    -7891.418                  536.262   \n",
       "\n",
       "      attribution_week_of_year  attribution_month  attribution_year  \\\n",
       "0                     -329.566          -5833.288     -20981805.066   \n",
       "1                     -329.566          -5833.288     -20981805.066   \n",
       "2                     -329.566          -5833.288     -20981805.066   \n",
       "3                     -329.566          -5833.288     -20981805.066   \n",
       "4                     -329.566          -5833.288     -20981805.066   \n",
       "...                        ...                ...               ...   \n",
       "1097                  -289.771          -5442.036     -20998315.740   \n",
       "1098                  -289.771          -5442.036     -20998315.740   \n",
       "1099                  -289.771          -5442.036     -20998315.740   \n",
       "1100                  -289.771          -5442.036     -20998315.740   \n",
       "1101                  -289.771          -5442.036     -20998315.740   \n",
       "\n",
       "      attribution_ma3_total_amount_sold  attribution_ma3_avg_bottle_price  \\\n",
       "0                              5273.932                         -1600.395   \n",
       "1                              5543.486                         -1665.110   \n",
       "2                              5058.608                         -1593.398   \n",
       "3                              5288.463                         -1684.350   \n",
       "4                              5552.700                         -1630.129   \n",
       "...                                 ...                               ...   \n",
       "1097                           5644.723                         -1516.691   \n",
       "1098                           5644.723                         -1516.691   \n",
       "1099                           5644.723                         -1516.691   \n",
       "1100                           5644.723                         -1516.691   \n",
       "1101                           5644.723                         -1516.691   \n",
       "\n",
       "      attribution_ma7_total_amount_sold  attribution_ma7_avg_bottle_price  \\\n",
       "0                              1499.453                          1773.509   \n",
       "1                              1804.152                          1960.418   \n",
       "2                              1859.700                          1956.170   \n",
       "3                              1828.061                          2000.773   \n",
       "4                              1924.754                          1981.657   \n",
       "...                                 ...                               ...   \n",
       "1097                           1967.700                          1842.366   \n",
       "1098                           1967.700                          1842.366   \n",
       "1099                           1967.700                          1842.366   \n",
       "1100                           1967.700                          1842.366   \n",
       "1101                           1967.700                          1842.366   \n",
       "\n",
       "      attribution_ma30_total_amount_sold  attribution_ma30_avg_bottle_price  \\\n",
       "0                              -1526.533                           1014.958   \n",
       "1                              -1527.741                           1014.958   \n",
       "2                              -1510.969                           1016.034   \n",
       "3                              -1520.200                           1017.111   \n",
       "4                              -1544.984                           1016.034   \n",
       "...                                  ...                                ...   \n",
       "1097                           -1804.775                            935.687   \n",
       "1098                           -1804.775                            935.687   \n",
       "1099                           -1804.775                            935.687   \n",
       "1100                           -1804.775                            935.687   \n",
       "1101                           -1804.775                            935.687   \n",
       "\n",
       "      attribution_temperature  attribution_rainfall  attribution_snowfall  \\\n",
       "0                     262.241               -60.957                 0.000   \n",
       "1                     263.118               -73.411                 0.000   \n",
       "2                     267.571              -116.180                 0.000   \n",
       "3                     266.239              -116.016                 0.000   \n",
       "4                     258.069              -158.784                 0.000   \n",
       "...                       ...                   ...                   ...   \n",
       "1097                  185.055              -129.964                26.707   \n",
       "1098                  185.055              -129.964                26.707   \n",
       "1099                  185.055              -129.964                26.707   \n",
       "1100                  185.055              -129.964                26.707   \n",
       "1101                  185.055              -129.964                26.707   \n",
       "\n",
       "      attribution_lag_1_total_amount_sold  \\\n",
       "0                               -2201.298   \n",
       "1                               -1484.893   \n",
       "2                               -2173.946   \n",
       "3                               -1688.724   \n",
       "4                               -1727.879   \n",
       "...                                   ...   \n",
       "1097                            -1989.526   \n",
       "1098                            -1989.526   \n",
       "1099                            -1989.526   \n",
       "1100                            -1989.526   \n",
       "1101                            -1989.526   \n",
       "\n",
       "      attribution_lag_7_total_amount_sold  attribution___INTERCEPT__  \\\n",
       "0                                 -91.850               20861890.734   \n",
       "1                                  -0.788               20861890.734   \n",
       "2                                 -56.753               20861890.734   \n",
       "3                                 -85.491               20861890.734   \n",
       "4                                 -77.490               20861890.734   \n",
       "...                                   ...                        ...   \n",
       "1097                              -87.111               20861890.734   \n",
       "1098                              -87.111               20861890.734   \n",
       "1099                              -87.111               20861890.734   \n",
       "1100                              -87.111               20861890.734   \n",
       "1101                              -87.111               20861890.734   \n",
       "\n",
       "                      item_name  \n",
       "0     FIREBALL CINNAMON WHISKEY  \n",
       "1     FIREBALL CINNAMON WHISKEY  \n",
       "2     FIREBALL CINNAMON WHISKEY  \n",
       "3     FIREBALL CINNAMON WHISKEY  \n",
       "4     FIREBALL CINNAMON WHISKEY  \n",
       "...                         ...  \n",
       "1097  FIREBALL CINNAMON WHISKEY  \n",
       "1098  FIREBALL CINNAMON WHISKEY  \n",
       "1099  FIREBALL CINNAMON WHISKEY  \n",
       "1100  FIREBALL CINNAMON WHISKEY  \n",
       "1101  FIREBALL CINNAMON WHISKEY  \n",
       "\n",
       "[1102 rows x 60 columns]"
      ]
     },
     "execution_count": 166,
     "metadata": {},
     "output_type": "execute_result"
    }
   ],
   "source": [
    "explain_df = explain_model(client, item_name=items_list[0])\n",
    "explain_df"
   ]
  },
  {
   "cell_type": "code",
   "execution_count": null,
   "id": "c1303c36-e569-45c1-98d4-74af5c921994",
   "metadata": {},
   "outputs": [],
   "source": []
  }
 ],
 "metadata": {
  "kernelspec": {
   "display_name": "Python 3 (ipykernel)",
   "language": "python",
   "name": "python3"
  },
  "language_info": {
   "codemirror_mode": {
    "name": "ipython",
    "version": 3
   },
   "file_extension": ".py",
   "mimetype": "text/x-python",
   "name": "python",
   "nbconvert_exporter": "python",
   "pygments_lexer": "ipython3",
   "version": "3.8.19"
  }
 },
 "nbformat": 4,
 "nbformat_minor": 5
}
